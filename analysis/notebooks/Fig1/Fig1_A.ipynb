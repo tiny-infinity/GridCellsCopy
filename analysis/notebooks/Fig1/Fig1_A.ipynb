{
 "cells": [
  {
   "cell_type": "code",
   "execution_count": 1,
   "id": "6512a279",
   "metadata": {},
   "outputs": [
    {
     "name": "stdout",
     "output_type": "stream",
     "text": [
      "/data/main/2024/GridCellsCond\n"
     ]
    }
   ],
   "source": [
    "#Run this notebook in the root directory of the project\n",
    "%cd ../../../"
   ]
  },
  {
   "cell_type": "code",
   "execution_count": 2,
   "id": "1061c143-c9b8-481c-9f97-23141c46f5e4",
   "metadata": {},
   "outputs": [],
   "source": [
    "import matplotlib.pyplot as plt\n",
    "import numpy as np\n",
    "from matplotlib.pyplot import cm\n",
    "import seaborn as sns\n",
    "import sim_utils as s_utils\n",
    "import analysis_utils as a_utils\n"
   ]
  },
  {
   "cell_type": "markdown",
   "id": "007a9fa0",
   "metadata": {},
   "source": [
    "## Subthreshold dynamics of stellate cells"
   ]
  },
  {
   "cell_type": "markdown",
   "id": "39fc5e3b",
   "metadata": {},
   "source": [
    "### Post-inhibitory rebound"
   ]
  },
  {
   "cell_type": "code",
   "execution_count": 3,
   "id": "45a3bf96",
   "metadata": {},
   "outputs": [
    {
     "data": {
      "image/png": "[encoded data removed]",
      "text/plain": [
       "<Figure size 150x104 with 1 Axes>"
      ]
     },
     "metadata": {},
     "output_type": "display_data"
    }
   ],
   "source": [
    "plt.style.use(\"analysis/config/paper.mplstyle\")\n",
    "fig,ax= plt.subplots(1,1,figsize=(1.5,1.04))\n",
    "color = cm.Blues(np.linspace(0.4,1,5))\n",
    "\n",
    "input_strength_arr = np.array([0.15,0.175,0.25,0.65,2])\n",
    "sim_id = \"VALD-ACVT-STDN-S-m-1a\"\n",
    "n_trials=1\n",
    "sim_num = 0\n",
    "for i,inhib_weight in enumerate(input_strength_arr):\n",
    "    for tr in range(n_trials):\n",
    "        params = s_utils.load_sim_params(sim_id)[f\"{i}\"]\n",
    "        stell_v=s_utils.load_data(sim_id,\"stell_v\",sim_num=i)\n",
    "        t=np.arange(0,params[\"sim_dur\"],0.025)/1000\n",
    "        ax.plot(t,stell_v,label=input_strength_arr[i],linewidth=0.75,c=color[i])\n",
    "\n",
    "\n",
    "plt.xlim([1.475,1.73])\n",
    "plt.ylim([-90,60])\n",
    "plt.legend(fontsize=6,loc=\"upper right\",ncol=1,labelspacing=0.3,borderaxespad=0,handlelength=1)\n",
    "# ax.tick_params(axis='both', which='major', labelsize=7)\n",
    "plt.savefig('analysis/figures/Fig1/Fig1_A_top_left.svg')\n",
    "\n"
   ]
  },
  {
   "cell_type": "markdown",
   "id": "b3ddc316",
   "metadata": {},
   "source": [
    "### Depolarizing sag"
   ]
  },
  {
   "cell_type": "code",
   "execution_count": 10,
   "id": "7a6ac376",
   "metadata": {},
   "outputs": [
    {
     "data": {
      "image/png": "[encoded data removed]",
      "text/plain": [
       "<Figure size 150x104 with 1 Axes>"
      ]
     },
     "metadata": {},
     "output_type": "display_data"
    }
   ],
   "source": [
    "\n",
    "plt.style.use(\"analysis/config/paper.mplstyle\")\n",
    "fig,ax= plt.subplots(1,1,figsize=(1.5,1.04))\n",
    "color = cm.Blues(np.linspace(0.4,1,5))\n",
    "\n",
    "hyper_dc_arr = [-3.5e-3,-5.5e-3,-7.5e-3,-9.5e-3,-1.15e-2]\n",
    "n_trials=1\n",
    "sim_num = 0\n",
    "sim_dur = float(1000)\n",
    "sim_id = \"VALD-ACVT-STDN-S-m-2a\"\n",
    "for i,hyper_dc in enumerate(hyper_dc_arr):\n",
    "    for tr in range(n_trials):\n",
    "        params = s_utils.load_sim_params(sim_id)[f\"{i}\"]\n",
    "        stell_v=s_utils.load_data(sim_id,\"stell_v\",sim_num=i)\n",
    "        t_1 = np.arange(0,params[\"sim_dur\"]+0.025,0.025)/1000\n",
    "        ax.plot(t_1,stell_v,label=\"Depolarising Sag\",linewidth=0.75,c=color[i])\n",
    "\n",
    "\n",
    "ax.spines[\"top\"].set_visible(False)\n",
    "ax.spines[\"right\"].set_visible(False)\n",
    "plt.xlim([0.1,1])\n",
    "plt.ylim([-75,-35])\n",
    "plt.draw()\n",
    "ax.set_yticks([-70,-55, -40])\n",
    "plt.savefig('analysis/figures/Fig1/Fig1_A_top_right.svg')\n",
    "\n"
   ]
  },
  {
   "cell_type": "markdown",
   "id": "4f4cf177",
   "metadata": {},
   "source": [
    "### Depolarizing sag (inset)"
   ]
  },
  {
   "cell_type": "code",
   "execution_count": 5,
   "id": "c8b5dfb7",
   "metadata": {},
   "outputs": [
    {
     "data": {
      "image/png": "[encoded data removed]",
      "text/plain": [
       "<Figure size 68x20 with 1 Axes>"
      ]
     },
     "metadata": {},
     "output_type": "display_data"
    }
   ],
   "source": [
    "from network_configs.instrumentations.stdn_instr import input_profiles\n",
    "plt.style.use(\"analysis/config/paper.mplstyle\")\n",
    "fig,ax= plt.subplots(1,1,figsize=(0.68,0.2))\n",
    "color = cm.Blues(np.linspace(0.4,1,5))\n",
    "hyper_dc_arr = [-3.5e-3,-5.5e-3,-7.5e-3,-9.5e-3,-1.15e-2]\n",
    "n_trials=1\n",
    "sim_num = 0\n",
    "sim_dur = float(1000)\n",
    "sim_id = \"VALD-ACVT-STDN-S-m-2a\"\n",
    "for i,hyper_dc in enumerate(hyper_dc_arr):\n",
    "    for tr in range(n_trials):\n",
    "        params = s_utils.load_sim_params(sim_id)[f\"{i}\"]\n",
    "        stell_v=s_utils.load_data(sim_id,\"stell_v\",sim_num=i)\n",
    "        t_1 = np.arange(0,params[\"sim_dur\"]+0.025,0.025)/1000\n",
    "        input_prof = input_profiles(params)\n",
    "        ax.plot(t_1,input_prof,label=\"Depolarising Sag\",linewidth=0.5,c=color[i])\n",
    "\n",
    "\n",
    "\n",
    "ax.spines[\"top\"].set_visible(False)\n",
    "ax.spines[\"right\"].set_visible(False)\n",
    "ax.tick_params(axis='both', which='major', labelsize=6)\n",
    "plt.savefig('analysis/figures/Fig1/Fig1_A_top_right_inset.svg')\n"
   ]
  },
  {
   "cell_type": "markdown",
   "id": "790ac7fe",
   "metadata": {},
   "source": [
    "### Subthrehshold oscillations"
   ]
  },
  {
   "cell_type": "code",
   "execution_count": 11,
   "id": "f66f7189",
   "metadata": {},
   "outputs": [
    {
     "data": {
      "image/png": "[encoded data removed]",
      "text/plain": [
       "<Figure size 150x104 with 1 Axes>"
      ]
     },
     "metadata": {},
     "output_type": "display_data"
    }
   ],
   "source": [
    "plt.style.use(\"analysis/config/paper.mplstyle\")\n",
    "sim_id = \"VALD-ACVT-STDN-S-s-3a\"\n",
    "params = s_utils.load_sim_params(sim_id)\n",
    "stell_spks_1,inrnrn_spks=s_utils.load_spikes(sim_id)\n",
    "stell_v_1=s_utils.load_data(sim_id,\"stell_v\")\n",
    "t_1 = np.arange(0,params[\"sim_dur\"]+0.025,0.025)/1000\n",
    "fig,ax= plt.subplots(1,1,figsize=(1.5,1.04))\n",
    "ax.plot(t_1,stell_v_1,color =\"k\",label=\"Subthreshold Oscillations\",linewidth=0.5)\n",
    "ax.tick_params(axis='both', which='major', labelsize=7)\n",
    "ax.spines[\"top\"].set_visible(False)\n",
    "ax.spines[\"right\"].set_visible(False)\n",
    "plt.xlim([2,9.155])\n",
    "plt.ylim([-55.5,-48])\n",
    "plt.draw()\n",
    "ax.set_yticks([-54,-51, -48])\n",
    "plt.savefig('analysis/figures/Fig1/Fig1_A_bottom_left.svg')\n",
    "\n"
   ]
  },
  {
   "cell_type": "markdown",
   "id": "b06fa0c1",
   "metadata": {},
   "source": [
    "### Subthrehshold oscillations (inset)"
   ]
  },
  {
   "cell_type": "code",
   "execution_count": 7,
   "id": "746ac346",
   "metadata": {},
   "outputs": [
    {
     "name": "stdout",
     "output_type": "stream",
     "text": [
      "7.973048848961256\n"
     ]
    },
    {
     "data": {
      "image/png": "[encoded data removed]",
      "text/plain": [
       "<Figure size 53x39 with 1 Axes>"
      ]
     },
     "metadata": {},
     "output_type": "display_data"
    }
   ],
   "source": [
    "plt.style.use(\"analysis/config/paper.mplstyle\")\n",
    "f,y,p=a_utils.calc_fft(stell_v_1[int(250/0.025):int(9155/0.025)])\n",
    "fourier_transform = np.fft.fft(stell_v_1[int(250/0.025):int(9155/0.025)])\n",
    "freq = np.fft.fftfreq(len(stell_v_1[int(250/0.025):int(9155/0.025)]), d=0.025*1e-3)\n",
    "\n",
    "# Calculate impedance\n",
    "impedance_real = np.real(fourier_transform)\n",
    "impedance_imaginary = np.imag(fourier_transform)\n",
    "impedance_magnitude = np.abs(fourier_transform)\n",
    "%matplotlib inline\n",
    "fig,ax= plt.subplots(1,1,figsize=(0.53,0.39))\n",
    "ax.plot(freq[1:150],impedance_magnitude[1:150]/(np.max(impedance_magnitude[1:150])),color = \"k\",label=\"Subthreshold Oscillations\",linewidth=0.5)\n",
    "ax.tick_params(axis='both', which='major', labelsize=7)\n",
    "ax.spines[\"top\"].set_visible(False)\n",
    "ax.spines[\"right\"].set_visible(False)\n",
    "plt.savefig('analysis/figures/Fig1/Fig1_A_bottom_left_inset.svg')\n",
    "print(f[np.argmax(impedance_magnitude[1:150])+1])"
   ]
  },
  {
   "cell_type": "markdown",
   "id": "6ed769eb",
   "metadata": {},
   "source": [
    "### MP resonance"
   ]
  },
  {
   "cell_type": "code",
   "execution_count": 15,
   "id": "5cc9cd49",
   "metadata": {},
   "outputs": [
    {
     "data": {
      "image/png": "[encoded data removed]",
      "text/plain": [
       "<Figure size 150x104 with 1 Axes>"
      ]
     },
     "metadata": {},
     "output_type": "display_data"
    }
   ],
   "source": [
    "\n",
    "plt.style.use(\"analysis/config/paper.mplstyle\")\n",
    "sim_id = \"VALD-ACVT-STDN-S-s-4a\"\n",
    "params = s_utils.load_sim_params(sim_id)\n",
    "stell_spks_1,inrnrn_spks=s_utils.load_spikes(sim_id)\n",
    "stell_v_1=s_utils.load_data(sim_id,\"stell_v\")\n",
    "t_1 = np.arange(0,params[\"sim_dur\"]+0.025,0.025)/1000\n",
    "fig,ax= plt.subplots(1,1,figsize=(1.5,1.04))\n",
    "ax.plot(t_1,stell_v_1,color =\"k\",label=\"MP Resonance\",linewidth=0.5)\n",
    "\n",
    "ax.spines[\"top\"].set_visible(False)\n",
    "ax.spines[\"right\"].set_visible(False)\n",
    "plt.xlim([2,10])\n",
    "plt.ylim([-53.6,-53.3])\n",
    "plt.draw()\n",
    "ax.set_yticks([-53.6, -53.3])\n",
    "plt.savefig('analysis/figures/Fig1/Fig1_A_bottom_right.svg')\n",
    "\n"
   ]
  },
  {
   "cell_type": "markdown",
   "id": "1aa235cf",
   "metadata": {},
   "source": [
    "### MP resonance (inset)"
   ]
  },
  {
   "cell_type": "code",
   "execution_count": 9,
   "id": "56314a69",
   "metadata": {},
   "outputs": [
    {
     "name": "stdout",
     "output_type": "stream",
     "text": [
      "7.799980500048749\n"
     ]
    },
    {
     "data": {
      "image/png": "[encoded data removed]",
      "text/plain": [
       "<Figure size 35x26 with 1 Axes>"
      ]
     },
     "metadata": {},
     "output_type": "display_data"
    }
   ],
   "source": [
    "plt.style.use(\"analysis/config/paper.mplstyle\")\n",
    "f,y,p=a_utils.calc_fft(stell_v_1[:])\n",
    "fourier_transform = np.fft.fft(stell_v_1[int(2000/0.025)::])\n",
    "freq = np.fft.fftfreq(len(stell_v_1[int(2000/0.025)::]), d=0.025*1e-3)\n",
    "# Calculate impedance\n",
    "impedance_real = np.real(fourier_transform)\n",
    "impedance_imaginary = np.imag(fourier_transform)\n",
    "impedance_magnitude = np.abs(fourier_transform)\n",
    "real = np.real(p)\n",
    "imag = np.imag(p)\n",
    "fig,ax= plt.subplots(1,1,figsize=(0.35,0.26))\n",
    "ax.plot(freq[1:140],impedance_magnitude[1:140]/np.max(impedance_magnitude[1:140]),color = \"k\",label=\"Subthreshold Oscillations\",linewidth=0.5)\n",
    "ax.tick_params(axis='both', which='major', labelsize=7)\n",
    "ax.spines[\"top\"].set_visible(False)\n",
    "ax.spines[\"right\"].set_visible(False)\n",
    "plt.savefig('analysis/figures/Fig1/Fig1_A_bottom_right_inset.svg')\n",
    "print(f[np.argmax(p[1:140])+1])"
   ]
  }
 ],
 "metadata": {
  "kernelspec": {
   "display_name": "gridcellscond",
   "language": "python",
   "name": "python3"
  },
  "language_info": {
   "codemirror_mode": {
    "name": "ipython",
    "version": 3
   },
   "file_extension": ".py",
   "mimetype": "text/x-python",
   "name": "python",
   "nbconvert_exporter": "python",
   "pygments_lexer": "ipython3",
   "version": "3.12.3"
  }
 },
 "nbformat": 4,
 "nbformat_minor": 5
}
