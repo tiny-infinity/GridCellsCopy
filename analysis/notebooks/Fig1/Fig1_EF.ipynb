{
 "cells": [
  {
   "cell_type": "code",
   "execution_count": 2,
   "metadata": {},
   "outputs": [
    {
     "name": "stdout",
     "output_type": "stream",
     "text": [
      "/data/main/2024/GridCellsCond\n"
     ]
    }
   ],
   "source": [
    "#Run this notebook in the root directory of the project\n",
    "%cd ../../../"
   ]
  },
  {
   "cell_type": "code",
   "execution_count": 3,
   "metadata": {},
   "outputs": [],
   "source": [
    "import matplotlib.pyplot as plt\n",
    "import numpy as np\n",
    "import sim_utils as s_utils\n",
    "import analysis_utils as a_utils"
   ]
  },
  {
   "cell_type": "markdown",
   "metadata": {},
   "source": [
    "# 1D Activity Pattern"
   ]
  },
  {
   "cell_type": "code",
   "execution_count": 4,
   "metadata": {},
   "outputs": [],
   "source": [
    "sim_id = 'VALD-ACVT-1D-S-s-1a'\n",
    "params=s_utils.load_sim_params(sim_id)\n",
    "stell_spikes_l,intrnrn_spikes_l=s_utils.load_spikes(sim_id=sim_id)"
   ]
  },
  {
   "cell_type": "code",
   "execution_count": 6,
   "metadata": {},
   "outputs": [
    {
     "name": "stderr",
     "output_type": "stream",
     "text": [
      "/tmp/ipykernel_1512147/1218976852.py:16: UserWarning: set_ticklabels() should only be used with a fixed number of ticks, i.e. after set_ticks() or using a FixedLocator.\n",
      "  axs[2].set(ylabel='',yticks=[],xticklabels=[0,0,2,4,6])\n"
     ]
    },
    {
     "data": {
      "image/png": "[encoded data removed]",
      "text/plain": [
       "<Figure size 224x201.9 with 3 Axes>"
      ]
     },
     "metadata": {},
     "output_type": "display_data"
    }
   ],
   "source": [
    "%matplotlib inline\n",
    "n_intrnrn=params['N_intrnrn']\n",
    "n_stell=params['N_stell']\n",
    "colors_stell = ['C{}'.format(i) for i in range(n_intrnrn)]\n",
    "colors_stell_1 =[\"k\" for i in range(n_intrnrn)]\n",
    "colors_stell_2 =[\"k\" for i in range(n_intrnrn)]\n",
    "colors_stell_3 =[\"k\" for i in range(n_intrnrn)]\n",
    "plt.style.use(\"analysis/config/paper.mplstyle\")\n",
    "fig,axs = plt.subplots(3,1,figsize=(2.24,2.019))\n",
    "axs[0].eventplot(stell_spikes_l[:n_stell//2],colors=colors_stell_3,linestyles='solid',linewidths=0.25)\n",
    "axs[0].tick_params(axis='both', which='major', labelsize=25)\n",
    "axs[0].set(ylabel='',yticks=[],xticks=[])\n",
    "axs[1].eventplot(intrnrn_spikes_l,colors=colors_stell_1,linestyles='solid',linewidths=0.25)\n",
    "axs[1].set(ylabel='',yticks=[],xticks=[])\n",
    "axs[2].eventplot(stell_spikes_l[n_stell//2:],colors=colors_stell_3,linestyles='solid',linewidths=0.25)\n",
    "axs[2].set(ylabel='',yticks=[],xticklabels=[0,0,2,4,6])\n",
    "fig.subplots_adjust(hspace=0)\n",
    "fig.subplots_adjust(top=0.94)\n",
    "plt.savefig('analysis/figures/Fig1/Fig1_E',dpi=500)\n",
    "plt.show()"
   ]
  },
  {
   "cell_type": "markdown",
   "metadata": {},
   "source": [
    "# Grid size and scale"
   ]
  },
  {
   "cell_type": "code",
   "execution_count": 5,
   "metadata": {},
   "outputs": [],
   "source": [
    "\"\"\"\n",
    "Load Data\n",
    "\"\"\"\n",
    "raw_data={}\n",
    "\n",
    "sim_id = \"VALD-ACVT-SIZE-S-s-1a\"\n",
    "raw_data[sim_id]={}\n",
    "params = s_utils.load_sim_params(sim_id)\n",
    "stell_spks_l, intrnrn_spks_l = s_utils.load_spikes(sim_id)\n",
    "raw_data[sim_id][\"stell_spks\"] = stell_spks_l\n",
    "raw_data[sim_id][\"intrnrn_spks\"]=intrnrn_spks_l\n",
    "raw_data[sim_id][\"params\"] =params\n",
    "\n",
    "sim_id = \"VALD-ACVT-SIZE-S-s-2a\"\n",
    "raw_data[sim_id]={}\n",
    "params = s_utils.load_sim_params(sim_id)\n",
    "stell_spks_l, intrnrn_spks_l = s_utils.load_spikes(sim_id)\n",
    "raw_data[sim_id][\"stell_spks\"] = stell_spks_l\n",
    "raw_data[sim_id][\"intrnrn_spks\"]=intrnrn_spks_l\n",
    "raw_data[sim_id][\"params\"] =params\n"
   ]
  },
  {
   "cell_type": "code",
   "execution_count": 6,
   "metadata": {},
   "outputs": [
    {
     "name": "stderr",
     "output_type": "stream",
     "text": [
      "/data/main/2024/GridCellsCond/.venv/lib/python3.12/site-packages/numpy/core/fromnumeric.py:3504: RuntimeWarning: Mean of empty slice.\n",
      "  return _methods._mean(a, axis=axis, dtype=dtype,\n",
      "/data/main/2024/GridCellsCond/.venv/lib/python3.12/site-packages/numpy/core/_methods.py:129: RuntimeWarning: invalid value encountered in scalar divide\n",
      "  ret = ret.dtype.type(ret / rcount)\n"
     ]
    },
    {
     "name": "stdout",
     "output_type": "stream",
     "text": [
      "field:  43.69233497806093\n",
      "scale:  95.98305084745763\n",
      "field:  21.859935757659905\n",
      "scale:  47.99999999999999\n"
     ]
    },
    {
     "data": {
      "image/png": "[encoded data removed]",
      "text/plain": [
       "<Figure size 189.5x67.2 with 1 Axes>"
      ]
     },
     "metadata": {},
     "output_type": "display_data"
    }
   ],
   "source": [
    "\n",
    "\"\"\"\n",
    "Grid scale and sizes across neurons\n",
    "\"\"\"\n",
    "%matplotlib inline\n",
    "sim_id = \"VALD-ACVT-SIZE-S-s-1a\"\n",
    "\n",
    "time_window_1a=6\n",
    "field_1a = a_utils.periodic_activity_all(raw_data[sim_id][\"stell_spks\"][:raw_data[sim_id][\"params\"][\"N_per_sheet\"]],raw_data[sim_id][\"params\"][\"sim_dur\"],window_t=200,stdev=9)\n",
    "print(\"field: \",a_utils.grid_field_sizes_neurons(raw_data[sim_id][\"stell_spks\"][:raw_data[sim_id][\"params\"][\"N_per_sheet\"]],raw_data[sim_id][\"params\"][\"sim_dur\"],win_size_t=200,win_size_n=9))\n",
    "print(\"scale: \",a_utils.grid_scale_neurons(raw_data[sim_id][\"stell_spks\"][:raw_data[sim_id][\"params\"][\"N_per_sheet\"]],raw_data[sim_id][\"params\"][\"sim_dur\"],win_size=200,stdev=9))\n",
    "neurons_x = np.arange(0,params[\"N_per_sheet\"])\n",
    "\n",
    "\n",
    "\n",
    "sim_id = \"VALD-ACVT-SIZE-S-s-2a\"\n",
    "time_window_2a=5\n",
    "field_2a = a_utils.periodic_activity_all(raw_data[sim_id][\"stell_spks\"][:raw_data[sim_id][\"params\"][\"N_per_sheet\"]],raw_data[sim_id][\"params\"][\"sim_dur\"],window_t=200,stdev=6)\n",
    "print(\"field: \",a_utils.grid_field_sizes_neurons(raw_data[sim_id][\"stell_spks\"][:raw_data[sim_id][\"params\"][\"N_per_sheet\"]],raw_data[sim_id][\"params\"][\"sim_dur\"],win_size_t=200,win_size_n=6))\n",
    "print(\"scale: \",a_utils.grid_scale_neurons(raw_data[sim_id][\"stell_spks\"][:raw_data[sim_id][\"params\"][\"N_per_sheet\"]],raw_data[sim_id][\"params\"][\"sim_dur\"],win_size=200,stdev=6))\n",
    "neurons_x = np.arange(0,params[\"N_per_sheet\"])\n",
    "\n",
    "plt.style.use(\"analysis/config/paper.mplstyle\")\n",
    "fig,axs = plt.subplots(1,1,figsize=(1.895,0.672))\n",
    "axs.plot(neurons_x,field_1a[time_window_1a,:]/np.max(field_1a[time_window_1a,:]),label=\"$\\\\lambda=96$\",linewidth=1.25)\n",
    "axs.plot(neurons_x,field_2a[time_window_2a,:]/np.max(field_2a[time_window_2a,:]),label=\"$\\\\lambda=48$\",linewidth=1.25)\n",
    "fig.legend(loc=\"upper center\",borderaxespad=0,ncol=2,fontsize=7,bbox_to_anchor=(0,0,1,1.15))\n",
    "plt.draw()\n",
    "axs.set_xticks([0,100, 200])\n",
    "plt.savefig(f\"analysis/figures/Fig1/Fig1_F_bottom.svg\")\n",
    "plt.show()\n",
    "\n",
    "\n",
    "\n"
   ]
  },
  {
   "cell_type": "code",
   "execution_count": 7,
   "metadata": {},
   "outputs": [
    {
     "data": {
      "image/png": "[encoded data removed]",
      "text/plain": [
       "<Figure size 189.5x67.2 with 1 Axes>"
      ]
     },
     "metadata": {},
     "output_type": "display_data"
    }
   ],
   "source": [
    "sim_id = \"VALD-ACVT-SIZE-S-s-1a\"\n",
    "params_1a = raw_data[sim_id][\"params\"]\n",
    "syn_1a = a_utils.build_and_return_matrix(sim_id)[params_1a[\"N_stell\"]+params_1a[\"N_per_sheet\"]//2,:params_1a[\"N_per_sheet\"]]\n",
    "\n",
    "sim_id = \"VALD-ACVT-SIZE-S-s-2a\"\n",
    "params_2a=raw_data[sim_id][\"params\"]\n",
    "syn_2a = a_utils.build_and_return_matrix(sim_id)[params_2a[\"N_stell\"]+params_2a[\"N_per_sheet\"]//2,:params_2a[\"N_per_sheet\"]]\n",
    "\n",
    "x = np.arange(-params_2a[\"N_per_sheet\"]//2,params_2a[\"N_per_sheet\"]//2)\n",
    "plt.style.use(\"analysis/config/paper.mplstyle\")\n",
    "fig,axs = plt.subplots(1,1,figsize=(1.496+0.399,0.5+0.172))\n",
    "axs.plot(x,syn_1a/np.max(syn_1a),label=\"$\\\\lambda=96$\",linewidth=1.25)\n",
    "axs.plot(x,syn_2a/np.max(syn_2a),label=\"$\\\\lambda=48$\",linewidth=1.25)\n",
    "plt.draw()\n",
    "axs.set_xticks([-100,0,100])\n",
    "plt.savefig(f\"analysis/figures/Fig1/Fig1_F_top.svg\")\n"
   ]
  }
 ],
 "metadata": {
  "kernelspec": {
   "display_name": "gridcellscond",
   "language": "python",
   "name": "python3"
  },
  "language_info": {
   "codemirror_mode": {
    "name": "ipython",
    "version": 3
   },
   "file_extension": ".py",
   "mimetype": "text/x-python",
   "name": "python",
   "nbconvert_exporter": "python",
   "pygments_lexer": "ipython3",
   "version": "3.12.3"
  }
 },
 "nbformat": 4,
 "nbformat_minor": 2
}
