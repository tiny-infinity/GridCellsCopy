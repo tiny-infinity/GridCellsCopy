{
 "cells": [
  {
   "cell_type": "code",
   "execution_count": 1,
   "id": "a531ad7f",
   "metadata": {},
   "outputs": [
    {
     "name": "stdout",
     "output_type": "stream",
     "text": [
      "/data/main/2024/GridCellsCond\n"
     ]
    }
   ],
   "source": [
    "#Run this notebook in the root directory of the project\n",
    "%cd ../../../"
   ]
  },
  {
   "cell_type": "markdown",
   "id": "8231d043",
   "metadata": {},
   "source": [
    "## Velocity integration curve"
   ]
  },
  {
   "cell_type": "code",
   "execution_count": 2,
   "id": "e5c1e5c6-ce12-44ec-90e3-8b881fa01cb4",
   "metadata": {},
   "outputs": [],
   "source": [
    "\n",
    "import matplotlib.pyplot as plt\n",
    "import numpy as np\n",
    "import sim_utils as s_utils\n",
    "import h5py\n",
    "from numpy.polynomial import Polynomial\n",
    "from scipy.interpolate import splrep, BSpline\n",
    "import seaborn as sns"
   ]
  },
  {
   "cell_type": "code",
   "execution_count": 3,
   "metadata": {},
   "outputs": [],
   "source": [
    "sim_id = \"VALD-PI-VICR-S-m-1a\"\n",
    "dc_range_arr = np.concatenate((np.linspace(-2.7e-3,0,1000,endpoint=False),np.linspace(0,2e-2,200)))\n",
    "n_trials = 4\n",
    "sim_num = 0\n",
    "sim_dur = float(60000)\n",
    "mult_input_params={}\n",
    "slopes = np.zeros((len(dc_range_arr),n_trials))\n",
    "for i,dc in enumerate(dc_range_arr):\n",
    "    for tr in range(n_trials):\n",
    "        with h5py.File(f\"data/{sim_id}/{sim_id}-slopes.hdf5\",\"r\") as f:\n",
    "            slopes[i,tr]=f[f\"{sim_num}\"][0]\n",
    "        sim_num+=1"
   ]
  },
  {
   "cell_type": "code",
   "execution_count": 4,
   "id": "dd4de898",
   "metadata": {},
   "outputs": [],
   "source": [
    "analysis_start = 21 #start analysis after bump speed is monotonic\n",
    "slopes = slopes.mean(1)[analysis_start:] \n",
    "dc_range_arr = dc_range_arr[analysis_start:]"
   ]
  },
  {
   "cell_type": "code",
   "execution_count": 16,
   "metadata": {},
   "outputs": [
    {
     "data": {
      "image/png": "[encoded data removed]",
      "text/plain": [
       "<Figure size 166.2x104.5 with 1 Axes>"
      ]
     },
     "metadata": {},
     "output_type": "display_data"
    }
   ],
   "source": [
    "#Plot bump speed vs DC\n",
    "plt.style.use(\"analysis/config/paper.mplstyle\")\n",
    "fig,ax=plt.subplots(1,1,figsize=(1.662,1.045))\n",
    "plt.plot(dc_range_arr,slopes*64/(2*np.pi),linewidth=1.5,label=\"Bump Speed (N/s)\")\n",
    "plt.legend(fontsize=7,loc=\"lower right\")\n",
    "plt.savefig(\"analysis/figures/Fig2/Fig2_A_middle.svg\")\n",
    "plt.show()"
   ]
  },
  {
   "cell_type": "code",
   "execution_count": 7,
   "id": "336d8167",
   "metadata": {},
   "outputs": [],
   "source": [
    "def is_sorted(arr):\n",
    "    for i in range(1, len(arr)):\n",
    "        if arr[i] < arr[i-1]:\n",
    "            print(arr[i],arr[i-1])\n",
    "            return False\n",
    "    return True\n",
    "def filter_vel_integ(vel_integ):\n",
    "    \"\"\"\n",
    "    Filters the velocity integration array to extract values that maintain an ascending sort.\n",
    "    Used for interpolation\n",
    "    \n",
    "    Args:\n",
    "        vel_integ (array-like): The velocity integration array.\n",
    "\n",
    "    Returns:\n",
    "        tuple: A tuple containing two arrays - the filtered velocity integration values and their corresponding indices w.r.t to original array.\n",
    "\n",
    "    \"\"\"\n",
    "    vel_integ_filtered=[]\n",
    "    vel_integ_idx=[]\n",
    "    prev=0\n",
    "    for i,val in enumerate(vel_integ[:-2]):\n",
    "        if (prev<vel_integ[i+1]) and (vel_integ[i+1]<vel_integ[i+2]):\n",
    "            vel_integ_filtered.append(vel_integ[i+1])\n",
    "            vel_integ_idx.append(i+1)\n",
    "            prev=vel_integ[i+1]\n",
    "    return np.array(vel_integ_filtered),np.array(vel_integ_idx)\n"
   ]
  },
  {
   "cell_type": "code",
   "execution_count": 8,
   "id": "b8d34427",
   "metadata": {},
   "outputs": [],
   "source": [
    "#Invert function and interpolate\n",
    "sim_id='VALD-PI-TRAJ-S-m-1a'\n",
    "params = s_utils.load_sim_params(sim_id)[\"0\"]\n",
    "slopes_filtered,idx_filtered=filter_vel_integ(slopes) #interpolation requires monotonicity\n",
    "dc_range_filtered=dc_range_arr[idx_filtered]\n",
    "tck_s = splrep(slopes_filtered,dc_range_filtered,s=0.00000001)\n",
    "input_vel= np.linspace(0,10,1000)\n",
    "dc_out=BSpline(*list(tck_s))(input_vel)\n",
    "zero_mask = np.abs(input_vel) < 0.0001\n",
    "other_ring_mask = np.isnan(input_vel)\n",
    "dc_out[other_ring_mask] = params[\"vel_integ_or\"]"
   ]
  },
  {
   "cell_type": "code",
   "execution_count": 9,
   "id": "6c0d9196",
   "metadata": {},
   "outputs": [],
   "source": [
    "#Save inverted function\n",
    "spline_params = {}\n",
    "for i in range(len(tck_s)):\n",
    "    spline_params[i]=list(tck_s[i]) if isinstance(tck_s[i],np.ndarray) else tck_s[i]\n",
    "    # spline_params[i]=tck_s[i]\n",
    "s_utils.json_save(spline_params,\"input_data/vi_transform/spline_params.json\")"
   ]
  },
  {
   "cell_type": "code",
   "execution_count": 10,
   "id": "1dd19238",
   "metadata": {},
   "outputs": [
    {
     "data": {
      "image/png": "[encoded data removed]",
      "text/plain": [
       "<Figure size 166.2x104.5 with 1 Axes>"
      ]
     },
     "metadata": {},
     "output_type": "display_data"
    }
   ],
   "source": [
    "#plot inverted function\n",
    "plt.style.use(\"analysis/config/paper.mplstyle\")\n",
    "fig,ax=plt.subplots(1,1,figsize=(1.8-0.138,1.2-0.155))\n",
    "plt.plot(input_vel,dc_out,linewidth=1.5,c=\"#FF2C00\",label=\"Input DC (nA)\")\n",
    "plt.legend(fontsize=7)\n",
    "plt.savefig(\"analysis/figures/Fig2/Fig2_A_left.svg\")\n"
   ]
  },
  {
   "cell_type": "code",
   "execution_count": 11,
   "id": "613dc19b",
   "metadata": {},
   "outputs": [
    {
     "data": {
      "image/png": "[encoded data removed]",
      "text/plain": [
       "<Figure size 166.2x104.5 with 1 Axes>"
      ]
     },
     "metadata": {},
     "output_type": "display_data"
    }
   ],
   "source": [
    "#plot bump speed vs input DC\n",
    "f=Polynomial.fit(dc_range_arr,slopes,deg=5)\n",
    "coeffs_bump_speed=np.flip(f.convert().coef)\n",
    "plt.style.use(\"analysis/config/paper.mplstyle\")\n",
    "fig,ax=plt.subplots(1,1,figsize=(1.8-0.138,1.2-0.155))\n",
    "plt.plot(input_vel,np.polyval(coeffs_bump_speed,dc_out),c=\"#00B945\",linewidth=1.5,label=\"Bump speed (N/s)\")\n",
    "plt.legend(fontsize=7)\n",
    "plt.savefig(\"analysis/figures/Fig2/Fig2_A_right.svg\")\n"
   ]
  }
 ],
 "metadata": {
  "kernelspec": {
   "display_name": ".venv",
   "language": "python",
   "name": "python3"
  },
  "language_info": {
   "codemirror_mode": {
    "name": "ipython",
    "version": 3
   },
   "file_extension": ".py",
   "mimetype": "text/x-python",
   "name": "python",
   "nbconvert_exporter": "python",
   "pygments_lexer": "ipython3",
   "version": "3.12.3"
  }
 },
 "nbformat": 4,
 "nbformat_minor": 5
}
