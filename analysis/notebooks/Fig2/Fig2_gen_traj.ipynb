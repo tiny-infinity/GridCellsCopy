{
 "cells": [
  {
   "cell_type": "code",
   "execution_count": 1,
   "id": "3467935c",
   "metadata": {},
   "outputs": [
    {
     "name": "stdout",
     "output_type": "stream",
     "text": [
      "/Users/govindrnair/TheoNeuroLab/GridCellsCond\n"
     ]
    }
   ],
   "source": [
    "#Run this notebook in the root directory of the project\n",
    "%cd /Users/govindrnair/TheoNeuroLab/GridCellsCond"
   ]
  },
  {
   "cell_type": "markdown",
   "id": "95cbe553",
   "metadata": {},
   "source": [
    "## Generate random 1D trajectories"
   ]
  },
  {
   "cell_type": "markdown",
   "id": "a46b25de",
   "metadata": {},
   "source": [
    "This notebook generates random 1D trajectories using [RatInABox](https://github.com/RatInABox-Lab/RatInABox).\n",
    "The trajectories are generated based on statistics that were fit to experimental data."
   ]
  },
  {
   "cell_type": "code",
   "execution_count": 2,
   "id": "e5c1e5c6-ce12-44ec-90e3-8b881fa01cb4",
   "metadata": {},
   "outputs": [],
   "source": [
    "import matplotlib.pyplot as plt\n",
    "import numpy as np\n",
    "from tqdm import tqdm\n",
    "from matplotlib.pyplot import cm\n",
    "import h5py\n",
    "from ratinabox.Environment import Environment\n",
    "from ratinabox.Agent import Agent\n",
    "from scipy import integrate\n",
    "from param import Param"
   ]
  },
  {
   "cell_type": "code",
   "execution_count": 3,
   "id": "2d7d4f42",
   "metadata": {},
   "outputs": [],
   "source": [
    "#get default arena size and \n",
    "params = Param()\n",
    "lambda_0 = params[\"lambda0\"]"
   ]
  },
  {
   "cell_type": "code",
   "execution_count": 4,
   "id": "4479e4a5",
   "metadata": {},
   "outputs": [
    {
     "name": "stderr",
     "output_type": "stream",
     "text": [
      " 23%|██▎       | 74850/320001 [00:05<00:17, 13702.44it/s]\n"
     ]
    },
    {
     "ename": "KeyboardInterrupt",
     "evalue": "",
     "output_type": "error",
     "traceback": [
      "\u001b[31m---------------------------------------------------------------------------\u001b[39m",
      "\u001b[31mKeyboardInterrupt\u001b[39m                         Traceback (most recent call last)",
      "\u001b[36mCell\u001b[39m\u001b[36m \u001b[39m\u001b[32mIn[4]\u001b[39m\u001b[32m, line 17\u001b[39m\n\u001b[32m     15\u001b[39m Ag.pos=[\u001b[32m0\u001b[39m]\n\u001b[32m     16\u001b[39m \u001b[38;5;28;01mfor\u001b[39;00m i \u001b[38;5;129;01min\u001b[39;00m tqdm(\u001b[38;5;28mrange\u001b[39m(\u001b[38;5;28mint\u001b[39m((sim_dur_s_init/Ag.dt)+\u001b[32m1\u001b[39m))): \n\u001b[32m---> \u001b[39m\u001b[32m17\u001b[39m         \u001b[43mAg\u001b[49m\u001b[43m.\u001b[49m\u001b[43mupdate\u001b[49m\u001b[43m(\u001b[49m\u001b[43m)\u001b[49m\n\u001b[32m     19\u001b[39m \u001b[38;5;66;03m#generate rest of the trajectory\u001b[39;00m\n\u001b[32m     20\u001b[39m Ag.speed_mean= \u001b[32m0.08\u001b[39m\n",
      "\u001b[36mFile \u001b[39m\u001b[32m~/TheoNeuroLab/.grids/lib/python3.13/site-packages/ratinabox/Agent.py:241\u001b[39m, in \u001b[36mAgent.update\u001b[39m\u001b[34m(self, dt, drift_velocity, drift_to_random_strength_ratio, **kwargs)\u001b[39m\n\u001b[32m    238\u001b[39m     \u001b[38;5;28mself\u001b[39m._measure_velocity_of_step_taken(overwrite_velocity=\u001b[38;5;28;01mTrue\u001b[39;00m)\n\u001b[32m    240\u001b[39m \u001b[38;5;28mself\u001b[39m._update_head_direction(**kwargs)\n\u001b[32m--> \u001b[39m\u001b[32m241\u001b[39m \u001b[38;5;28;43mself\u001b[39;49m\u001b[43m.\u001b[49m\u001b[43m_update_distance_travelled\u001b[49m\u001b[43m(\u001b[49m\u001b[43m*\u001b[49m\u001b[43m*\u001b[49m\u001b[43mkwargs\u001b[49m\u001b[43m)\u001b[49m\n\u001b[32m    242\u001b[39m \u001b[38;5;28mself\u001b[39m.save_to_history(**kwargs)\n",
      "\u001b[36mFile \u001b[39m\u001b[32m~/TheoNeuroLab/.grids/lib/python3.13/site-packages/ratinabox/Agent.py:507\u001b[39m, in \u001b[36mAgent._update_distance_travelled\u001b[39m\u001b[34m(self, **kwargs)\u001b[39m\n\u001b[32m    505\u001b[39m     \u001b[38;5;28mself\u001b[39m.distance_travelled += \u001b[32m0\u001b[39m\n\u001b[32m    506\u001b[39m \u001b[38;5;28;01melse\u001b[39;00m: \n\u001b[32m--> \u001b[39m\u001b[32m507\u001b[39m     \u001b[38;5;28mself\u001b[39m.distance_travelled += \u001b[38;5;28;43mself\u001b[39;49m\u001b[43m.\u001b[49m\u001b[43mEnvironment\u001b[49m\u001b[43m.\u001b[49m\u001b[43mget_distances_between___accounting_for_environment\u001b[49m\u001b[43m(\u001b[49m\u001b[38;5;28;43mself\u001b[39;49m\u001b[43m.\u001b[49m\u001b[43mpos\u001b[49m\u001b[43m,\u001b[49m\u001b[43m \u001b[49m\u001b[38;5;28;43mself\u001b[39;49m\u001b[43m.\u001b[49m\u001b[43mprev_pos\u001b[49m\u001b[43m)\u001b[49m[\u001b[32m0\u001b[39m][\u001b[32m0\u001b[39m]\n",
      "\u001b[36mFile \u001b[39m\u001b[32m~/TheoNeuroLab/.grids/lib/python3.13/site-packages/ratinabox/Environment.py:691\u001b[39m, in \u001b[36mEnvironment.get_distances_between___accounting_for_environment\u001b[39m\u001b[34m(self, pos1, pos2, wall_geometry, return_vectors)\u001b[39m\n\u001b[32m    675\u001b[39m \u001b[38;5;28;01mdef\u001b[39;00m\u001b[38;5;250m \u001b[39m\u001b[34mget_distances_between___accounting_for_environment\u001b[39m(\n\u001b[32m    676\u001b[39m     \u001b[38;5;28mself\u001b[39m, pos1, pos2, wall_geometry=\u001b[33m\"\u001b[39m\u001b[33meuclidean\u001b[39m\u001b[33m\"\u001b[39m, return_vectors=\u001b[38;5;28;01mFalse\u001b[39;00m\n\u001b[32m    677\u001b[39m ):\n\u001b[32m    678\u001b[39m \u001b[38;5;250m    \u001b[39m\u001b[33;03m\"\"\"Takes two position arrays and returns the array of pair-wise distances between points, taking into account walls and boundary conditions. Unlike the global function utils.get_distances_between() (which this one, at times, calls) this additionally accounts for the boundaries AND walls in the environment.\u001b[39;00m\n\u001b[32m    679\u001b[39m \n\u001b[32m    680\u001b[39m \u001b[33;03m    For example, geodesic geometry estimates distance by shortest walk...line_of_sight geometry distance is euclidean but if there is a wall in between two positions (i.e. no line of sight) then the returned distance is \"very high\"...if boundary conditions are periodic distance is via the shortest possible route, which may or may not go around the back. euclidean geometry essentially ignores walls when calculating distances between two points.\u001b[39;00m\n\u001b[32m   (...)\u001b[39m\u001b[32m    688\u001b[39m \u001b[33;03m        N x M array of pairwise distances\u001b[39;00m\n\u001b[32m    689\u001b[39m \u001b[33;03m    \"\"\"\u001b[39;00m\n\u001b[32m--> \u001b[39m\u001b[32m691\u001b[39m     line_segments = \u001b[43mutils\u001b[49m\u001b[43m.\u001b[49m\u001b[43mget_line_segments_between\u001b[49m\u001b[43m(\u001b[49m\u001b[43mpos1\u001b[49m\u001b[43m=\u001b[49m\u001b[43mpos1\u001b[49m\u001b[43m,\u001b[49m\u001b[43m \u001b[49m\u001b[43mpos2\u001b[49m\u001b[43m=\u001b[49m\u001b[43mpos2\u001b[49m\u001b[43m)\u001b[49m\n\u001b[32m    692\u001b[39m     vectors = \u001b[38;5;28mself\u001b[39m.get_vectors_between___accounting_for_environment(\n\u001b[32m    693\u001b[39m         pos1=\u001b[38;5;28;01mNone\u001b[39;00m, pos2=\u001b[38;5;28;01mNone\u001b[39;00m, line_segments=line_segments\n\u001b[32m    694\u001b[39m     )\n\u001b[32m    696\u001b[39m     \u001b[38;5;66;03m# shorthand\u001b[39;00m\n",
      "\u001b[36mFile \u001b[39m\u001b[32m~/TheoNeuroLab/.grids/lib/python3.13/site-packages/ratinabox/utils.py:199\u001b[39m, in \u001b[36mget_line_segments_between\u001b[39m\u001b[34m(pos1, pos2)\u001b[39m\n\u001b[32m    197\u001b[39m pos1 = np.repeat(pos1_, pos2_.shape[\u001b[32m1\u001b[39m], axis=\u001b[32m1\u001b[39m)\n\u001b[32m    198\u001b[39m pos2 = np.repeat(pos2_, pos1_.shape[\u001b[32m0\u001b[39m], axis=\u001b[32m0\u001b[39m)\n\u001b[32m--> \u001b[39m\u001b[32m199\u001b[39m lines = \u001b[43mnp\u001b[49m\u001b[43m.\u001b[49m\u001b[43mstack\u001b[49m\u001b[43m(\u001b[49m\u001b[43m(\u001b[49m\u001b[43mpos1\u001b[49m\u001b[43m,\u001b[49m\u001b[43m \u001b[49m\u001b[43mpos2\u001b[49m\u001b[43m)\u001b[49m\u001b[43m,\u001b[49m\u001b[43m \u001b[49m\u001b[43maxis\u001b[49m\u001b[43m=\u001b[49m\u001b[43m-\u001b[49m\u001b[32;43m2\u001b[39;49m\u001b[43m)\u001b[49m\n\u001b[32m    200\u001b[39m \u001b[38;5;28;01mreturn\u001b[39;00m lines\n",
      "\u001b[36mFile \u001b[39m\u001b[32m~/TheoNeuroLab/.grids/lib/python3.13/site-packages/numpy/_core/shape_base.py:466\u001b[39m, in \u001b[36mstack\u001b[39m\u001b[34m(arrays, axis, out, dtype, casting)\u001b[39m\n\u001b[32m    463\u001b[39m axis = normalize_axis_index(axis, result_ndim)\n\u001b[32m    465\u001b[39m sl = (\u001b[38;5;28mslice\u001b[39m(\u001b[38;5;28;01mNone\u001b[39;00m),) * axis + (_nx.newaxis,)\n\u001b[32m--> \u001b[39m\u001b[32m466\u001b[39m expanded_arrays = [arr[sl] \u001b[38;5;28;01mfor\u001b[39;00m arr \u001b[38;5;129;01min\u001b[39;00m arrays]\n\u001b[32m    467\u001b[39m \u001b[38;5;28;01mreturn\u001b[39;00m _nx.concatenate(expanded_arrays, axis=axis, out=out,\n\u001b[32m    468\u001b[39m                        dtype=dtype, casting=casting)\n",
      "\u001b[31mKeyboardInterrupt\u001b[39m: "
     ]
    }
   ],
   "source": [
    "#Trajectory 2 (used in paper)\n",
    "\n",
    "seed=29\n",
    "np.random.seed(seed)\n",
    "sim_dur_s=30\n",
    "sim_dur_s_init = 8 #initial allothetic trajectory duration\n",
    "allothetic_dur=sim_dur_s_init*1000\n",
    "Env = Environment(\n",
    "        params = {'dimensionality':'1D',\n",
    "                'boundary_conditions':'periodic','scale':lambda_0/100})\n",
    "\n",
    "#generate allothetic trajectory for 8s (fixed position)\n",
    "Ag= Agent(Env,\n",
    "        params = {'dt':0.000025,'speed_mean':0,'speed_std':0}) #0.000025 \n",
    "Ag.pos=[0]\n",
    "for i in tqdm(range(int((sim_dur_s_init/Ag.dt)+1))): \n",
    "        Ag.update()\n",
    "\n",
    "#generate rest of the trajectory\n",
    "Ag.speed_mean= 0.08\n",
    "Ag.speed_std=0.08\n",
    "sim_dur_s_traj = sim_dur_s-sim_dur_s_init\n",
    "for i in tqdm(range(int((sim_dur_s_traj/Ag.dt)+1))): \n",
    "        Ag.update()\n"
   ]
  },
  {
   "cell_type": "code",
   "execution_count": 5,
   "id": "e5bac112",
   "metadata": {},
   "outputs": [
    {
     "data": {
      "image/png": "[encoded data removed]",
      "text/plain": [
       "<Figure size 1000x200 with 1 Axes>"
      ]
     },
     "metadata": {},
     "output_type": "display_data"
    }
   ],
   "source": [
    "t=np.array(Ag.history['t'])*1000 #s->ms\n",
    "pos=np.array(Ag.history['pos'])*100 #m-->cm\n",
    "vel=np.array(Ag.history['vel']).ravel()/10 #m/s --> cm/ms\n",
    "traj_start_idx = int((sim_dur_s_init)/0.000025)\n",
    "t=t/1000 #ms-->s\n",
    "vel=vel*1000\n",
    "vel[abs(vel)>10]=10 #pin the velocity to 10 since network saturates around 10 rad/s\n",
    "pos_integrated=integrate.cumulative_trapezoid(vel,t)%(2*np.pi)\n",
    "plt.style.use(\"analysis/config/paper.mplstyle\")\n",
    "plt.figure(figsize=(10,2))\n",
    "plt.scatter(t[:-1],pos_integrated,s=0.5)\n",
    "plt.show()"
   ]
  },
  {
   "cell_type": "code",
   "execution_count": 6,
   "id": "f6bcf7dc",
   "metadata": {},
   "outputs": [],
   "source": [
    "#save trajectory\n",
    "traj_id =\"1\"\n",
    "fname=\"input_data/trajectories/traj_{}.hdf5\".format(traj_id)\n",
    "with h5py.File(fname, 'w') as file:\n",
    "    file.create_dataset(\"vel_rinb\",  data=vel,compression='gzip')\n",
    "    file.create_dataset(\"pos_rinb\",data=pos_integrated,compression='gzip')\n",
    "    file.create_dataset(\"t_rinb\",data=t,compression='gzip')\n",
    "    file.attrs.create(\"allothetic_dur\",allothetic_dur)\n",
    "    file.attrs.create(\"traj_dur\",int(sim_dur_s))\n",
    "    file.attrs.create(\"traj_params\",(Ag.speed_mean,Ag.speed_std,Ag.speed_coherence_time,seed))"
   ]
  }
 ],
 "metadata": {
  "kernelspec": {
   "display_name": ".grids",
   "language": "python",
   "name": "python3"
  },
  "language_info": {
   "codemirror_mode": {
    "name": "ipython",
    "version": 3
   },
   "file_extension": ".py",
   "mimetype": "text/x-python",
   "name": "python",
   "nbconvert_exporter": "python",
   "pygments_lexer": "ipython3",
   "version": "3.13.7"
  }
 },
 "nbformat": 4,
 "nbformat_minor": 5
}
