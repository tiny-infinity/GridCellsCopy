{
 "cells": [
  {
   "cell_type": "code",
   "execution_count": 1,
   "id": "5980f10f",
   "metadata": {},
   "outputs": [
    {
     "name": "stdout",
     "output_type": "stream",
     "text": [
      "/data/main/2024/GridCellsCond\n"
     ]
    }
   ],
   "source": [
    "#Run this notebook in the root directory of the project\n",
    "%cd ../../../"
   ]
  },
  {
   "cell_type": "code",
   "execution_count": 2,
   "id": "e5c1e5c6-ce12-44ec-90e3-8b881fa01cb4",
   "metadata": {},
   "outputs": [],
   "source": [
    "import matplotlib.pyplot as plt\n",
    "import numpy as np\n",
    "import sim_utils as s_utils\n",
    "import h5py\n",
    "import seaborn as sns\n",
    "import analysis_utils as a_utils\n",
    "import matplotlib.patches as patches"
   ]
  },
  {
   "cell_type": "code",
   "execution_count": 3,
   "id": "db8b66e7",
   "metadata": {},
   "outputs": [],
   "source": [
    "sim_id = 'VALD-MPD-FSPK-S-s-1a'\n",
    "params_1 = s_utils.load_sim_params(sim_id)\n",
    "stell_spks_l_1, intrnrn_spks_l_1 = s_utils.load_spikes(sim_id)\n",
    "stellate_v_1= np.array(s_utils.load_full_data(sim_id,\"stell_v\"))\n",
    "inhib_v_1= np.array(s_utils.load_full_data(sim_id,\"stell_syn_inhib_g\"))\n",
    "gh_slow_1= np.array(s_utils.load_full_data(sim_id,\"stell_ih_ms\"))*params_1[\"g_h_bar\"]*0.35\n",
    "gh_fast_1= np.array(s_utils.load_full_data(sim_id,\"stell_ih_mf\"))*params_1[\"g_h_bar\"]*0.65\n",
    "gh_1 = gh_slow_1+gh_fast_1\n",
    "\n"
   ]
  },
  {
   "cell_type": "code",
   "execution_count": 4,
   "id": "02104e03",
   "metadata": {},
   "outputs": [],
   "source": [
    "separated_fields_shifted_1=a_utils.shift_fields_to_center(stell_spks_l_1[:params_1[\"N_per_sheet\"]])\n",
    "separated_fields_1=a_utils.separate_fields(stell_spks_l_1[:params_1[\"N_per_sheet\"]])\n",
    "\n"
   ]
  },
  {
   "cell_type": "code",
   "execution_count": 5,
   "id": "730be042",
   "metadata": {},
   "outputs": [],
   "source": [
    "cell_to_plot=80\n",
    "field_to_plot=3\n",
    "center_1=(separated_fields_1[cell_to_plot][field_to_plot][0]+separated_fields_1[cell_to_plot][field_to_plot][-1])/2\n"
   ]
  },
  {
   "cell_type": "code",
   "execution_count": 6,
   "id": "dd5f3bbf",
   "metadata": {},
   "outputs": [],
   "source": [
    "def convert_ms_to_idx(ms,params):\n",
    "    return int(ms/params[\"dt\"])\n",
    "\n"
   ]
  },
  {
   "cell_type": "code",
   "execution_count": 7,
   "id": "57449d5f",
   "metadata": {},
   "outputs": [],
   "source": [
    "g_start=gh_1[cell_to_plot][convert_ms_to_idx(separated_fields_1[cell_to_plot][field_to_plot][0],params_1)]\n",
    "g_end=gh_1[cell_to_plot][convert_ms_to_idx(separated_fields_1[cell_to_plot][field_to_plot][-1],params_1)]\n",
    "inhib_start=inhib_v_1[cell_to_plot][convert_ms_to_idx(separated_fields_1[cell_to_plot][field_to_plot][0],params_1)]\n",
    "inhib_end=inhib_v_1[cell_to_plot][convert_ms_to_idx(separated_fields_1[cell_to_plot][field_to_plot][-1],params_1)]"
   ]
  },
  {
   "cell_type": "code",
   "execution_count": 8,
   "id": "74ca11c6",
   "metadata": {},
   "outputs": [
    {
     "name": "stdout",
     "output_type": "stream",
     "text": [
      "g_start: 2.47e-04\n",
      "g_end: 4.19e-05\n",
      "inhib_start: 2.92e-04\n",
      "inhib_end: 2.40e-06\n"
     ]
    }
   ],
   "source": [
    "print(f\"g_start: {g_start:.2e}\")\n",
    "print(f\"g_end: {g_end:.2e}\")\n",
    "print(f\"inhib_start: {inhib_start:.2e}\")\n",
    "print(f\"inhib_end: {inhib_end:.2e}\")\n"
   ]
  },
  {
   "cell_type": "code",
   "execution_count": 9,
   "id": "71094054",
   "metadata": {},
   "outputs": [
    {
     "data": {
      "image/png": "[encoded data removed]",
      "text/plain": [
       "<Figure size 173.1x73 with 2 Axes>"
      ]
     },
     "metadata": {},
     "output_type": "display_data"
    }
   ],
   "source": [
    "%matplotlib inline\n",
    "from matplotlib import colors\n",
    "look_behind = 850\n",
    "look_ahead = 650\n",
    "plt.style.use(\"analysis/config/paper.mplstyle\")\n",
    "start_idx_1,end_idx_1=convert_ms_to_idx(separated_fields_1[cell_to_plot][field_to_plot][0]-look_behind,params_1),convert_ms_to_idx(separated_fields_1[cell_to_plot][field_to_plot][-1]+look_ahead,params_1)\n",
    "\n",
    "\n",
    "plt.rcParams['xtick.bottom'] = True\n",
    "plt.rcParams['ytick.left'] = True\n",
    "plt.rcParams[\"axes.spines.right\"]=True\n",
    "plt.rcParams[\"axes.spines.right\"]=True\n",
    "\n",
    "plt.rcParams[\"ytick.color\"]=\"#3d3d3d\"\n",
    "plt.rcParams[\"xtick.color\"]=\"#3d3d3d\"\n",
    "\n",
    "plt.rcParams[\"ytick.labelsize\"]=7\n",
    "plt.rcParams[\"xtick.labelsize\"]=7\n",
    "\n",
    "\n",
    "\n",
    "\n",
    "\n",
    "t = np.arange(0,params_1['sim_dur']+0.025,0.025)\n",
    "fig,ax= plt.subplots(1,1,figsize=(1.731,0.73))\n",
    "\n",
    "def forward(x):\n",
    "    return np.tanh(x)/30\n",
    "def inverse(x):\n",
    "    return np.arctanh(x)/30\n",
    "cell_to_plot=80\n",
    "line1=ax.plot(t[start_idx_1:end_idx_1],inhib_v_1[cell_to_plot][start_idx_1:end_idx_1],color=\"k\",label=\"inhibitory syn cond. ($\\\\mu S$)\")\n",
    "ax2 = ax.twinx()\n",
    "ax2.plot(t[start_idx_1:end_idx_1],gh_1[cell_to_plot][start_idx_1:end_idx_1],color=\"#0C5DA5\",label=\"HCN cond. ($\\\\mu S$)\")\n",
    "ax2.legend()\n",
    "handles1, labels1 = ax.get_legend_handles_labels()\n",
    "handles2, labels2 = ax2.get_legend_handles_labels()\n",
    "first_legend = plt.legend(handles1, labels1, loc='upper left', bbox_to_anchor=(0.4, 1.4),fancybox=False,fontsize=6)\n",
    "ax2.add_artist(first_legend)\n",
    "ax2.set_xlim([2000,3300])\n",
    "leg=ax2.legend(loc='upper right', bbox_to_anchor=(0.4, 1.4),fancybox=False,fontsize=6)\n",
    "ax.spines[\"top\"].set_visible(False)\n",
    "\n",
    "ax2.hlines(g_start,xmin=0,xmax=separated_fields_1[cell_to_plot][field_to_plot][0],linewidth=0.65,linestyle=\"dashed\",color=\"#0C5DA5\")\n",
    "ax.hlines(inhib_start,xmin=0,xmax=separated_fields_1[cell_to_plot][field_to_plot][0],color=\"k\",linestyle=\"dashed\",linewidth=0.65,zorder=999)\n",
    "\n",
    "ax2.hlines(g_end,xmin=separated_fields_1[cell_to_plot][field_to_plot][-1],xmax=6000,linewidth=0.65,linestyle=\"dashed\",color=\"#0C5DA5\",zorder=99)\n",
    "ax.hlines(inhib_end,xmax=6000,xmin=separated_fields_1[cell_to_plot][field_to_plot][-1],color=\"k\",linestyle=\"dashed\",linewidth=0.65,zorder=999)\n",
    "\n",
    "ax.set_zorder(1)  # default zorder is 0 for ax1 and ax2\n",
    "ax.patch.set_visible(False)  # prevents ax1 from hiding ax2\n",
    "ax.spines[\"right\"].set_visible(False)\n",
    "ax2.spines[\"top\"].set_visible(False)\n",
    "ax.set_ylim(-0.0005,0.008)\n",
    "ax2.set_ylim(-0.00004,0.0005)\n",
    "\n",
    "ax2.eventplot(separated_fields_1[cell_to_plot][field_to_plot],lineoffsets=0.0003,linelengths=0.00004,color=\"#474747\",zorder=99,linewidths=1)\n",
    "rect = patches.Rectangle((2500, -0.0018),500,0.0009, edgecolor='none', facecolor='gray',clip_on=False)\n",
    "ax.add_patch(rect)\n",
    "\n",
    "plt.draw()\n",
    "ax.set_xticks([])\n",
    "plt.savefig('analysis/figures/Fig3/Fig3_D.svg')"
   ]
  },
  {
   "cell_type": "code",
   "execution_count": 50,
   "id": "e8db3b5e",
   "metadata": {},
   "outputs": [
    {
     "data": {
      "image/png": "[encoded data removed]",
      "text/plain": [
       "<Figure size 180x140 with 2 Axes>"
      ]
     },
     "metadata": {},
     "output_type": "display_data"
    }
   ],
   "source": [
    "%matplotlib inline\n",
    "plt.style.use(\"analysis/config/paper.mplstyle\")\n",
    "from matplotlib import colors\n",
    "sns.set_style('white', {'axes.linewidth': 0.5})\n",
    "# plt.rcParams['xtick.major.size'] = 4\n",
    "# plt.rcParams['xtick.major.width'] = 1.25\n",
    "plt.rcParams['xtick.bottom'] = True\n",
    "plt.rcParams['ytick.left'] = True\n",
    "palette=sns.color_palette(\"ch:s=0,rot=-.25\", as_cmap=True)\n",
    "\n",
    "\n",
    "t = np.arange(0,params_1['sim_dur']+0.025,0.025)\n",
    "fig,ax= plt.subplots(1,1,figsize=(1.8,1.4))\n",
    "\n",
    "def forward(x):\n",
    "    return np.tanh(x)/30\n",
    "def inverse(x):\n",
    "    return np.arctanh(x)/30\n",
    "\n",
    "t1=int((separated_fields_1[cell_to_plot][field_to_plot][0]-300)/0.025)\n",
    "t2=int((separated_fields_1[cell_to_plot][field_to_plot][-1])/0.025)\n",
    "\n",
    "gh_trunc_1 = gh_1[cell_to_plot][t1:t2]/np.max(gh_1[cell_to_plot])\n",
    "t_trunc = t[t1:t2]\n",
    "spks = np.array(stell_spks_l_1[cell_to_plot])/1000\n",
    "v1_trunc = stellate_v_1[cell_to_plot][t1:t2]\n",
    "p=sns.scatterplot(x=v1_trunc,y=gh_trunc_1,hue=t_trunc,linewidth=0,ax=ax,s=2,rasterized=True,palette=palette)\n",
    "norm = plt.Normalize(0, np.max(t_trunc)-np.min(t_trunc))\n",
    "sm = plt.cm.ScalarMappable(cmap=palette, norm=norm)\n",
    "sm.set_array([])\n",
    "ax.get_legend().remove()\n",
    "cax = fig.add_axes([ax.get_position().x1+0.05, ax.get_position().y0, 0.03, ax.get_position().height])\n",
    "ax.figure.colorbar(sm, cax=cax)\n",
    "ax.set_xticks(np.arange(-65,40,25))\n",
    "\n",
    "ax.spines[\"top\"].set_visible(False)\n",
    "ax.spines[\"right\"].set_visible(False)\n",
    "plt.draw()\n",
    "yticks = ax.get_yticks()\n",
    "ax.set_yticks([yticks[1],yticks[3], yticks[-2]])\n",
    "xticks = ax.get_xticks()\n",
    "ax.set_xticks([xticks[0],xticks[int(len(xticks)/2)], xticks[-1]])\n",
    "plt.savefig('analysis/figures/Fig3/Fig3_E.svg',dpi=500)"
   ]
  }
 ],
 "metadata": {
  "kernelspec": {
   "display_name": ".venv",
   "language": "python",
   "name": "python3"
  },
  "language_info": {
   "codemirror_mode": {
    "name": "ipython",
    "version": 3
   },
   "file_extension": ".py",
   "mimetype": "text/x-python",
   "name": "python",
   "nbconvert_exporter": "python",
   "pygments_lexer": "ipython3",
   "version": "3.12.3"
  }
 },
 "nbformat": 4,
 "nbformat_minor": 5
}
