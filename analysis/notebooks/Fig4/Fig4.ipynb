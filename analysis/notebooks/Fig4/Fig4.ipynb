{
 "cells": [
  {
   "cell_type": "code",
   "execution_count": 1,
   "id": "87a62877",
   "metadata": {},
   "outputs": [
    {
     "name": "stdout",
     "output_type": "stream",
     "text": [
      "/data/main/2024/GridCellsCond\n"
     ]
    }
   ],
   "source": [
    "#Run this notebook in the root directory of the project\n",
    "%cd ../../../"
   ]
  },
  {
   "cell_type": "code",
   "execution_count": 2,
   "id": "8442819b",
   "metadata": {},
   "outputs": [],
   "source": [
    "import matplotlib.pyplot as plt\n",
    "import numpy as np\n",
    "import sim_utils as s_utils\n",
    "import analysis_utils as a_utils\n",
    "from matplotlib.pyplot import cm\n",
    "import seaborn as sns\n",
    "import h5py\n",
    "import pandas as pd\n",
    "import matplotlib.patches as patches"
   ]
  },
  {
   "cell_type": "code",
   "execution_count": 3,
   "id": "c3d164ec",
   "metadata": {},
   "outputs": [
    {
     "name": "stdout",
     "output_type": "stream",
     "text": [
      "0 1 2 3 4 5 6 7 8 9 10 11 12 13 14 15 16 17 18 19 20 21 22 23 24 25 26 27 28 29 30 31 32 33 34 35 36 37 38 39 40 41 42 43 44 45 46 47 48 49 50 51 52 53 54 55 56 57 58 59 60 61 62 63 64 65 66 67 68 69 70 71 72 73 74 75 76 77 78 79 80 81 82 83 84 85 86 87 88 89 90 91 92 93 94 95 96 97 98 99 100 101 102 103 104 105 106 107 108 109 110 111 112 113 114 115 116 117 118 119 120 121 122 123 124 125 126 127 128 129 130 131 132 133 134 135 136 137 138 139 140 141 142 143 144 145 146 147 148 149 150 151 152 153 154 155 156 157 158 159 160 161 162 163 164 165 166 167 168 169 170 171 172 173 174 175 176 177 178 179 180 181 182 183 184 185 186 187 188 189 190 191 192 193 194 195 196 197 198 199 200 201 202 203 204 205 206 207 208 209 210 211 212 213 214 215 216 217 218 219 220 221 222 223 224 225 226 227 228 229 230 231 232 233 234 235 236 237 238 239 240 241 242 243 244 245 246 247 248 249 250 251 252 253 254 255 256 257 258 259 260 261 262 263 264 265 266 267 268 269 270 271 272 273 274 275 276 277 278 279 280 281 282 283 284 285 286 287 288 289 290 291 292 293 294 295 296 297 298 299 300 301 302 303 304 305 306 307 308 309 310 311 312 313 314 315 316 317 318 319 320 321 322 323 324 325 326 327 328 329 330 331 332 333 334 335 336 337 338 339 340 341 342 343 344 345 346 347 348 349 350 351 352 353 354 355 356 357 358 359 360 361 362 363 364 365 366 367 368 369 370 371 372 373 374 375 376 377 378 379 380 381 382 383 384 385 386 387 388 389 390 391 392 393 394 395 396 397 398 399 400 401 402 403 404 405 406 407 408 409 410 411 412 413 414 415 416 417 418 419 420 421 422 423 424 425 426 427 428 429 430 431 432 433 434 435 436 437 438 439 440 441 442 443 444 445 446 447 448 449 450 451 452 453 454 455 456 457 458 459 460 461 462 463 464 465 466 467 468 469 470 471 472 473 474 475 476 477 478 479 480 481 482 483 484 485 486 487 488 489 490 491 492 493 494 495 496 497 498 499 500 501 502 503 504 505 506 507 508 509 510 511 512 513 514 515 516 517 518 519 520 521 522 523 524 525 526 527 528 529 530 531 532 533 534 535 536 537 538 539 540 541 542 543 544 545 546 547 548 549 550 551 552 553 554 555 556 557 558 559 560 561 562 563 564 565 566 567 568 569 570 571 572 573 574 575 576 577 578 579 580 581 582 583 584 585 586 587 588 589 590 591 592 593 594 595 596 597 598 599 600 601 602 603 604 605 606 607 608 609 610 611 612 613 614 615 616 617 618 619 620 621 622 623 624 625 626 627 628 629 630 631 632 633 634 635 636 637 638 639 640 641 642 643 644 645 646 647 648 649 650 651 652 653 654 655 656 657 658 659 660 661 662 663 664 665 666 667 668 669 670 671 672 673 674 675 676 677 678 679 680 681 682 683 684 685 686 687 688 689 690 691 692 693 694 695 696 697 698 699 700 701 702 703 704 705 706 707 708 709 710 711 712 713 714 715 716 717 718 719 720 721 722 723 724 725 726 727 728 729 730 731 732 733 734 735 736 737 738 739 740 741 742 743 744 745 746 747 748 749 750 751 752 753 754 755 756 757 758 759 760 761 762 763 764 765 766 767 768 769 770 771 772 773 774 775 776 777 778 779 780 781 782 783 784 785 786 787 788 789 790 791 792 793 794 795 796 797 798 799 800 801 802 803 804 805 806 807 808 809 810 811 812 813 814 815 816 817 818 819 820 821 822 823 824 825 826 827 828 829 830 831 832 833 834 835 836 837 838 839 840 841 842 843 844 845 846 847 848 849 850 851 852 853 854 855 856 857 858 859 860 861 862 863 864 865 866 867 868 869 870 871 872 873 874 875 876 877 878 879 880 881 882 883 884 885 886 887 888 889 890 891 892 893 894 895 896 897 898 899 900 901 902 903 904 905 906 907 908 909 910 911 912 913 914 915 916 917 918 919 920 921 922 923 924 925 926 927 928 929 930 931 932 933 934 935 936 937 938 939 940 941 942 943 944 945 946 947 948 949 950 951 952 953 954 955 956 957 958 959 960 961 962 963 964 965 966 967 968 969 970 971 972 973 974 975 976 977 978 979 980 981 982 983 984 985 986 987 988 989 990 991 992 993 994 995 996 997 998 999 1000 1001 1002 1003 1004 1005 1006 1007 1008 1009 1010 1011 1012 1013 1014 1015 1016 1017 1018 1019 1020 1021 1022 1023 1024 1025 1026 1027 1028 1029 1030 1031 1032 1033 1034 1035 1036 1037 1038 1039 1040 1041 1042 1043 1044 1045 1046 1047 1048 1049 1050 1051 1052 1053 1054 1055 1056 1057 1058 1059 1060 1061 1062 1063 1064 1065 1066 1067 1068 1069 1070 1071 1072 1073 1074 1075 1076 1077 1078 1079 1080 1081 1082 1083 1084 1085 1086 1087 1088 1089 1090 1091 1092 1093 1094 1095 1096 1097 1098 1099 1100 1101 1102 1103 1104 1105 1106 1107 1108 1109 1110 1111 1112 1113 1114 1115 1116 1117 1118 1119 1120 1121 1122 1123 1124 1125 1126 1127 1128 1129 1130 1131 1132 1133 1134 1135 1136 1137 1138 1139 1140 1141 1142 1143 1144 1145 1146 1147 1148 1149 1150 1151 1152 1153 1154 1155 1156 1157 1158 1159 1160 1161 1162 1163 1164 1165 1166 1167 1168 1169 1170 1171 1172 1173 1174 1175 1176 1177 1178 1179 1180 1181 1182 1183 1184 1185 1186 1187 1188 1189 1190 1191 1192 1193 1194 1195 1196 1197 1198 1199 1200 1201 1202 1203 1204 1205 1206 1207 1208 1209 1210 1211 1212 1213 1214 1215 1216 1217 1218 1219 1220 1221 1222 1223 1224 1225 1226 1227 1228 1229 1230 1231 1232 1233 1234 1235 1236 1237 1238 1239 1240 1241 1242 1243 1244 1245 1246 1247 1248 1249 1250 1251 1252 1253 1254 1255 1256 1257 1258 1259 1260 1261 1262 1263 1264 1265 1266 1267 1268 1269 1270 1271 1272 1273 1274 1275 1276 1277 1278 1279 1280 1281 1282 1283 1284 1285 1286 1287 1288 1289 1290 1291 1292 1293 1294 1295 1296 1297 1298 1299 1300 1301 1302 1303 1304 1305 1306 1307 1308 1309 1310 1311 1312 1313 1314 1315 1316 1317 1318 1319 1320 1321 1322 1323 1324 1325 1326 1327 1328 1329 1330 1331 1332 1333 1334 1335 1336 1337 1338 1339 1340 1341 1342 1343 1344 1345 1346 1347 1348 1349 1350 1351 1352 1353 1354 1355 1356 1357 1358 1359 1360 1361 1362 1363 1364 1365 1366 1367 1368 1369 1370 1371 1372 1373 1374 1375 1376 1377 1378 1379 1380 1381 1382 1383 1384 1385 1386 1387 1388 1389 1390 1391 1392 1393 1394 1395 1396 1397 1398 1399 1400 1401 1402 1403 1404 1405 1406 1407 1408 1409 1410 1411 1412 1413 1414 1415 1416 1417 1418 1419 1420 1421 1422 1423 1424 1425 1426 1427 1428 1429 1430 1431 1432 1433 1434 1435 1436 1437 1438 1439 1440 1441 1442 1443 1444 1445 1446 1447 1448 1449 1450 1451 1452 1453 1454 1455 1456 1457 1458 1459 1460 1461 1462 1463 1464 1465 1466 1467 1468 1469 1470 1471 1472 1473 1474 1475 1476 1477 1478 1479 1480 1481 1482 1483 1484 1485 1486 1487 1488 1489 1490 1491 1492 1493 1494 1495 1496 1497 1498 1499 1500 1501 1502 1503 1504 1505 1506 1507 1508 1509 1510 1511 1512 1513 1514 1515 1516 1517 1518 1519 1520 1521 1522 1523 1524 1525 1526 1527 1528 1529 1530 1531 1532 1533 1534 1535 1536 1537 1538 1539 1540 1541 1542 1543 1544 1545 1546 1547 1548 1549 1550 1551 1552 1553 1554 1555 1556 1557 1558 1559 1560 1561 1562 1563 1564 1565 1566 1567 1568 1569 1570 1571 1572 1573 1574 1575 1576 1577 1578 1579 1580 1581 1582 1583 1584 1585 1586 1587 1588 1589 1590 1591 1592 1593 1594 1595 1596 1597 1598 1599 1600 1601 1602 1603 1604 1605 1606 1607 1608 1609 1610 1611 1612 1613 1614 1615 1616 1617 1618 1619 1620 1621 1622 1623 1624 1625 1626 1627 1628 1629 1630 1631 1632 1633 1634 1635 1636 1637 1638 1639 1640 1641 1642 1643 1644 1645 1646 1647 1648 1649 1650 1651 1652 1653 1654 1655 1656 1657 1658 1659 1660 1661 1662 1663 1664 1665 1666 1667 1668 1669 1670 1671 1672 1673 1674 1675 1676 1677 1678 1679 1680 1681 1682 1683 1684 1685 1686 1687 1688 1689 1690 1691 1692 1693 1694 1695 1696 1697 1698 1699 1700 1701 1702 1703 1704 1705 1706 1707 1708 1709 1710 1711 1712 1713 1714 1715 1716 1717 1718 1719 1720 1721 1722 1723 1724 1725 1726 1727 1728 1729 1730 1731 1732 1733 1734 1735 1736 1737 1738 1739 1740 1741 1742 1743 1744 1745 1746 1747 1748 1749 1750 1751 1752 1753 1754 1755 1756 1757 1758 1759 1760 1761 1762 1763 1764 1765 1766 1767 1768 1769 1770 1771 1772 1773 1774 1775 1776 1777 1778 1779 1780 1781 1782 1783 1784 1785 1786 1787 1788 1789 1790 1791 1792 1793 1794 1795 1796 1797 1798 1799 1800 1801 1802 1803 1804 1805 1806 1807 1808 1809 1810 1811 1812 1813 1814 1815 1816 1817 1818 1819 1820 1821 1822 1823 1824 1825 1826 1827 1828 1829 1830 1831 1832 1833 1834 1835 1836 1837 1838 1839 1840 1841 1842 1843 1844 1845 1846 1847 1848 1849 1850 1851 1852 1853 1854 1855 1856 1857 1858 1859 1860 1861 1862 1863 1864 1865 1866 1867 1868 1869 1870 1871 1872 1873 1874 1875 1876 1877 1878 1879 1880 1881 1882 1883 1884 1885 1886 1887 1888 1889 1890 1891 1892 1893 1894 1895 1896 1897 1898 1899 1900 1901 1902 1903 1904 1905 1906 1907 1908 1909 1910 1911 1912 1913 1914 1915 1916 1917 1918 1919 1920 1921 1922 1923 1924 1925 1926 1927 1928 1929 1930 1931 1932 1933 1934 1935 1936 1937 1938 1939 1940 1941 1942 1943 1944 1945 1946 1947 1948 1949 1950 1951 1952 1953 1954 1955 1956 1957 1958 1959 1960 1961 1962 1963 1964 1965 1966 1967 1968 1969 1970 1971 1972 1973 1974 1975 1976 1977 1978 1979 1980 1981 1982 1983 1984 1985 1986 1987 1988 1989 1990 1991 1992 1993 1994 1995 1996 1997 1998 1999 "
     ]
    }
   ],
   "source": [
    "sim_id = \"VALD-HCN-SHRK-S-m-3a\"\n",
    "params = s_utils.load_sim_params(sim_id)[\"0\"]\n",
    "gh_range_arr= np.array([0.0015,0])\n",
    "dc_range_arr = np.linspace(0.001245,0.006,1000,endpoint=True)\n",
    "n_trials = 1\n",
    "sim_num = 0\n",
    "multiple_input_params = {}\n",
    "sim_dur=params[\"sim_dur\"]\n",
    "knock_out_arr  = np.zeros((gh_range_arr.shape[0],dc_range_arr.shape[0],n_trials,5))\n",
    "fr_rates_orig = np.zeros((gh_range_arr.shape[0],dc_range_arr.shape[0],n_trials))\n",
    "with h5py.File(\"data/VALD-HCN-SHRK-S-m-3a/VALD-HCN-SHRK-S-m-3a-grid-props.hdf5\",\"r\") as f:\n",
    "    for i,gh in enumerate(gh_range_arr):\n",
    "        for j,dc in enumerate(dc_range_arr):\n",
    "            for tr in range(n_trials):\n",
    "                knock_out_arr[i,j,tr,:]=np.array(f[f\"{sim_num}\"])\n",
    "                sim_num +=1\n",
    "sim_num = 0\n",
    "with h5py.File(\"data/VALD-HCN-SHRK-S-m-3a/intrnrn_spks_VALD-HCN-SHRK-S-m-3a.hdf5\",\"r\") as f:\n",
    "    for i,gh in enumerate(gh_range_arr):\n",
    "        for j,dc in enumerate(dc_range_arr):\n",
    "            for tr in range(n_trials):\n",
    "                print(sim_num,end=\" \")\n",
    "                intrnrn_spks_arr = np.array(f[f\"{sim_num}\"][\"intrnrn_spks\"])\n",
    "                intrnrn_spikes_l = [list(cell[~np.isnan(cell)]) for cell in intrnrn_spks_arr]\t\t\n",
    "                fr_rates_orig[i,j,tr]=a_utils.calc_firing_rates(intrnrn_spikes_l,sim_dur)\n",
    "                sim_num +=1"
   ]
  },
  {
   "cell_type": "code",
   "execution_count": 4,
   "id": "2d973e85",
   "metadata": {},
   "outputs": [
    {
     "name": "stdout",
     "output_type": "stream",
     "text": [
      "0 1 2 3 4 5 6 7 8 9 10 11 12 13 14 15 16 17 18 19 20 21 22 23 24 25 26 27 28 29 30 31 32 33 34 35 36 37 38 39 40 41 42 43 44 45 46 47 48 49 50 51 52 53 54 55 56 57 58 59 60 61 62 63 64 65 66 67 68 69 70 71 72 73 74 75 76 77 78 79 80 81 82 83 84 85 86 87 88 89 90 91 92 93 94 95 96 97 98 99 100 101 102 103 104 105 106 107 108 109 110 111 112 113 114 115 116 117 118 119 120 121 122 123 124 125 126 127 128 129 130 131 132 133 134 135 136 137 138 139 140 141 142 143 144 145 146 147 148 149 150 151 152 153 154 155 156 157 158 159 160 161 162 163 164 165 166 167 168 169 170 171 172 173 174 175 176 177 178 179 180 181 182 183 184 185 186 187 188 189 190 191 192 193 194 195 196 197 198 199 200 201 202 203 204 205 206 207 208 209 210 211 212 213 214 215 216 217 218 219 220 221 222 223 224 225 226 227 228 229 230 231 232 233 234 235 236 237 238 239 240 241 242 243 244 245 246 247 248 249 250 251 252 253 254 255 256 257 258 259 260 261 262 263 264 265 266 267 268 269 270 271 272 273 274 275 276 277 278 279 280 281 282 283 284 285 286 287 288 289 290 291 292 293 294 295 296 297 298 299 300 301 302 303 304 305 306 307 308 309 310 311 312 313 314 315 316 317 318 319 320 321 322 323 324 325 326 327 328 329 330 331 332 333 334 335 336 337 338 339 340 341 342 343 344 345 346 347 348 349 350 351 352 353 354 355 356 357 358 359 360 361 362 363 364 365 366 367 368 369 370 371 372 373 374 375 376 377 378 379 380 381 382 383 384 385 386 387 388 389 390 391 392 393 394 395 396 397 398 399 400 401 402 403 404 405 406 407 408 409 410 411 412 413 414 415 416 417 418 419 420 421 422 423 424 425 426 427 428 429 430 431 432 433 434 435 436 437 438 439 440 441 442 443 444 445 446 447 448 449 450 451 452 453 454 455 456 457 458 459 460 461 462 463 464 465 466 467 468 469 470 471 472 473 474 475 476 477 478 479 480 481 482 483 484 485 486 487 488 489 490 491 492 493 494 495 496 497 498 499 500 501 502 503 504 505 506 507 508 509 510 511 512 513 514 515 516 517 518 519 520 521 522 523 524 525 526 527 528 529 530 531 532 533 534 535 536 537 538 539 540 541 542 543 544 545 546 547 548 549 550 551 552 553 554 555 556 557 558 559 560 561 562 563 564 565 566 567 568 569 570 571 572 573 574 575 576 577 578 579 580 581 582 583 584 585 586 587 588 589 590 591 592 593 594 595 596 597 598 599 600 601 602 603 604 605 606 607 608 609 610 611 612 613 614 615 616 617 618 619 620 621 622 623 624 625 626 627 628 629 630 631 632 633 634 635 636 637 638 639 640 641 642 643 644 645 646 647 648 649 650 651 652 653 654 655 656 657 658 659 660 661 662 663 664 665 666 667 668 669 670 671 672 673 674 675 676 677 678 679 680 681 682 683 684 685 686 687 688 689 690 691 692 693 694 695 696 697 698 699 700 701 702 703 704 705 706 707 708 709 710 711 712 713 714 715 716 717 718 719 720 721 722 723 724 725 726 727 728 729 730 731 732 733 734 735 736 737 738 739 740 741 742 743 744 745 746 747 748 749 750 751 752 753 754 755 756 757 758 759 760 761 762 763 764 765 766 767 768 769 770 771 772 773 774 775 776 777 778 779 780 781 782 783 784 785 786 787 788 789 790 791 792 793 794 795 796 797 798 799 800 801 802 803 804 805 806 807 808 809 810 811 812 813 814 815 816 817 818 819 820 821 822 823 824 825 826 827 828 829 830 831 832 833 834 835 836 837 838 839 840 841 842 843 844 845 846 847 848 849 850 851 852 853 854 855 856 857 858 859 860 861 862 863 864 865 866 867 868 869 870 871 872 873 874 875 876 877 878 879 880 881 882 883 884 885 886 887 888 889 890 891 892 893 894 895 896 897 898 899 900 901 902 903 904 905 906 907 908 909 910 911 912 913 914 915 916 917 918 919 920 921 922 923 924 925 926 927 928 929 930 931 932 933 934 935 936 937 938 939 940 941 942 943 944 945 946 947 948 949 950 951 952 953 954 955 956 957 958 959 960 961 962 963 964 965 966 967 968 969 970 971 972 973 974 975 976 977 978 979 980 981 982 983 984 985 986 987 988 989 990 991 992 993 994 995 996 997 998 999 "
     ]
    }
   ],
   "source": [
    "sim_id = \"VALD-HCN-SHRK-S-m-4a\"\n",
    "params_inhib = s_utils.load_sim_params(sim_id)[\"0\"]\n",
    "dc_range_arr = np.linspace(0.001245,0.006,1000,endpoint=True)\n",
    "n_trials = 1\n",
    "sim_num = 0\n",
    "sim_dur = params_inhib[\"sim_dur\"]\n",
    "knock_out_arr_inhib  = np.zeros((dc_range_arr.shape[0],n_trials,5))\n",
    "fr_rates_inhib= np.zeros((dc_range_arr.shape[0],n_trials))\n",
    "\n",
    "with h5py.File(\"data/VALD-HCN-SHRK-S-m-4a/VALD-HCN-SHRK-S-m-4a-grid-props.hdf5\",\"r\") as f:\n",
    "    for i,dc in enumerate(dc_range_arr):\n",
    "        for tr in range(n_trials):\n",
    "            knock_out_arr_inhib[i,tr,:]=np.array(f[f\"{sim_num}\"])\n",
    "            sim_num +=1\n",
    "sim_num = 0            \n",
    "with h5py.File(\"data/VALD-HCN-SHRK-S-m-4a/intrnrn_spks_VALD-HCN-SHRK-S-m-4a.hdf5\",\"r\") as f:\n",
    "    for i,dc in enumerate(dc_range_arr):\n",
    "        for tr in range(n_trials):\n",
    "            print(sim_num,end=\" \")\n",
    "            intrnrn_spks_arr = np.array(f[f\"{sim_num}\"][\"intrnrn_spks\"])\n",
    "            intrnrn_spikes_l = [list(cell[~np.isnan(cell)]) for cell in intrnrn_spks_arr]\t\n",
    "            fr_rates_inhib[i,tr]=a_utils.calc_firing_rates(intrnrn_spikes_l,sim_dur)\n",
    "            sim_num +=1\n",
    "            "
   ]
  },
  {
   "cell_type": "code",
   "execution_count": 5,
   "id": "47de97fe",
   "metadata": {},
   "outputs": [],
   "source": [
    "scale_n_wt = knock_out_arr[0,:,0,0]\n",
    "scale_n_ko = knock_out_arr[1,:,0,0]\n",
    "scale_n_inhib = knock_out_arr_inhib[:,0,0]\n",
    "\n",
    "field_n_wt = knock_out_arr[0,:,0,1]\n",
    "field_n_ko = knock_out_arr[1,:,0,1]\n",
    "field_n_inhib = knock_out_arr_inhib[:,0,1]\n",
    "\n",
    "scale_t_wt = knock_out_arr[0,:,0,2]\n",
    "scale_t_ko = knock_out_arr[1,:,0,2]\n",
    "scale_t_inhib = knock_out_arr_inhib[:,0,2]\n",
    "\n",
    "field_t_wt = knock_out_arr[0,:,0,3]\n",
    "field_t_ko = knock_out_arr[1,:,0,3]\n",
    "field_t_inhib = knock_out_arr_inhib[:,0,3]\n",
    "# bins = [\"1.245-2.196\",\"2.196-3.147\",\"3.147-4.098\",\"4.098-5.049\",\"5.049-6\"]\n",
    "bins_list = [\"0-0.2\", \" 0.2-0.4\", \" 0.4-0.6\", \" 0.6-0.8\", \" 0.8-1\"]\n",
    "\n",
    "# bins = [\"1.245-2.196\",\"2..196-3.147\",\"3.147-4.098\",\"4.098-5.049\",\"5.049-0006\"]\n",
    "# bins_list = [\"1.245-2.196\",\"2.196-3.147\",\"3.147-4.098\",\"4.098-5.049\",\"5.049-6.00\"]\n",
    "\n",
    "\n",
    "\n",
    "bins = [i for i in bins_list for k in range(200)]"
   ]
  },
  {
   "cell_type": "code",
   "execution_count": 6,
   "id": "4563cdb2",
   "metadata": {},
   "outputs": [],
   "source": [
    "df_n_scales=pd.DataFrame()\n",
    "df_n_scales[\"Bump Scale (neurons)\"]=np.concatenate((scale_n_wt,scale_n_ko,scale_n_inhib))\n",
    "df_n_scales[\"Input DC (nA)\"]=np.concatenate((bins,bins,bins))\n",
    "temp = [\"WT\",\"KO\",\"KO - restored inhibition\"]\n",
    "df_n_scales[\"HCN\"]=[i for i in temp for k in range(1000)]\n",
    "\n",
    "df_n_field=pd.DataFrame()\n",
    "df_n_field[\"Bump Size (neurons)\"]=np.concatenate((field_n_wt,field_n_ko,field_n_inhib))\n",
    "df_n_field[\"Input DC (nA)\"]=np.concatenate((bins,bins,bins))\n",
    "temp = [\"WT\",\"KO\",\"KO - restored inhibition\"]\n",
    "df_n_field[\"HCN\"]=[i for i in temp for k in range(1000)]\n",
    "\n",
    "df_t_scales=pd.DataFrame()\n",
    "df_t_scales[\"Grid Scale (ms)\"]=np.concatenate((scale_t_wt,scale_t_ko,scale_t_inhib))\n",
    "df_t_scales[\"Input DC (nA)\"]=np.concatenate((bins,bins,bins))\n",
    "temp = [\"WT\",\"KO\",\"KO - restored inhibition\"]\n",
    "df_t_scales[\"HCN\"]=[i for i in temp for k in range(1000)]\n",
    "\n",
    "df_t_field=pd.DataFrame()\n",
    "df_t_field[\"Grid Field Size (ms)\"]=np.concatenate((field_t_wt,field_t_ko,field_t_inhib))\n",
    "df_t_field[\"Input DC (nA)\"]=np.concatenate((bins,bins,bins))\n",
    "temp = [\"WT\",\"KO\",\"KO - restored inhibition\"]\n",
    "df_t_field[\"HCN\"]=[i for i in temp for k in range(1000)]\n",
    "\n",
    "\n",
    "\n"
   ]
  },
  {
   "cell_type": "code",
   "execution_count": 7,
   "id": "c77f5261",
   "metadata": {},
   "outputs": [
    {
     "data": {
      "image/png": "[encoded data removed]",
      "text/plain": [
       "<Figure size 722.9x83.6 with 4 Axes>"
      ]
     },
     "metadata": {},
     "output_type": "display_data"
    }
   ],
   "source": [
    "from matplotlib.ticker import ScalarFormatter\n",
    "\n",
    "sci_formatter = ScalarFormatter(useMathText=True)\n",
    "sci_formatter.set_scientific(True)\n",
    "sci_formatter.set_powerlimits((-2, 2))  # Force scientific formatting for small/large numbers\n",
    "%matplotlib inline\n",
    "plt.style.use(\"analysis/config/paper.mplstyle\")\n",
    "plt.rcParams['xtick.labelsize'] = 7\n",
    "plt.rcParams['ytick.labelsize'] = 7\n",
    "fig,axs = plt.subplots(1,4,figsize=(7.229,0.836))\n",
    "sns.barplot(df_n_scales,x=\"Input DC (nA)\",y=\"Bump Scale (neurons)\",hue=\"HCN\",orient=\"v\",palette=[\"#474747\",\"#0C5DA5\",cm.Spectral(0.84)],ax=axs[0],saturation=1,width=0.8,errorbar=\"se\")\n",
    "axs[0].set_xlabel(\"\")\n",
    "axs[0].set_ylabel(\"\")\n",
    "\n",
    "leg=axs[0].legend(title=\"HCN\",fontsize=9,loc=(1.8,0.8),title_fontsize=8).set_visible(False)\n",
    "\n",
    "handles, labels = axs[0].get_legend_handles_labels()\n",
    "fig.legend(handles, labels, fontsize=9,loc=(0.2,0.82),title_fontsize=8,ncols=3)\n",
    "\n",
    "sns.barplot(df_n_field,x=\"Input DC (nA)\",y=\"Bump Size (neurons)\",hue=\"HCN\",orient=\"v\",palette=[\"#474747\",\"#0C5DA5\",cm.Spectral(0.84)],ax=axs[1],saturation=1,width=0.8,errorbar=\"se\")\n",
    "axs[1].legend(fontsize=8).set_visible(False)\n",
    "\n",
    "axs[1].set_xlabel(\"\")\n",
    "\n",
    "\n",
    "axs[1].set_ylabel(\"\")\n",
    "\n",
    "\n",
    "sns.barplot(df_t_scales,x=\"Input DC (nA)\",y=\"Grid Scale (ms)\",hue=\"HCN\",orient=\"v\",palette=[\"#474747\",\"#0C5DA5\",cm.Spectral(0.84)],ax=axs[2],saturation=1,width=0.8,errorbar=\"se\")\n",
    "\n",
    "axs[2].set_xlabel(\"\")\n",
    "axs[2].legend(fontsize=8).set_visible(False)\n",
    "\n",
    "axs[2].set_ylabel(\"\")\n",
    "sns.barplot(df_t_field,x=\"Input DC (nA)\",y=\"Grid Field Size (ms)\",hue=\"HCN\",orient=\"v\",palette=[\"#474747\",\"#0C5DA5\",cm.Spectral(0.84)],ax=axs[3],saturation=1,width=0.8,errorbar=\"se\")\n",
    "\n",
    "axs[3].legend().set_visible(False)\n",
    "# axs[3].xaxis.set_major_formatter(sci_formatter)\n",
    "\n",
    "axs[3].set_xlabel(\"\")\n",
    "axs[3].set_ylabel(\"\")\n",
    "\n",
    "for ax in axs:\n",
    "    ax.set_xticks(ax.get_xticks(), ax.get_xticklabels(), rotation=45, ha='right')\n",
    "plt.subplots_adjust(wspace=0.4)\n",
    "\n",
    "plt.savefig(\"analysis/figures/Fig4/Fig4_E.svg\")\n",
    "\n",
    "\n"
   ]
  },
  {
   "cell_type": "code",
   "execution_count": 8,
   "id": "fe335ab6",
   "metadata": {},
   "outputs": [],
   "source": [
    "def grid_props(stell_spks_l,params):\n",
    "    scale_n=a_utils.grid_scale_neurons(stell_spks_l,params[\"sim_dur\"],win_size=100)\n",
    "    field_n=a_utils.grid_field_sizes_neurons(stell_spks_l,params[\"sim_dur\"],win_size_t=100)\n",
    "\n",
    "    scale_t=a_utils.calc_grid_scales_time(stell_spks_l)\n",
    "    field_t=a_utils.calc_grid_field_sizes_time(stell_spks_l)\n",
    "    return {\"Grid Scale (N)\":scale_n,\"Grid Field (N)\":field_n,\"Grid Scale (T)\":scale_t,\"Grid Field (T)\":field_t}\n"
   ]
  },
  {
   "cell_type": "code",
   "execution_count": 9,
   "id": "8920043d",
   "metadata": {},
   "outputs": [],
   "source": [
    "sim_id_wt = 'VALD-HCN-SHRK-S-s-1a'\n",
    "sim_id_ko = 'VALD-HCN-SHRK-S-s-2a'\n",
    "\n",
    "params_wt=s_utils.load_sim_params(sim_id_wt)\n",
    "params_ko=s_utils.load_sim_params(sim_id_ko)\n",
    "\n",
    "stell_spikes_l_wt,intrnrn_spikes_l_wt=s_utils.load_spikes(sim_id=sim_id_wt)\n",
    "stell_spikes_l_ko,intrnrn_spikes_l_ko=s_utils.load_spikes(sim_id=sim_id_ko)\n",
    "\n",
    "perodic_act_wt = a_utils.periodic_activity_all(stell_spikes_l_wt[:params_wt[\"N_per_sheet\"]],params_wt[\"sim_dur\"],window_t=200,stdev=4)\n",
    "perodic_act_wt=perodic_act_wt/np.max(perodic_act_wt,axis=1)[:,None]\n",
    "perodic_act_ko = a_utils.periodic_activity_all(stell_spikes_l_ko[:params_ko[\"N_per_sheet\"]],params_ko[\"sim_dur\"],window_t=200,stdev=4)\n",
    "perodic_act_ko=perodic_act_ko/np.max(perodic_act_ko,axis=1)[:,None]\n",
    "\n",
    "\n"
   ]
  },
  {
   "cell_type": "code",
   "execution_count": 10,
   "id": "e9d97dce",
   "metadata": {},
   "outputs": [
    {
     "name": "stderr",
     "output_type": "stream",
     "text": [
      "/data/main/2024/GridCellsCond/.venv/lib/python3.12/site-packages/numpy/core/fromnumeric.py:3504: RuntimeWarning: Mean of empty slice.\n",
      "  return _methods._mean(a, axis=axis, dtype=dtype,\n",
      "/data/main/2024/GridCellsCond/.venv/lib/python3.12/site-packages/numpy/core/_methods.py:129: RuntimeWarning: invalid value encountered in scalar divide\n",
      "  ret = ret.dtype.type(ret / rcount)\n"
     ]
    },
    {
     "name": "stdout",
     "output_type": "stream",
     "text": [
      "{'Grid Scale (N)': 61.29041666666666, 'Grid Field (N)': 26.061563546841953, 'Grid Scale (T)': nan, 'Grid Field (T)': nan}\n",
      "{'Grid Scale (N)': 53.635625, 'Grid Field (N)': 18.38829340508701, 'Grid Scale (T)': 27.929996, 'Grid Field (T)': 11.112499}\n"
     ]
    }
   ],
   "source": [
    "print(grid_props(stell_spikes_l_wt[:192],params_wt))\n",
    "print(grid_props(stell_spikes_l_ko[:192],params_ko))\n"
   ]
  },
  {
   "cell_type": "code",
   "execution_count": 36,
   "id": "4c5f4650",
   "metadata": {},
   "outputs": [
    {
     "data": {
      "image/png": "[encoded data removed]",
      "text/plain": [
       "<Figure size 387.8x71.5 with 3 Axes>"
      ]
     },
     "metadata": {},
     "output_type": "display_data"
    }
   ],
   "source": [
    "%matplotlib inline\n",
    "end = 20000\n",
    "start = 19760\n",
    "t= np.arange(start/1000,end/1000,0.0001)\n",
    "plt.style.use(\"analysis/config/paper.mplstyle\")\n",
    "fig,axs = plt.subplots(1,3,figsize=(3.878,0.715))\n",
    "stell_v_wt = s_utils.load_data(\"VALD-HCN-SHRK-S-s-1a\",\"stell_v\",125)\n",
    "stell_v_ko= s_utils.load_data(\"VALD-HCN-SHRK-S-s-2a\",\"stell_v\",125)\n",
    "axs[2].plot(t,stell_v_wt[int(start/0.1):int(end/0.1)],label=\"HCN wild type\",c=\"#474747\")\n",
    "axs[2].plot(t,stell_v_ko[int(start/0.1):int(end/0.1)],label=\"HCN knockout\",c=\"#0C5DA5\")\n",
    "\n",
    "stell_v_wt = s_utils.load_data(\"VALD-HCN-SHRK-S-s-1a\",\"stell_v\",120)\n",
    "stell_v_ko= s_utils.load_data(\"VALD-HCN-SHRK-S-s-2a\",\"stell_v\",120)\n",
    "axs[1].plot(t,stell_v_wt[int(start/0.1):int(end/0.1)],c=\"#474747\")\n",
    "axs[1].plot(t,stell_v_ko[int(start/0.1):int(end/0.1)],c=\"#0C5DA5\")\n",
    "\n",
    "stell_v_wt = s_utils.load_data(\"VALD-HCN-SHRK-S-s-1a\",\"stell_v\",115)\n",
    "stell_v_ko= s_utils.load_data(\"VALD-HCN-SHRK-S-s-2a\",\"stell_v\",115)\n",
    "axs[0].plot(t,stell_v_wt[int(start/0.1):int(end/0.1)],c=\"#474747\")\n",
    "axs[0].plot(t,stell_v_ko[int(start/0.1):int(end/0.1)],c=\"#0C5DA5\")\n",
    "fig.subplots_adjust(wspace=0.5)\n",
    "rect1 = patches.Rectangle((19.8, -115), 0.1, 15, edgecolor='none', facecolor='gray',clip_on=False)\n",
    "axs[0].add_patch(rect1)\n",
    "axs[0].set_ylim([-90,65])\n",
    "plt.draw()\n",
    "\n",
    "rect2 = patches.Rectangle((19.8, -115), 0.1, 15, edgecolor='none', facecolor='gray',clip_on=False)\n",
    "axs[1].add_patch(rect2)\n",
    "axs[1].set_ylim([-90,65])\n",
    "plt.draw()\n",
    "\n",
    "rect3 = patches.Rectangle((19.8, -72.8), 0.1, 1.5, edgecolor='none', facecolor='gray',clip_on=False)\n",
    "axs[2].add_patch(rect3)\n",
    "# axs[2].set_ylim([-90,65])\n",
    "plt.draw()\n",
    "\n",
    "# yticks = axs[0].get_yticks()\n",
    "# axs.set_yticks([yticks[1], yticks[-2]])\n",
    "axs[0].set_xticks([])\n",
    "axs[1].set_xticks([])\n",
    "axs[2].set_xticks([])\n",
    "\n",
    "\n",
    "plt.savefig(\"analysis/figures/Fig4/Fig4_B_bottom.svg\")\n",
    "\n"
   ]
  },
  {
   "cell_type": "code",
   "execution_count": 111,
   "id": "88e30bf0",
   "metadata": {},
   "outputs": [
    {
     "data": {
      "image/png": "[encoded data removed]",
      "text/plain": [
       "<Figure size 260.1x75.7 with 1 Axes>"
      ]
     },
     "metadata": {},
     "output_type": "display_data"
    }
   ],
   "source": [
    "sim_id=\"VALD-HCN-SHRK-S-s-3a\"\n",
    "params = s_utils.load_sim_params(sim_id)\n",
    "stell_spks_l,intrnrn_spks_l = s_utils.load_spikes(sim_id)\n",
    "cell_to_analyse = 115\n",
    "instant_rate_stell = a_utils.instant_rate(stell_spks_l[cell_to_analyse],params[\"sim_dur\"],stdev=100)\n",
    "t = np.arange(0,params[\"sim_dur\"])\n",
    "plt.style.use(\"analysis/config/paper.mplstyle\")\n",
    "fig,ax = plt.subplots(1,1,figsize=(2.601,0.757))\n",
    "ax.plot(t,instant_rate_stell/np.max(instant_rate_stell[1000:]),c=\"#474747\")\n",
    "ax.set_ylim([-0.05,1.1])\n",
    "ax.set_xlim([1300,5300])\n",
    "rect = patches.Rectangle((3000, -0.27),1000, 0.14, edgecolor='none', facecolor='gray',clip_on=False)\n",
    "ax.add_patch(rect)\n",
    "plt.draw()\n",
    "ax.set_xticks([])\n",
    "plt.savefig(\"analysis/figures/Fig4/Fig4_a.svg\")"
   ]
  },
  {
   "cell_type": "code",
   "execution_count": 77,
   "id": "d4e1e4ab",
   "metadata": {},
   "outputs": [
    {
     "data": {
      "image/png": "[encoded data removed]",
      "text/plain": [
       "<Figure size 367.8x67.4 with 1 Axes>"
      ]
     },
     "metadata": {},
     "output_type": "display_data"
    }
   ],
   "source": [
    "\n",
    "%matplotlib inline\n",
    "dist = np.arange(params_wt[\"N_per_sheet\"])\n",
    "periodic_act_to_plot=[perodic_act_wt[150],perodic_act_ko[150]]\n",
    "colors_stell = cm.Blues_r(np.linspace(0,0.5,len(periodic_act_to_plot)))\n",
    "colors_stell = [cm.Spectral(0.097),cm.Spectral(0.91)]\n",
    "plt.style.use(\"analysis/config/paper.mplstyle\")\n",
    "fig,axs = plt.subplots(1,1,figsize=(3.678,0.674))\n",
    "\n",
    "legend_loc=[(0,1),(0,0.8)]\n",
    "axs.plot(dist,periodic_act_to_plot[0],c=\"#474747\",linewidth=1,label=\"HCN wild type (WT)\")\n",
    "axs.scatter(125,periodic_act_to_plot[0][125],s=2.5,zorder=99,c=\"#916300ff\")\n",
    "axs.scatter(120,periodic_act_to_plot[0][120],s=2.5,zorder=99,c=\"#009638ff\")\n",
    "axs.scatter(115,periodic_act_to_plot[0][115],s=2.5,zorder=99,c=\"#b92231ff\")\n",
    "axs.plot(dist,periodic_act_to_plot[1],c=\"#0C5DA5\",linewidth=1,label=\"HCN knockout (KO)\")\n",
    "axs.scatter(125,periodic_act_to_plot[1][125],s=2.5,zorder=99,c=\"#916300ff\")\n",
    "axs.scatter(120,periodic_act_to_plot[1][120],s=2.5,zorder=99,c=\"#009638ff\")\n",
    "axs.scatter(115,periodic_act_to_plot[1][115],s=2.5,zorder=99,c=\"#b92231ff\")\n",
    "axs.legend(ncols=2,bbox_to_anchor=(0,0,1.09,1.4))\n",
    "plt.draw()\n",
    "xticks = axs.get_xticks()\n",
    "axs.set_xticks([xticks[1],xticks[int(len(xticks)/2)], xticks[-2]])\n",
    "\n",
    "\n",
    "plt.savefig(\"analysis/figures/Fig4/Fig4_B_top.svg\")\n",
    "plt.show()\n"
   ]
  },
  {
   "cell_type": "code",
   "execution_count": 78,
   "id": "0cef399b",
   "metadata": {},
   "outputs": [
    {
     "name": "stdout",
     "output_type": "stream",
     "text": [
      "0 1 2 3 4 5 6 7 8 9 10 11 12 13 14 15 16 17 18 19 20 21 22 23 24 25 26 27 28 29 30 31 32 33 34 35 36 37 38 39 40 41 42 43 44 45 46 47 48 49 50 51 52 53 54 55 56 57 58 59 60 61 62 63 64 65 66 67 68 69 70 71 72 73 74 75 76 77 78 79 80 81 82 83 84 85 86 87 88 89 90 91 92 93 94 95 96 97 98 99 100 101 102 103 104 105 106 107 108 109 110 111 112 113 114 115 116 117 118 119 120 121 122 123 124 125 126 127 128 129 130 131 132 133 134 135 136 137 138 139 140 141 142 143 144 145 146 147 148 149 150 151 152 153 154 155 156 157 158 159 160 161 162 163 164 165 166 167 168 169 170 171 172 173 174 175 176 177 178 179 180 181 182 183 184 185 186 187 188 189 190 191 192 193 194 195 196 197 198 199 200 201 202 203 204 205 206 207 208 209 210 211 212 213 214 215 216 217 218 219 220 221 222 223 224 225 226 227 228 229 230 231 232 233 234 235 236 237 238 239 240 241 242 243 244 245 246 247 248 249 250 251 252 253 254 255 256 257 258 259 260 261 262 263 264 265 266 267 268 269 270 271 272 273 274 275 276 277 278 279 280 281 282 283 284 285 286 287 288 289 290 291 292 293 294 295 296 297 298 299 300 301 302 303 304 305 306 307 308 309 310 311 312 313 314 315 316 317 318 319 320 321 322 323 324 325 326 327 328 329 330 331 332 333 334 335 336 337 338 339 340 341 342 343 344 345 346 347 348 349 350 351 352 353 354 355 356 357 358 359 360 361 362 363 364 365 366 367 368 369 370 371 372 373 374 375 376 377 378 379 380 381 382 383 384 385 386 387 388 389 390 391 392 393 394 395 396 397 398 399 400 401 402 403 404 405 406 407 408 409 410 411 412 413 414 415 416 417 418 419 420 421 422 423 424 425 426 427 428 429 430 431 432 433 434 435 436 437 438 439 440 441 442 443 444 445 446 447 448 449 450 451 452 453 454 455 456 457 458 459 460 461 462 463 464 465 466 467 468 469 470 471 472 473 474 475 476 477 478 479 480 481 482 483 484 485 486 487 488 489 490 491 492 493 494 495 496 497 498 499 500 501 502 503 504 505 506 507 508 509 510 511 512 513 514 515 516 517 518 519 520 521 522 523 524 525 526 527 528 529 530 531 532 533 534 535 536 537 538 539 540 541 542 543 544 545 546 547 548 549 550 551 552 553 554 555 556 557 558 559 560 561 562 563 564 565 566 567 568 569 570 571 572 573 574 575 576 577 578 579 580 581 582 583 584 585 586 587 588 589 590 591 592 593 594 595 596 597 598 599 600 601 602 603 604 605 606 607 608 609 610 611 612 613 614 615 616 617 618 619 620 621 622 623 624 625 626 627 628 629 630 631 632 633 634 635 636 637 638 639 640 641 642 643 644 645 646 647 648 649 650 651 652 653 654 655 656 657 658 659 660 661 662 663 664 665 666 667 668 669 670 671 672 673 674 675 676 677 678 679 680 681 682 683 684 685 686 687 688 689 690 691 692 693 694 695 696 697 698 699 700 701 702 703 704 705 706 707 708 709 710 711 712 713 714 715 716 717 718 719 720 721 722 723 724 725 726 727 728 729 730 731 732 733 734 735 736 737 738 739 740 741 742 743 744 745 746 747 748 749 750 751 752 753 754 755 756 757 758 759 760 761 762 763 764 765 766 767 768 769 770 771 772 773 774 775 776 777 778 779 780 781 782 783 784 785 786 787 788 789 790 791 792 793 794 795 796 797 798 799 800 801 802 803 804 805 806 807 808 809 810 811 812 813 814 815 816 817 818 819 820 821 822 823 824 825 826 827 828 829 830 831 832 833 834 835 836 837 838 839 840 841 842 843 844 845 846 847 848 849 850 851 852 853 854 855 856 857 858 859 860 861 862 863 864 865 866 867 868 869 870 871 872 873 874 875 876 877 878 879 880 881 882 883 884 885 886 887 888 889 890 891 892 893 894 895 896 897 898 899 900 901 902 903 904 905 906 907 908 909 910 911 912 913 914 915 916 917 918 919 920 921 922 923 924 925 926 927 928 929 930 931 932 933 934 935 936 937 938 939 940 941 942 943 944 945 946 947 948 949 950 951 952 953 954 955 956 957 958 959 960 961 962 963 964 965 966 967 968 969 970 971 972 973 974 975 976 977 978 979 980 981 982 983 984 985 986 987 988 989 990 991 992 993 994 995 996 997 998 999 1000 1001 1002 1003 1004 1005 1006 1007 1008 1009 1010 1011 1012 1013 1014 1015 1016 1017 1018 1019 1020 1021 1022 1023 1024 1025 1026 1027 1028 1029 1030 1031 1032 1033 1034 1035 1036 1037 1038 1039 1040 1041 1042 1043 1044 1045 1046 1047 1048 1049 1050 1051 1052 1053 1054 1055 1056 1057 1058 1059 1060 1061 1062 1063 1064 1065 1066 1067 1068 1069 1070 1071 1072 1073 1074 1075 1076 1077 1078 1079 1080 1081 1082 1083 1084 1085 1086 1087 1088 1089 1090 1091 1092 1093 1094 1095 1096 1097 1098 1099 1100 1101 1102 1103 1104 1105 1106 1107 1108 1109 1110 1111 1112 1113 1114 1115 1116 1117 1118 1119 1120 1121 1122 1123 1124 1125 1126 1127 1128 1129 1130 1131 1132 1133 1134 1135 1136 1137 1138 1139 1140 1141 1142 1143 1144 1145 1146 1147 1148 1149 1150 1151 1152 1153 1154 1155 1156 1157 1158 1159 1160 1161 1162 1163 1164 1165 1166 1167 1168 1169 1170 1171 1172 1173 1174 1175 1176 1177 1178 1179 1180 1181 1182 1183 1184 1185 1186 1187 1188 1189 1190 1191 1192 1193 1194 1195 1196 1197 1198 1199 1200 1201 1202 1203 1204 1205 1206 1207 1208 1209 1210 1211 1212 1213 1214 1215 1216 1217 1218 1219 1220 1221 1222 1223 1224 1225 1226 1227 1228 1229 1230 1231 1232 1233 1234 1235 1236 1237 1238 1239 1240 1241 1242 1243 1244 1245 1246 1247 1248 1249 1250 1251 1252 1253 1254 1255 1256 1257 1258 1259 1260 1261 1262 1263 1264 1265 1266 1267 1268 1269 1270 1271 1272 1273 1274 1275 1276 1277 1278 1279 1280 1281 1282 1283 1284 1285 1286 1287 1288 1289 1290 1291 1292 1293 1294 1295 1296 1297 1298 1299 1300 1301 1302 1303 1304 1305 1306 1307 1308 1309 1310 1311 1312 1313 1314 1315 1316 1317 1318 1319 1320 1321 1322 1323 1324 1325 1326 1327 1328 1329 1330 1331 1332 1333 1334 1335 1336 1337 1338 1339 1340 1341 1342 1343 1344 1345 1346 1347 1348 1349 1350 1351 1352 1353 1354 1355 1356 1357 1358 1359 1360 1361 1362 1363 1364 1365 1366 1367 1368 1369 1370 1371 1372 1373 1374 1375 1376 1377 1378 1379 1380 1381 1382 1383 1384 1385 1386 1387 1388 1389 1390 1391 1392 1393 1394 1395 1396 1397 1398 1399 1400 1401 1402 1403 1404 1405 1406 1407 1408 1409 1410 1411 1412 1413 1414 1415 1416 1417 1418 1419 1420 1421 1422 1423 1424 1425 1426 1427 1428 1429 1430 1431 1432 1433 1434 1435 1436 1437 1438 1439 1440 1441 1442 1443 1444 1445 1446 1447 1448 1449 1450 1451 1452 1453 1454 1455 1456 1457 1458 1459 1460 1461 1462 1463 1464 1465 1466 1467 1468 1469 1470 1471 1472 1473 1474 1475 1476 1477 1478 1479 1480 1481 1482 1483 1484 1485 1486 1487 1488 1489 1490 1491 1492 1493 1494 1495 1496 1497 1498 1499 1500 1501 1502 1503 1504 1505 1506 1507 1508 1509 1510 1511 1512 1513 1514 1515 1516 1517 1518 1519 1520 1521 1522 1523 1524 1525 1526 1527 1528 1529 1530 1531 1532 1533 1534 1535 1536 1537 1538 1539 1540 1541 1542 1543 1544 1545 1546 1547 1548 1549 1550 1551 1552 1553 1554 1555 1556 1557 1558 1559 1560 1561 1562 1563 1564 1565 1566 1567 1568 1569 1570 1571 1572 1573 1574 1575 1576 1577 1578 1579 1580 1581 1582 1583 1584 1585 1586 1587 1588 1589 1590 1591 1592 1593 1594 1595 1596 1597 1598 1599 1600 1601 1602 1603 1604 1605 1606 1607 1608 1609 1610 1611 1612 1613 1614 1615 1616 1617 1618 1619 1620 1621 1622 1623 1624 1625 1626 1627 1628 1629 1630 1631 1632 1633 1634 1635 1636 1637 1638 1639 1640 1641 1642 1643 1644 1645 1646 1647 1648 1649 1650 1651 1652 1653 1654 1655 1656 1657 1658 1659 1660 1661 1662 1663 1664 1665 1666 1667 1668 1669 1670 1671 1672 1673 1674 1675 1676 1677 1678 1679 1680 1681 1682 1683 1684 1685 1686 1687 1688 1689 1690 1691 1692 1693 1694 1695 1696 1697 1698 1699 1700 1701 1702 1703 1704 1705 1706 1707 1708 1709 1710 1711 1712 1713 1714 1715 1716 1717 1718 1719 1720 1721 1722 1723 1724 1725 1726 1727 1728 1729 1730 1731 1732 1733 1734 1735 1736 1737 1738 1739 1740 1741 1742 1743 1744 1745 1746 1747 1748 1749 1750 1751 1752 1753 1754 1755 1756 1757 1758 1759 1760 1761 1762 1763 1764 1765 1766 1767 1768 1769 1770 1771 1772 1773 1774 1775 1776 1777 1778 1779 1780 1781 1782 1783 1784 1785 1786 1787 1788 1789 1790 1791 1792 1793 1794 1795 1796 1797 1798 1799 1800 1801 1802 1803 1804 1805 1806 1807 1808 1809 1810 1811 1812 1813 1814 1815 1816 1817 1818 1819 1820 1821 1822 1823 1824 1825 1826 1827 1828 1829 1830 1831 1832 1833 1834 1835 1836 1837 1838 1839 1840 1841 1842 1843 1844 1845 1846 1847 1848 1849 1850 1851 1852 1853 1854 1855 1856 1857 1858 1859 1860 1861 1862 1863 1864 1865 1866 1867 1868 1869 1870 1871 1872 1873 1874 1875 1876 1877 1878 1879 1880 1881 1882 1883 1884 1885 1886 1887 1888 1889 1890 1891 1892 1893 1894 1895 1896 1897 1898 1899 1900 1901 1902 1903 1904 1905 1906 1907 1908 1909 1910 1911 1912 1913 1914 1915 1916 1917 1918 1919 1920 1921 1922 1923 1924 1925 1926 1927 1928 1929 1930 1931 1932 1933 1934 1935 1936 1937 1938 1939 1940 1941 1942 1943 1944 1945 1946 1947 1948 1949 1950 1951 1952 1953 1954 1955 1956 1957 1958 1959 1960 1961 1962 1963 1964 1965 1966 1967 1968 1969 1970 1971 1972 1973 1974 1975 1976 1977 1978 1979 1980 1981 1982 1983 1984 1985 1986 1987 1988 1989 1990 1991 1992 1993 1994 1995 1996 1997 1998 1999 "
     ]
    }
   ],
   "source": [
    "sim_id = \"VALD-HCN-SHRK-S-m-1a\"\n",
    "params = s_utils.load_sim_params(sim_id)[\"0\"]\n",
    "gh_range_arr= np.array([0.0015,0])\n",
    "dc_range_arr = np.linspace(-2.7e-3,1e-2,1000,endpoint=True)\n",
    "n_trials = 1\n",
    "sim_num = 0\n",
    "multiple_input_params = {}\n",
    "sim_dur=params[\"sim_dur\"]\n",
    "knock_out_arr  = np.zeros((gh_range_arr.shape[0],dc_range_arr.shape[0],n_trials,5))\n",
    "fr_rates_orig = np.zeros((gh_range_arr.shape[0],dc_range_arr.shape[0],n_trials))\n",
    "with h5py.File(\"data/VALD-HCN-SHRK-S-m-1a/VALD-HCN-SHRK-S-m-1a-grid_props.hdf5\",\"r\") as f:\n",
    "    for i,gh in enumerate(gh_range_arr):\n",
    "        for j,dc in enumerate(dc_range_arr):\n",
    "            for tr in range(n_trials):\n",
    "                knock_out_arr[i,j,tr,:]=np.array(f[f\"{sim_num}\"])\n",
    "                sim_num +=1\n",
    "sim_num = 0\n",
    "with h5py.File(\"data/VALD-HCN-SHRK-S-m-1a/intrnrn_spks_VALD-HCN-SHRK-S-m-1a.hdf5\",\"r\") as f:\n",
    "    for i,gh in enumerate(gh_range_arr):\n",
    "        for j,dc in enumerate(dc_range_arr):\n",
    "            for tr in range(n_trials):\n",
    "                print(sim_num,end=\" \")\n",
    "                intrnrn_spks_arr = np.array(f[f\"{sim_num}\"][\"intrnrn_spks\"])\n",
    "                intrnrn_spikes_l = [list(cell[~np.isnan(cell)]) for cell in intrnrn_spks_arr]\t\t\n",
    "                fr_rates_orig[i,j,tr]=a_utils.calc_firing_rates(intrnrn_spikes_l,sim_dur)\n",
    "                sim_num +=1"
   ]
  },
  {
   "cell_type": "code",
   "execution_count": 79,
   "id": "8894a817",
   "metadata": {},
   "outputs": [
    {
     "name": "stdout",
     "output_type": "stream",
     "text": [
      "0 1 2 3 4 5 6 7 8 9 10 11 12 13 14 15 16 17 18 19 20 21 22 23 24 25 26 27 28 29 30 31 32 33 34 35 36 37 38 39 40 41 42 43 44 45 46 47 48 49 50 51 52 53 54 55 56 57 58 59 60 61 62 63 64 65 66 67 68 69 70 71 72 73 74 75 76 77 78 79 80 81 82 83 84 85 86 87 88 89 90 91 92 93 94 95 96 97 98 99 100 101 102 103 104 105 106 107 108 109 110 111 112 113 114 115 116 117 118 119 120 121 122 123 124 125 126 127 128 129 130 131 132 133 134 135 136 137 138 139 140 141 142 143 144 145 146 147 148 149 150 151 152 153 154 155 156 157 158 159 160 161 162 163 164 165 166 167 168 169 170 171 172 173 174 175 176 177 178 179 180 181 182 183 184 185 186 187 188 189 190 191 192 193 194 195 196 197 198 199 200 201 202 203 204 205 206 207 208 209 210 211 212 213 214 215 216 217 218 219 220 221 222 223 224 225 226 227 228 229 230 231 232 233 234 235 236 237 238 239 240 241 242 243 244 245 246 247 248 249 250 251 252 253 254 255 256 257 258 259 260 261 262 263 264 265 266 267 268 269 270 271 272 273 274 275 276 277 278 279 280 281 282 283 284 285 286 287 288 289 290 291 292 293 294 295 296 297 298 299 300 301 302 303 304 305 306 307 308 309 310 311 312 313 314 315 316 317 318 319 320 321 322 323 324 325 326 327 328 329 330 331 332 333 334 335 336 337 338 339 340 341 342 343 344 345 346 347 348 349 350 351 352 353 354 355 356 357 358 359 360 361 362 363 364 365 366 367 368 369 370 371 372 373 374 375 376 377 378 379 380 381 382 383 384 385 386 387 388 389 390 391 392 393 394 395 396 397 398 399 400 401 402 403 404 405 406 407 408 409 410 411 412 413 414 415 416 417 418 419 420 421 422 423 424 425 426 427 428 429 430 431 432 433 434 435 436 437 438 439 440 441 442 443 444 445 446 447 448 449 450 451 452 453 454 455 456 457 458 459 460 461 462 463 464 465 466 467 468 469 470 471 472 473 474 475 476 477 478 479 480 481 482 483 484 485 486 487 488 489 490 491 492 493 494 495 496 497 498 499 500 501 502 503 504 505 506 507 508 509 510 511 512 513 514 515 516 517 518 519 520 521 522 523 524 525 526 527 528 529 530 531 532 533 534 535 536 537 538 539 540 541 542 543 544 545 546 547 548 549 550 551 552 553 554 555 556 557 558 559 560 561 562 563 564 565 566 567 568 569 570 571 572 573 574 575 576 577 578 579 580 581 582 583 584 585 586 587 588 589 590 591 592 593 594 595 596 597 598 599 600 601 602 603 604 605 606 607 608 609 610 611 612 613 614 615 616 617 618 619 620 621 622 623 624 625 626 627 628 629 630 631 632 633 634 635 636 637 638 639 640 641 642 643 644 645 646 647 648 649 650 651 652 653 654 655 656 657 658 659 660 661 662 663 664 665 666 667 668 669 670 671 672 673 674 675 676 677 678 679 680 681 682 683 684 685 686 687 688 689 690 691 692 693 694 695 696 697 698 699 700 701 702 703 704 705 706 707 708 709 710 711 712 713 714 715 716 717 718 719 720 721 722 723 724 725 726 727 728 729 730 731 732 733 734 735 736 737 738 739 740 741 742 743 744 745 746 747 748 749 750 751 752 753 754 755 756 757 758 759 760 761 762 763 764 765 766 767 768 769 770 771 772 773 774 775 776 777 778 779 780 781 782 783 784 785 786 787 788 789 790 791 792 793 794 795 796 797 798 799 800 801 802 803 804 805 806 807 808 809 810 811 812 813 814 815 816 817 818 819 820 821 822 823 824 825 826 827 828 829 830 831 832 833 834 835 836 837 838 839 840 841 842 843 844 845 846 847 848 849 850 851 852 853 854 855 856 857 858 859 860 861 862 863 864 865 866 867 868 869 870 871 872 873 874 875 876 877 878 879 880 881 882 883 884 885 886 887 888 889 890 891 892 893 894 895 896 897 898 899 900 901 902 903 904 905 906 907 908 909 910 911 912 913 914 915 916 917 918 919 920 921 922 923 924 925 926 927 928 929 930 931 932 933 934 935 936 937 938 939 940 941 942 943 944 945 946 947 948 949 950 951 952 953 954 955 956 957 958 959 960 961 962 963 964 965 966 967 968 969 970 971 972 973 974 975 976 977 978 979 980 981 982 983 984 985 986 987 988 989 990 991 992 993 994 995 996 997 998 999 "
     ]
    }
   ],
   "source": [
    "sim_id = \"VALD-HCN-SHRK-S-m-2a\"\n",
    "params_inhib = s_utils.load_sim_params(sim_id)[\"0\"]\n",
    "dc_range_arr = np.linspace(-2.7e-3,1e-2,1000,endpoint=True)\n",
    "n_trials = 1\n",
    "sim_num = 0\n",
    "sim_dur = params_inhib[\"sim_dur\"]\n",
    "knock_out_arr_inhib  = np.zeros((dc_range_arr.shape[0],n_trials,5))\n",
    "fr_rates_inhib= np.zeros((dc_range_arr.shape[0],n_trials))\n",
    "\n",
    "with h5py.File(\"data/VALD-HCN-SHRK-S-m-2a/VALD-HCN-SHRK-S-m-2a-grid_props.hdf5\",\"r\") as f:\n",
    "    for i,dc in enumerate(dc_range_arr):\n",
    "        for tr in range(n_trials):\n",
    "            knock_out_arr_inhib[i,tr,:]=np.array(f[f\"{sim_num}\"])\n",
    "            sim_num +=1\n",
    "sim_num = 0            \n",
    "with h5py.File(\"data/VALD-HCN-SHRK-S-m-2a/intrnrn_spks_VALD-HCN-SHRK-S-m-2a.hdf5\",\"r\") as f:\n",
    "    for i,dc in enumerate(dc_range_arr):\n",
    "        for tr in range(n_trials):\n",
    "            print(sim_num,end=\" \")\n",
    "            intrnrn_spks_arr = np.array(f[f\"{sim_num}\"][\"intrnrn_spks\"])\n",
    "            intrnrn_spikes_l = [list(cell[~np.isnan(cell)]) for cell in intrnrn_spks_arr]\t\n",
    "            fr_rates_inhib[i,tr]=a_utils.calc_firing_rates(intrnrn_spikes_l,sim_dur)\n",
    "            sim_num +=1\n",
    "            "
   ]
  },
  {
   "cell_type": "code",
   "execution_count": 101,
   "id": "69359e38",
   "metadata": {},
   "outputs": [
    {
     "data": {
      "image/png": "[encoded data removed]",
      "text/plain": [
       "<Figure size 151.8x74.2 with 1 Axes>"
      ]
     },
     "metadata": {},
     "output_type": "display_data"
    }
   ],
   "source": [
    "%matplotlib inline\n",
    "dc_range_arr_zoom = np.linspace(0.001245,0.006,1000,endpoint=True)\n",
    "plt.style.use(\"analysis/config/paper.mplstyle\")\n",
    "fig,ax=plt.subplots(figsize=(1.518,0.742))\n",
    "sns.lineplot(x=dc_range_arr[5:],y=knock_out_arr[0,5:,0,4].ravel(),label=\"HCN WT\",linewidth=1,c=\"#474747\")\n",
    "sns.lineplot(x=dc_range_arr[310:],y=knock_out_arr[1,310:,0,4].ravel(),label=\"HCN KO\",c=\"#0C5DA5\",linewidth=1)\n",
    "ax.fill_between(dc_range_arr[310:686], knock_out_arr[1,310:686,0,4].ravel(),knock_out_arr[0,310:686,0,4].ravel(),color=(0,185/255,69/255,0.35))\n",
    "x=np.arange(-0.0027,0.002,0.0001)\n",
    "y = np.arange(0,80)\n",
    "plt.legend(loc=(0.45,0.08),ncols=1,fontsize=6)\n",
    "plt.draw()\n",
    "xticks = ax.get_xticks()\n",
    "ax.set_xticks([xticks[1],xticks[-2]])\n",
    "plt.savefig(\"analysis/figures/Fig4/Fig4_D.svg\",bbox_inches=\"tight\")\n"
   ]
  },
  {
   "cell_type": "code",
   "execution_count": 100,
   "id": "16491607",
   "metadata": {},
   "outputs": [
    {
     "name": "stderr",
     "output_type": "stream",
     "text": [
      "/data/main/2024/GridCellsCond/.venv/lib/python3.12/site-packages/seaborn/relational.py:438: UserWarning: *c* argument looks like a single numeric RGB or RGBA sequence, which should be avoided as value-mapping will have precedence in case its length matches with *x* & *y*.  Please use the *color* keyword-argument or provide a 2D array with a single row if you intend to specify the same RGB or RGBA value for all points.\n",
      "  points = ax.scatter(x=x, y=y, **kws)\n"
     ]
    },
    {
     "data": {
      "image/png": "[encoded data removed]",
      "text/plain": [
       "<Figure size 151.8x74.2 with 1 Axes>"
      ]
     },
     "metadata": {},
     "output_type": "display_data"
    }
   ],
   "source": [
    "%matplotlib inline\n",
    "\n",
    "dc_range_arr_inhib = np.linspace(-2.7e-3,1e-2,1000,endpoint=True)\n",
    "dc_range_arr = np.linspace(-2.7e-3,1e-2,1000,endpoint=True)\n",
    "plt.style.use(\"analysis/config/paper.mplstyle\")\n",
    "fig,ax=plt.subplots(figsize=(1.518,0.742))\n",
    "\n",
    "sns.scatterplot(x=dc_range_arr[315:],y=fr_rates_orig[0,315:,:].ravel(),s=1,label=\"WT\",c=\"#474747\",linewidth=0)\n",
    "sns.scatterplot(x=dc_range_arr[315:],y=fr_rates_orig[1,315:,:].ravel(),s=1,label=\"KO\",linewidth=0,c=\"#0C5DA5\")\n",
    "sns.scatterplot(x=dc_range_arr_inhib[315:],y=fr_rates_inhib.ravel()[315:],s=1,label=\"KO-restored inhibition\",linewidth=0,c=cm.Spectral(0.84))\n",
    "plt.legend(loc=(0.15,-0.01),markerscale=3,ncols=1,fontsize=6,handletextpad=0.1,markerfirst=False)\n",
    "plt.draw()\n",
    "yticks = ax.get_yticks()\n",
    "ax.set_yticks([yticks[1], yticks[-2]])\n",
    "xticks = ax.get_xticks()\n",
    "ax.set_xticks([xticks[1],xticks[-2]])\n",
    "plt.savefig(\"analysis/figures/Fig4/Fig4_C.svg\")\n"
   ]
  }
 ],
 "metadata": {
  "kernelspec": {
   "display_name": ".venv",
   "language": "python",
   "name": "python3"
  },
  "language_info": {
   "codemirror_mode": {
    "name": "ipython",
    "version": 3
   },
   "file_extension": ".py",
   "mimetype": "text/x-python",
   "name": "python",
   "nbconvert_exporter": "python",
   "pygments_lexer": "ipython3",
   "version": "3.12.3"
  }
 },
 "nbformat": 4,
 "nbformat_minor": 5
}
