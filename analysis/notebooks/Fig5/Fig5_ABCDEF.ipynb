{
 "cells": [
  {
   "cell_type": "code",
   "execution_count": 1,
   "id": "5980f10f",
   "metadata": {},
   "outputs": [
    {
     "name": "stdout",
     "output_type": "stream",
     "text": [
      "/data/main/2024/GridCellsCond\n"
     ]
    }
   ],
   "source": [
    "#Run this notebook in the root directory of the project\n",
    "%cd ../../../"
   ]
  },
  {
   "cell_type": "code",
   "execution_count": 19,
   "id": "e5c1e5c6-ce12-44ec-90e3-8b881fa01cb4",
   "metadata": {},
   "outputs": [],
   "source": [
    "import matplotlib.pyplot as plt\n",
    "import numpy as np\n",
    "import sim_utils as s_utils\n",
    "import h5py\n",
    "import seaborn as sns\n",
    "import analysis_pred_utils as a_pred_utils\n",
    "import analysis_utils as a_utils\n",
    "import matplotlib.patches as patches\n",
    "import matplotlib as mpl\n",
    "%matplotlib inline"
   ]
  },
  {
   "cell_type": "markdown",
   "id": "17e3b905",
   "metadata": {},
   "source": [
    "## Positional bias with and without HCN"
   ]
  },
  {
   "cell_type": "code",
   "execution_count": 20,
   "id": "e7eeab69",
   "metadata": {},
   "outputs": [],
   "source": [
    "\"\"\"\n",
    "Load Data\n",
    "\"\"\"\n",
    "predictive_data={}\n",
    "raw_data={}\n",
    "sim_id = \"VALD-PRED-INT-S-s-1a\"\n",
    "cell_to_analyse = 30\n",
    "predictive_data[sim_id]={}\n",
    "raw_data[sim_id]={}\n",
    "params = s_utils.load_sim_params(sim_id)\n",
    "stell_spks_l, intrnrn_spks_l = s_utils.load_spikes(sim_id)\n",
    "true_pos = a_pred_utils.decode_pos_by_intrnrn(intrnrn_spks_l,params)\n",
    "stell_decoded_pos= a_utils.decode_pos(stell_spks_l,params)\n",
    "stell_syn_inhib_g = s_utils.load_data(sim_id,\"stell_syn_inhib_g\",cell_n=cell_to_analyse)\n",
    "bounds = (params[\"extra_params\"][\"dir_change_t\"],int(params[\"sim_dur\"]))\n",
    "raw_data[sim_id][\"stell_spks\"] = stell_spks_l\n",
    "raw_data[sim_id][\"intrnrn_spks\"]=intrnrn_spks_l\n",
    "raw_data[sim_id][\"params\"] =params\n",
    "raw_data[sim_id][\"true_pos\"] =true_pos\n",
    "raw_data[sim_id][\"stell_syn_inhib_g\"] =stell_syn_inhib_g\n",
    "raw_data[sim_id][\"stell_decoded_pos\"] =stell_decoded_pos\n",
    "\n",
    "\n",
    "sim_id = \"VALD-PRED-INT-S-s-2a\"\n",
    "predictive_data[sim_id]={}\n",
    "raw_data[sim_id]={}\n",
    "params = s_utils.load_sim_params(sim_id)\n",
    "stell_spks_l, intrnrn_spks_l = s_utils.load_spikes(sim_id)\n",
    "true_pos = a_pred_utils.decode_pos_by_intrnrn(intrnrn_spks_l,params)\n",
    "stell_decoded_pos= a_utils.decode_pos(stell_spks_l,params)\n",
    "stell_syn_inhib_g = s_utils.load_data(sim_id,\"stell_syn_inhib_g\",cell_n=cell_to_analyse)\n",
    "\n",
    "bounds = (params[\"extra_params\"][\"dir_change_t\"],int(params[\"sim_dur\"]))\n",
    "raw_data[sim_id][\"stell_spks\"] = stell_spks_l\n",
    "raw_data[sim_id][\"intrnrn_spks\"]=intrnrn_spks_l\n",
    "raw_data[sim_id][\"params\"] =params\n",
    "raw_data[sim_id][\"true_pos\"] =true_pos\n",
    "raw_data[sim_id][\"stell_syn_inhib_g\"] =stell_syn_inhib_g\n",
    "raw_data[sim_id][\"stell_decoded_pos\"] =stell_decoded_pos\n",
    "\n"
   ]
  },
  {
   "cell_type": "code",
   "execution_count": 21,
   "id": "4870f5ce",
   "metadata": {},
   "outputs": [
    {
     "data": {
      "image/png": "[encoded data removed]",
      "text/plain": [
       "<Figure size 300x100 with 1 Axes>"
      ]
     },
     "metadata": {},
     "output_type": "display_data"
    }
   ],
   "source": [
    "plt.style.use(\"analysis/config/paper.mplstyle\")\n",
    "sim_id = \"VALD-PRED-INT-S-s-1a\"\n",
    "fig,axs = plt.subplots(1,1,figsize=(3,1))\n",
    "win_size=6\n",
    "cell_spks_r = np.array(raw_data[sim_id][\"stell_spks\"][cell_to_analyse])\n",
    "cell_spks_l = np.array(raw_data[sim_id][\"stell_spks\"][cell_to_analyse+raw_data[sim_id][\"params\"][\"N_per_sheet\"]])\n",
    "separate_fields_r = a_pred_utils.remove_uneven_fields(cell_spks_r,(params[\"allothetic_dur\"],bounds[0]))\n",
    "separate_fields_l = a_pred_utils.remove_uneven_fields(cell_spks_l,(bounds[0]+params[\"allothetic_dur\"],bounds[1]))\n",
    "field_pos_l = a_pred_utils.calculate_field_positions(separate_fields_l,raw_data[sim_id][\"true_pos\"])\n",
    "field_pos_r = a_pred_utils.calculate_field_positions(separate_fields_r,raw_data[sim_id][\"true_pos\"])\n",
    "convoled_l = a_pred_utils.convole_field_pos(field_pos_l,raw_data[sim_id][\"params\"],win_size=win_size)\n",
    "\n",
    "convoled_l=np.mean(convoled_l,axis=0)\n",
    "convoled_l=convoled_l\n",
    "convoled_r = a_pred_utils.convole_field_pos(field_pos_r,raw_data[sim_id][\"params\"],win_size=win_size)\n",
    "convoled_r=np.mean(convoled_r,axis=0)\n",
    "convoled_r=convoled_r\n",
    "pos = np.arange(0,raw_data[sim_id][\"params\"][\"lambda0\"],raw_data[sim_id][\"params\"][\"lambda0\"]/raw_data[sim_id][\"params\"][\"n_phases\"])\n",
    "means = np.mean(np.row_stack((convoled_l,convoled_r)),axis=0)\n",
    "axs.plot(pos,convoled_r/np.max(convoled_r),label=\"right\",c=\"#0C5DA5\")\n",
    "axs.plot(pos,convoled_l/np.max(convoled_l),label=\"left\",c=\"#00B945\")\n",
    "axs.plot(pos,means/np.max(means),label=\"averaged\",c=\"#474747\")\n",
    "plt.legend(fontsize=6,loc=\"upper left\")\n",
    "plt.draw()\n",
    "yticks = axs.get_yticks()\n",
    "axs.set_yticks([yticks[1], yticks[-2]])\n",
    "xticks = axs.get_xticks()\n",
    "axs.set_xticks([xticks[1],xticks[int(len(xticks)/2)], xticks[-2]])\n",
    "peak_l=pos[np.argmax(convoled_l)]\n",
    "peak_r=pos[np.argmax(convoled_r)]\n",
    "peak_mean=pos[np.argmax(means)]\n",
    "plt.savefig(f\"analysis/figures/Fig5/Fig5_A_left.svg\")\n",
    "plt.show()"
   ]
  },
  {
   "cell_type": "code",
   "execution_count": 22,
   "id": "1d92a07b",
   "metadata": {},
   "outputs": [
    {
     "name": "stdout",
     "output_type": "stream",
     "text": [
      "10.942748775485093\n"
     ]
    }
   ],
   "source": [
    "sim_id = \"VALD-PRED-INT-S-s-1a\"\n",
    "field_size = a_pred_utils.calc_field_size(raw_data[sim_id][\"stell_spks\"],raw_data[sim_id][\"true_pos\"],raw_data[sim_id][\"params\"],bounds)\n",
    "bias = a_pred_utils.calc_bias_stell_intrnrn(raw_data[sim_id][\"stell_decoded_pos\"],raw_data[sim_id][\"true_pos\"],raw_data[sim_id][\"params\"],bounds)\n",
    "print(bias*100/field_size)"
   ]
  },
  {
   "cell_type": "code",
   "execution_count": 23,
   "id": "b4b46f61",
   "metadata": {},
   "outputs": [
    {
     "data": {
      "image/png": "[encoded data removed]",
      "text/plain": [
       "<Figure size 300x100 with 1 Axes>"
      ]
     },
     "metadata": {},
     "output_type": "display_data"
    }
   ],
   "source": [
    "plt.style.use(\"analysis/config/paper.mplstyle\")\n",
    "sim_id = \"VALD-PRED-INT-S-s-2a\"\n",
    "fig,axs = plt.subplots(1,1,figsize=(3,1))\n",
    "win_size=7\n",
    "cell_spks_r = np.array(raw_data[sim_id][\"stell_spks\"][cell_to_analyse])\n",
    "cell_spks_l = np.array(raw_data[sim_id][\"stell_spks\"][cell_to_analyse+raw_data[sim_id][\"params\"][\"N_per_sheet\"]])\n",
    "separate_fields_r = a_pred_utils.remove_uneven_fields(cell_spks_r,(params[\"allothetic_dur\"],bounds[0]))\n",
    "separate_fields_l = a_pred_utils.remove_uneven_fields(cell_spks_l,(bounds[0]+params[\"allothetic_dur\"],bounds[1]))\n",
    "field_pos_l = a_pred_utils.calculate_field_positions(separate_fields_l,raw_data[sim_id][\"true_pos\"])\n",
    "field_pos_r = a_pred_utils.calculate_field_positions(separate_fields_r,raw_data[sim_id][\"true_pos\"])\n",
    "convoled_l = a_pred_utils.convole_field_pos(field_pos_l,raw_data[sim_id][\"params\"],win_size=win_size)\n",
    "convoled_l=np.mean(convoled_l,axis=0)\n",
    "convoled_l=convoled_l\n",
    "convoled_r = a_pred_utils.convole_field_pos(field_pos_r,raw_data[sim_id][\"params\"],win_size=win_size)\n",
    "convoled_r=np.mean(convoled_r,axis=0)\n",
    "convoled_r=convoled_r\n",
    "pos = np.arange(0,raw_data[sim_id][\"params\"][\"lambda0\"],raw_data[sim_id][\"params\"][\"lambda0\"]/raw_data[sim_id][\"params\"][\"n_phases\"])\n",
    "means = np.mean(np.row_stack((convoled_l,convoled_r)),axis=0)\n",
    "axs.plot(pos,convoled_r/np.max(convoled_r),label=\"right\",c=\"#0C5DA5\")\n",
    "axs.plot(pos,convoled_l/np.max(convoled_l),label=\"left\",c=\"#00B945\")\n",
    "axs.plot(pos,means/np.max(means),label=\"averaged\",c=\"#474747\")\n",
    "plt.legend(fontsize=6,loc=\"upper left\")\n",
    "plt.draw()\n",
    "yticks = axs.get_yticks()\n",
    "axs.set_yticks([yticks[1], yticks[-2]])\n",
    "xticks = axs.get_xticks()\n",
    "axs.set_xticks([xticks[1],xticks[int(len(xticks)/2)], xticks[-2]])\n",
    "peak_l=pos[np.argmax(convoled_l)]\n",
    "peak_r=pos[np.argmax(convoled_r)]\n",
    "peak_mean=pos[np.argmax(means)]\n",
    "plt.savefig(f\"analysis/figures/Fig5/Fig5_A_right.svg\")\n",
    "plt.show()\n",
    "\n"
   ]
  },
  {
   "cell_type": "code",
   "execution_count": 7,
   "id": "1611a87d",
   "metadata": {},
   "outputs": [
    {
     "name": "stdout",
     "output_type": "stream",
     "text": [
      "-5.736581902719549\n"
     ]
    }
   ],
   "source": [
    "sim_id = \"VALD-PRED-INT-S-s-2a\"\n",
    "field_size = a_pred_utils.calc_field_size(raw_data[sim_id][\"stell_spks\"],raw_data[sim_id][\"true_pos\"],raw_data[sim_id][\"params\"],bounds)\n",
    "bias = a_pred_utils.calc_bias_stell_intrnrn(raw_data[sim_id][\"stell_decoded_pos\"],raw_data[sim_id][\"true_pos\"],raw_data[sim_id][\"params\"],bounds)\n",
    "bias = a_pred_utils.calc_bias_stell_intrnrn(raw_data[sim_id][\"stell_decoded_pos\"],raw_data[sim_id][\"true_pos\"],raw_data[sim_id][\"params\"],bounds)\n",
    "print(bias*100/field_size)"
   ]
  },
  {
   "cell_type": "markdown",
   "id": "4327f278",
   "metadata": {},
   "source": [
    "# Inhibitory synaptic Trace"
   ]
  },
  {
   "cell_type": "code",
   "execution_count": 12,
   "id": "87130a15",
   "metadata": {},
   "outputs": [
    {
     "data": {
      "image/png": "[encoded data removed]",
      "text/plain": [
       "<Figure size 180.7x100 with 1 Axes>"
      ]
     },
     "metadata": {},
     "output_type": "display_data"
    }
   ],
   "source": [
    "%matplotlib inline\n",
    "plt.style.use(\"analysis/config/paper.mplstyle\")\n",
    "sim_id = \"VALD-PRED-INT-S-s-1a\"\n",
    "x = np.arange(0,raw_data[f\"{sim_id}\"][\"params\"][\"sim_dur\"],raw_data[f\"{sim_id}\"][\"params\"][\"recorder_dt\"])\n",
    "fig,axs = plt.subplots(1,1,figsize=(3-0.174-1.019,1))\n",
    "axs.plot(x,raw_data[f\"{sim_id}\"][\"stell_syn_inhib_g\"],c=\"black\",linewidth=0.75)\n",
    "axs.eventplot(raw_data[f\"{sim_id}\"][\"stell_spks\"][cell_to_analyse],linelengths=0.0008,lineoffsets=0.001,color=\"red\")\n",
    "axs.set_ylim([-0.0005,0.006])\n",
    "axs.set_xlim([15450,19000])\n",
    "rect = patches.Rectangle((17000, -0.0015), 1000, 0.0007, edgecolor='none', facecolor='grey',clip_on=False)\n",
    "axs.add_patch(rect)\n",
    "plt.draw()\n",
    "yticks = axs.get_yticks()\n",
    "axs.set_yticks([yticks[1], yticks[-2]])\n",
    "axs.set_xticks([])\n",
    "plt.savefig(f\"analysis/figures/Fig5/Fig5_B_left.svg\")\n"
   ]
  },
  {
   "cell_type": "code",
   "execution_count": 13,
   "id": "b6610200",
   "metadata": {},
   "outputs": [
    {
     "name": "stdout",
     "output_type": "stream",
     "text": [
      "16844\n",
      "1.29e-04\n",
      "17626\n",
      "2.27e-06\n"
     ]
    }
   ],
   "source": [
    "sim_id = \"VALD-PRED-INT-S-s-1a\"\n",
    "fspk = raw_data[f\"{sim_id}\"][\"stell_spks\"][cell_to_analyse][69].astype(\"int\") #round to recorer dt\n",
    "recorder_dt = raw_data[f\"{sim_id}\"][\"params\"][\"recorder_dt\"]\n",
    "first_spike_inhib_hcn=raw_data[f\"{sim_id}\"][\"stell_syn_inhib_g\"][int(fspk/recorder_dt)]\n",
    "print(fspk)\n",
    "print(f\"{first_spike_inhib_hcn:.2e}\")\n",
    "\n",
    "sim_id = \"VALD-PRED-INT-S-s-1a\"\n",
    "lspk = raw_data[f\"{sim_id}\"][\"stell_spks\"][cell_to_analyse][77].astype(\"int\")\n",
    "recorder_dt = raw_data[f\"{sim_id}\"][\"params\"][\"recorder_dt\"]\n",
    "last_spike_inhib_hcn=raw_data[f\"{sim_id}\"][\"stell_syn_inhib_g\"][int(lspk/recorder_dt)]\n",
    "print(lspk)\n",
    "print(f\"{last_spike_inhib_hcn:.2e}\")\n",
    "\n"
   ]
  },
  {
   "cell_type": "code",
   "execution_count": 16,
   "id": "91d1c083",
   "metadata": {},
   "outputs": [],
   "source": [
    "%matplotlib qt\n",
    "\n",
    "plt.style.use(\"analysis/config/paper.mplstyle\")\n",
    "sim_id = \"VALD-PRED-INT-S-s-2a\"\n",
    "x = np.arange(0,raw_data[f\"{sim_id}\"][\"params\"][\"sim_dur\"],raw_data[f\"{sim_id}\"][\"params\"][\"recorder_dt\"])\n",
    "fig,axs = plt.subplots(1,1,figsize=(3-0.174-1.019,1))\n",
    "axs.plot(x,raw_data[f\"{sim_id}\"][\"stell_syn_inhib_g\"],c=\"black\",linewidth=0.75)\n",
    "axs.eventplot(raw_data[f\"{sim_id}\"][\"stell_spks\"][cell_to_analyse],linelengths=0.0008,lineoffsets=0.001,color=\"red\")\n",
    "rect = patches.Rectangle((17000, -0.0015), 1000, 0.0007, edgecolor='none', facecolor='grey',clip_on=False)\n",
    "axs.add_patch(rect)\n",
    "plt.draw()\n",
    "yticks = axs.get_yticks()\n",
    "axs.set_yticks([yticks[1], yticks[-2]])\n",
    "axs.set_xticks([])\n",
    "axs.set_xlim([15700,19300])\n",
    "axs.set_ylim([-0.0005,0.006])\n",
    "plt.savefig(f\"analysis/figures/Fig5/Fig5_B_right.svg\")\n",
    "\n",
    "\n"
   ]
  },
  {
   "cell_type": "code",
   "execution_count": 15,
   "id": "45559c9a",
   "metadata": {},
   "outputs": [
    {
     "name": "stdout",
     "output_type": "stream",
     "text": [
      "17140\n",
      "3.02e-07\n",
      "17675\n",
      "8.55e-06\n"
     ]
    }
   ],
   "source": [
    "sim_id = \"VALD-PRED-INT-S-s-2a\"\n",
    "fspk = raw_data[f\"{sim_id}\"][\"stell_spks\"][cell_to_analyse][50].astype(\"int\") #round to recorer dt\n",
    "print(fspk)\n",
    "recorder_dt = raw_data[f\"{sim_id}\"][\"params\"][\"recorder_dt\"]\n",
    "first_spike_inhib_hcn_ko=raw_data[f\"{sim_id}\"][\"stell_syn_inhib_g\"][int(fspk/recorder_dt)]\n",
    "print(f\"{first_spike_inhib_hcn_ko:.2e}\")\n",
    "\n",
    "sim_id = \"VALD-PRED-INT-S-s-2a\"\n",
    "lspk = raw_data[f\"{sim_id}\"][\"stell_spks\"][cell_to_analyse][55].astype(\"int\")\n",
    "print(lspk)\n",
    "recorder_dt = raw_data[f\"{sim_id}\"][\"params\"][\"recorder_dt\"]\n",
    "last_spike_inhib_hcn_ko=raw_data[f\"{sim_id}\"][\"stell_syn_inhib_g\"][int(lspk/recorder_dt)]\n",
    "print(f\"{last_spike_inhib_hcn_ko:.2e}\")\n",
    "\n"
   ]
  },
  {
   "cell_type": "markdown",
   "id": "8e4e01aa",
   "metadata": {},
   "source": [
    "## gh vs inhib syn at first vs last spikes"
   ]
  },
  {
   "cell_type": "code",
   "execution_count": 24,
   "id": "9a0c25e4",
   "metadata": {},
   "outputs": [
    {
     "name": "stdout",
     "output_type": "stream",
     "text": [
      "0 1 2 3 4 5 6 7 8 9 10 11 12 13 14 15 16 17 18 19 20 "
     ]
    }
   ],
   "source": [
    "\"\"\"\n",
    "Load Data\n",
    "\"\"\"\n",
    "import csv\n",
    "sim_id = \"VALD-PRED-INT-S-m-1a\"\n",
    "params = s_utils.load_sim_params(sim_id)[\"0\"]\n",
    "fspk_inhib = []\n",
    "lspk_inhib = []\n",
    "gh_range_arr = np.linspace(0,0.002,21)\n",
    "n_trials=1\n",
    "sim_num = 0\n",
    "for gh in gh_range_arr:\n",
    "    for tr in range(n_trials):\n",
    "        print(sim_num,end=\" \")\n",
    "        stell_spks_l,_= s_utils.load_spikes(sim_id,sim_num=sim_num)\n",
    "        inhib_g = s_utils.load_full_data(sim_id,data_id=\"stell_syn_inhib_g\",sim_num=sim_num)\n",
    "        fspk,lspk = a_pred_utils.calc_inhib_g_at_first_and_last_spike(stell_spks_l[:params[\"N_per_sheet\"]],inhib_g)\n",
    "        fspk_inhib.append(fspk)\n",
    "        lspk_inhib.append(lspk)\n",
    "        sim_num+=1\n"
   ]
  },
  {
   "cell_type": "code",
   "execution_count": 25,
   "id": "47ea7e3a",
   "metadata": {},
   "outputs": [],
   "source": [
    "def sci_notation(num, pos,decimal_digits=1, precision=None, exponent=None):\n",
    "    print(num.shape)\n",
    "    \"\"\"\n",
    "    Returns a string representation of the scientific\n",
    "    notation of the given number formatted for use with\n",
    "    LaTeX or Mathtext, with specified number of significant\n",
    "    decimal digits and precision (number of decimal digits\n",
    "    to show). The exponent to be used can also be specified\n",
    "    explicitly.\n",
    "    \"\"\"\n",
    "    if exponent is None:\n",
    "        exponent = np.floor(np.log10(np.abs(num))).astype(\"int\")\n",
    "    coeff = round(num / float(10**exponent), decimal_digits)\n",
    "    if precision is None:\n",
    "        precision = decimal_digits\n",
    "\n",
    "    return r\"${0:.{2}f}\\cdot10^{{{1:d}}}$\".format(coeff, exponent, precision)"
   ]
  },
  {
   "cell_type": "code",
   "execution_count": 26,
   "id": "ddcbe824",
   "metadata": {},
   "outputs": [
    {
     "data": {
      "image/png": "[encoded data removed]",
      "text/plain": [
       "<Figure size 180x110 with 1 Axes>"
      ]
     },
     "metadata": {},
     "output_type": "display_data"
    }
   ],
   "source": [
    "plt.style.use(\"analysis/config/paper.mplstyle\")\n",
    "plt.rcParams[\"legend.frameon\"]=True\n",
    "plt.rcParams[\"legend.fancybox\"]=False\n",
    "\n",
    "fig ,ax = plt.subplots(1,1,figsize=(1.8,1.1))\n",
    "for i,gh in enumerate(gh_range_arr):\n",
    "    if i%2==0:\n",
    "        fspk = -np.mean(fspk_inhib[i])\n",
    "        lspk = -np.mean(lspk_inhib[i])\n",
    "        if i==len(gh_range_arr)-1:\n",
    "            ax.scatter([fspk,],[gh,],c=list(plt.rcParams[\"axes.prop_cycle\"])[0][\"color\"],marker=\"o\",s=7,zorder=100,label=\"first spike\")\n",
    "            ax.scatter([lspk,],[gh,],c=list(plt.rcParams[\"axes.prop_cycle\"])[1][\"color\"],marker=\"o\",s=7,zorder=100,label=\"last spike\")\n",
    "        else:\n",
    "\n",
    "            ax.scatter([fspk,],[gh,],c=list(plt.rcParams[\"axes.prop_cycle\"])[0][\"color\"],marker=\"o\",s=7,zorder=100)\n",
    "            ax.scatter([lspk,],[gh,],c=list(plt.rcParams[\"axes.prop_cycle\"])[1][\"color\"],marker=\"o\",s=7,zorder=100)\n",
    "\n",
    "        ax.hlines(gh,fspk,lspk,color=\"dimgray\",linestyles=\"--\")\n",
    "\n",
    "plt.legend(loc=\"lower left\",fontsize=6,handletextpad=0.05,borderaxespad=0.15,borderpad=0.2).set_zorder(200)\n",
    "# ax.set_xticklabels([\"-0.0003\",\"$-0.0003$\",\"$0$\"])\n",
    "plt.draw()\n",
    "\n",
    "xticks = ax.get_xticks()\n",
    "ax.set_xticks([xticks[1], xticks[-2]])\n",
    "plt.savefig(f\"analysis/figures/Fig5/Fig5_D.svg\")\n"
   ]
  },
  {
   "cell_type": "markdown",
   "id": "2d21681e",
   "metadata": {},
   "source": [
    "## HCN Time scales"
   ]
  },
  {
   "cell_type": "code",
   "execution_count": 15,
   "id": "07abe5f3",
   "metadata": {},
   "outputs": [],
   "source": [
    "sim_id = \"DEBUG-PRED-INT-S-m-2d\"\n",
    "params = s_utils.load_sim_params(sim_id)[\"0\"]\n",
    "sim_dur = params[\"sim_dur\"]\n",
    "bounds = (params[\"extra_params\"][\"dir_change_t\"],int(params[\"sim_dur\"]))\n",
    "fast_tau_arr = np.linspace(0.51,2.5,10)\n",
    "slow_tau_arr = np.linspace(5.6,53.1,10)\n",
    "bias_field_percent = np.full((int(fast_tau_arr.shape[0]),int(slow_tau_arr.shape[0])),np.nan)\n",
    "n_trials = 1\n",
    "sim_num = 0\n",
    "with h5py.File(f\"data/{sim_id}/{sim_id}-pred_code_field.hdf5\",\"r\") as f:\n",
    "    for i,tau_s in enumerate(slow_tau_arr):\n",
    "        for j,tau_f in enumerate(fast_tau_arr):\n",
    "            for tr in range(n_trials):\n",
    "                bias_field_percent[i,j]=np.array(f[f\"{sim_num}\"])[0]\n",
    "\n",
    "                sim_num+=1"
   ]
  },
  {
   "cell_type": "code",
   "execution_count": 16,
   "id": "53a61d2f",
   "metadata": {},
   "outputs": [],
   "source": [
    "x = np.linspace(-100,60,1000)\n",
    "slow_tau_max = np.zeros_like(slow_tau_arr)\n",
    "fast_tau_max = np.zeros_like(fast_tau_arr)\n",
    "for i in range(slow_tau_arr.shape[0]):\n",
    "    fast_tau_max[i]=(np.max(((fast_tau_arr[i]/((np.exp((x-1.7)/10))+np.exp(-(x+340)/52)))+1)))\n",
    "    slow_tau_max[i]=(np.max(((slow_tau_arr[i]/((np.exp((x-1.7)/14))+np.exp(-(x+260)/43)))+1)))"
   ]
  },
  {
   "cell_type": "code",
   "execution_count": 17,
   "id": "255c13a7",
   "metadata": {},
   "outputs": [
    {
     "data": {
      "image/png": "[encoded data removed]",
      "text/plain": [
       "<Figure size 160x110 with 2 Axes>"
      ]
     },
     "metadata": {},
     "output_type": "display_data"
    }
   ],
   "source": [
    "sns.set_theme(style=\"white\")\n",
    "plt.style.use(\"analysis/config/paper.mplstyle\")\n",
    "fig=plt.figure(figsize=(1.6,1.1))\n",
    "ax=sns.heatmap(bias_field_percent,cmap=\"rocket\")\n",
    "xticklabels=[]\n",
    "for lab in ax.get_xticklabels():\n",
    "    xticklabels.append(\"$\"+str(round(fast_tau_max[int(lab.get_text())],1))+\"$\")\n",
    "yticklabels=[]\n",
    "for lab in ax.get_yticklabels():\n",
    "    yticklabels.append(\"$\"+str(round(slow_tau_max[int(lab.get_text())],1))+\"$\")\n",
    "ax.set_xticklabels(xticklabels,rotation=\"vertical\")\n",
    "ax.set_yticklabels(yticklabels,rotation=\"horizontal\")\n",
    "ax.tick_params(which=\"both\",direction=\"out\",pad=0.5)\n",
    "ax.xaxis.tick_bottom()\n",
    "ax.yaxis.tick_left()\n",
    "ax.invert_yaxis()\n",
    "ax.minorticks_off()\n",
    "plt.savefig(f\"analysis/figures/Fig5/Fig5_E.svg\")"
   ]
  },
  {
   "cell_type": "markdown",
   "id": "38c989c3",
   "metadata": {},
   "source": [
    "## Bias at different speeds"
   ]
  },
  {
   "cell_type": "code",
   "execution_count": 18,
   "id": "6b3dae72",
   "metadata": {},
   "outputs": [],
   "source": [
    "\"\"\"\n",
    "Load Data\n",
    "\"\"\"\n",
    "\n",
    "sim_id = \"VALD-PRED-INT-S-m-3a\"\n",
    "params = s_utils.load_sim_params(sim_id)[\"0\"]\n",
    "sim_dur = float(80000)\n",
    "dc_range_arr = np.linspace(-2.7e-3,1e-2,500,endpoint=False)\n",
    "gh_range_arr = np.linspace(0,0.0015,16)\n",
    "n_trials = 1\n",
    "sim_num = 0\n",
    "\n",
    "predictive_data= np.full((gh_range_arr.shape[0],dc_range_arr.shape[0]),np.nan)\n",
    "\n",
    "for i,gh in enumerate(gh_range_arr):\n",
    "    for j,dc in enumerate(dc_range_arr):\n",
    "        for tr in range(n_trials):\n",
    "            with h5py.File(f\"data/{sim_id}/{sim_id}-pred_code_field.hdf5\",\"r\") as f:\n",
    "                predictive_data[i,j]=f[f\"{sim_num}\"][0]\n",
    "                sim_num+=1"
   ]
  },
  {
   "cell_type": "code",
   "execution_count": 19,
   "id": "5eb058d8",
   "metadata": {},
   "outputs": [
    {
     "data": {
      "image/png": "[encoded data removed]",
      "text/plain": [
       "<Figure size 160x110 with 1 Axes>"
      ]
     },
     "metadata": {},
     "output_type": "display_data"
    }
   ],
   "source": [
    "mpl.rcdefaults()\n",
    "plt.style.use(\"analysis/config/paper.mplstyle\")\n",
    "fig,ax = plt.subplots(1,1,figsize=(1.6,1.1))\n",
    "ax.plot(dc_range_arr[:],predictive_data[0][:],label=\"$\\\\overline{gh}=0.00$\",linewidth=0.75)\n",
    "ax.plot(dc_range_arr[:],predictive_data[15][:],label=\"$\\\\overline{gh}=0.0015$\",linewidth=0.75,c=\"#474747\")\n",
    "ax.axhline(0,color=\"k\",linewidth=0.75)\n",
    "ax.legend(loc=\"upper right\",fontsize=6,borderpad=0,borderaxespad=0,handlelength=1,labelspacing=0.2,handletextpad=0.3)\n",
    "plt.draw()\n",
    "\n",
    "xticks = ax.get_xticks()\n",
    "ax.set_xticks([xticks[1], xticks[-2]])\n",
    "yticks = ax.get_yticks()\n",
    "ax.set_yticks([yticks[0],yticks[1],yticks[-2]])\n",
    "plt.savefig(f\"analysis/figures/Fig5/Fig5_F.svg\")"
   ]
  },
  {
   "cell_type": "markdown",
   "id": "568ecd6a",
   "metadata": {},
   "source": [
    "## HCN density"
   ]
  },
  {
   "cell_type": "code",
   "execution_count": 20,
   "id": "eca1d9fb",
   "metadata": {},
   "outputs": [],
   "source": [
    "\"\"\"\n",
    "Load Data\n",
    "\"\"\"\n",
    "\n",
    "sim_id = \"VALD-PRED-INT-S-m-3a\"\n",
    "params = s_utils.load_sim_params(sim_id)[\"0\"]\n",
    "sim_dur = float(80000)\n",
    "dc_range_arr = np.linspace(-2.7e-3,1e-2,500,endpoint=False)\n",
    "gh_range_arr = np.linspace(0,0.0015,16)\n",
    "n_trials = 1\n",
    "sim_num= 0\n",
    "\n",
    "slopes= np.full((gh_range_arr.shape[0],dc_range_arr.shape[0]),np.nan)\n",
    "for i,gh in enumerate(gh_range_arr):\n",
    "    for j,dc in enumerate(dc_range_arr):\n",
    "        for tr in range(n_trials):\n",
    "            with h5py.File(f\"data/{sim_id}/{sim_id}-slopes.hdf5\",\"r\") as f:\n",
    "                slopes[i,j]=f[f\"{sim_num}\"][0]\n",
    "                sim_num+=1"
   ]
  },
  {
   "cell_type": "code",
   "execution_count": 21,
   "id": "ba44b536",
   "metadata": {},
   "outputs": [
    {
     "data": {
      "text/plain": [
       "array([ 1.28031834e-03,  1.04879480e-03,  8.16224066e-04,  5.64521873e-04,\n",
       "        3.11440625e-04,  5.91552781e-05, -2.10812800e-04, -4.46674041e-04,\n",
       "       -6.97370230e-04, -9.49550210e-04, -1.17218007e-03, -1.41407774e-03,\n",
       "       -1.64949788e-03, -1.87639332e-03, -2.09076233e-03, -2.30484610e-03])"
      ]
     },
     "execution_count": 21,
     "metadata": {},
     "output_type": "execute_result"
    }
   ],
   "source": [
    "start_idx = {0:156,\n",
    "             1:142,\n",
    "             2:131,\n",
    "             3:123,\n",
    "             4:109,\n",
    "             5:99,\n",
    "             6:90,\n",
    "             7:77,\n",
    "             8:66,\n",
    "             9:56,\n",
    "             10:49,\n",
    "             11:38,\n",
    "             12:30,\n",
    "             13:20,\n",
    "             14:9,\n",
    "             15:2}\n",
    "xnew =2\n",
    "dc_const = np.full_like(gh_range_arr,np.nan)\n",
    "for i,gh in enumerate(gh_range_arr):\n",
    "    dc_const[i]=np.interp(xnew,slopes[i,start_idx[i]:],dc_range_arr[start_idx[i]:])\n",
    "    sim_num+=1\n",
    "dc_const"
   ]
  },
  {
   "cell_type": "code",
   "execution_count": 22,
   "id": "f6a7c089",
   "metadata": {},
   "outputs": [],
   "source": [
    "sim_id=\"VALD-PRED-INT-S-m-4a\"\n",
    "params = s_utils.load_sim_params(sim_id)[\"0\"]\n",
    "sim_dur = float(80000)\n",
    "gh_range_arr = np.linspace(0,0.0015,16)\n",
    "dc_range_arr=np.array([ 1.28031834e-03,  1.04879480e-03,  8.16224066e-04,  5.64521873e-04,\n",
    "        3.11440625e-04,  5.91552781e-05, -2.10812800e-04, -4.46674041e-04,\n",
    "       -6.97370230e-04, -9.49550210e-04, -1.17218007e-03, -1.41407774e-03,\n",
    "       -1.64949788e-03, -1.87639332e-03, -2.09076233e-03, -2.30484610e-03])\n",
    "n_trials = 1\n",
    "sim_num = 0\n",
    "bounds = (params[\"extra_params\"][\"dir_change_t\"],int(params[\"sim_dur\"]))\n",
    "pred_bias=np.full((gh_range_arr.shape[0],n_trials),np.nan)\n",
    "for i,gh in enumerate(gh_range_arr):\n",
    "    for tr in range(n_trials):\n",
    "        with h5py.File(f\"data/{sim_id}/{sim_id}-pred_code_field.hdf5\",\"r\") as f:\n",
    "            pred_bias[i,tr]=f[f\"{sim_num}\"][0]  \n",
    "        sim_num+=1"
   ]
  },
  {
   "cell_type": "code",
   "execution_count": 36,
   "id": "43336d00",
   "metadata": {},
   "outputs": [
    {
     "name": "stderr",
     "output_type": "stream",
     "text": [
      "/tmp/ipykernel_2628528/3947308012.py:20: UserWarning: set_ticklabels() should only be used with a fixed number of ticks, i.e. after set_ticks() or using a FixedLocator.\n",
      "  ax.set_xticklabels([\"\",labs[0],labs[5],labs[10],labs[-1]], rotation=0)\n"
     ]
    },
    {
     "data": {
      "image/png": "[encoded data removed]",
      "text/plain": [
       "<Figure size 169.3x77.4 with 1 Axes>"
      ]
     },
     "metadata": {},
     "output_type": "display_data"
    }
   ],
   "source": [
    "%matplotlib inline\n",
    "plt.style.use(\"analysis/config/paper.mplstyle\")\n",
    "plt.rcParams[\"xtick.labelsize\"] = 6.5\n",
    "plt.rcParams[\"ytick.labelsize\"] = 7\n",
    "fig,ax = plt.subplots(1,1,figsize=(1.693,0.774))\n",
    "# plt.rcParams[\"xtick.minor.visible\"] = True\n",
    "plt.plot(np.arange(len(gh_range_arr))[:],pred_bias.mean(1)[:],linewidth=1.25,marker=\"o\",markersize=3,c=\"k\")\n",
    "labs = (gh_range_arr*1000).round(2)\n",
    "labs2 = (dc_range_arr).round(5)\n",
    "ax.set_ylim([ax.get_ylim()[0]-3,ax.get_ylim()[1]+3])\n",
    "\n",
    "# ax.set_xticks([xticks[1],xticks[2], xticks[-2]])\n",
    "# ax.set_xticklabels([-5,labs[0],labs[5],labs[10],\"\",20], rotation=0)\n",
    "secax = ax.secondary_xaxis('top')\n",
    "# xticks=secax.get_xticks()\n",
    "plt.draw()\n",
    "# ax.set_xticks([ax.get_xticks()[1],ax.get_xticks()[-2]])\n",
    "\n",
    "secax.set_xticks([ax.get_xticks()[1],ax.get_xticks()[-2]])\n",
    "ax.set_xticklabels([\"\",labs[0],labs[5],labs[10],labs[-1]], rotation=0)\n",
    "secax.set_xticklabels([f\"{labs2[0]:.2e}\",f\"{labs2[-1]:.2e}\"], rotation=0)\n",
    "\n",
    "plt.savefig(f\"analysis/figures/Fig5/Fig5_C.svg\")"
   ]
  }
 ],
 "metadata": {
  "kernelspec": {
   "display_name": ".venv",
   "language": "python",
   "name": "python3"
  },
  "language_info": {
   "codemirror_mode": {
    "name": "ipython",
    "version": 3
   },
   "file_extension": ".py",
   "mimetype": "text/x-python",
   "name": "python",
   "nbconvert_exporter": "python",
   "pygments_lexer": "ipython3",
   "version": "3.12.3"
  }
 },
 "nbformat": 4,
 "nbformat_minor": 5
}
