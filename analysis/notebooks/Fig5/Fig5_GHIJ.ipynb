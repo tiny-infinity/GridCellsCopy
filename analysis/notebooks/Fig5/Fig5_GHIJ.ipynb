{
 "cells": [
  {
   "cell_type": "code",
   "execution_count": 1,
   "id": "5980f10f",
   "metadata": {},
   "outputs": [
    {
     "name": "stdout",
     "output_type": "stream",
     "text": [
      "/data/main/2024/GridCellsCond\n"
     ]
    }
   ],
   "source": [
    "#Run this notebook in the root directory of the project\n",
    "%cd ../../../"
   ]
  },
  {
   "cell_type": "code",
   "execution_count": 6,
   "id": "e5c1e5c6-ce12-44ec-90e3-8b881fa01cb4",
   "metadata": {},
   "outputs": [],
   "source": [
    "import matplotlib.pyplot as plt\n",
    "import numpy as np\n",
    "from scipy import signal\n",
    "import analysis_utils as a_utils\n",
    "import analysis_pred_utils as a_pred_utils\n",
    "import sim_utils as s_utils"
   ]
  },
  {
   "cell_type": "markdown",
   "id": "5331b8e3",
   "metadata": {},
   "source": [
    "## Network based positional bias"
   ]
  },
  {
   "cell_type": "code",
   "execution_count": 68,
   "id": "e7eeab69",
   "metadata": {},
   "outputs": [],
   "source": [
    "\"\"\"\n",
    "Load Data\n",
    "\"\"\"\n",
    "predictive_data={}\n",
    "raw_data={}\n",
    "cell_to_analyse=32\n",
    "sim_id = \"VALD-PRED-NET-S-s-1a\"\n",
    "predictive_data[sim_id]={}\n",
    "raw_data[sim_id]={}\n",
    "params = s_utils.load_sim_params(sim_id)\n",
    "bounds = (params[\"extra_params\"][\"dir_change_t\"],int(params[\"sim_dur\"]))\n",
    "stell_spks_l, intrnrn_spks_l = s_utils.load_spikes(sim_id)\n",
    "true_pos = a_pred_utils.decode_pos_by_intrnrn(intrnrn_spks_l,params,win_size=100)\n",
    "stell_decoded_pos= a_utils.decode_pos(stell_spks_l,params)\n",
    "stell_syn_inhib_g = s_utils.load_data(sim_id,\"stell_syn_inhib_g\",cell_n=cell_to_analyse)\n",
    "bounds = (params[\"extra_params\"][\"dir_change_t\"],int(params[\"sim_dur\"]))\n",
    "raw_data[sim_id][\"stell_spks\"] = stell_spks_l\n",
    "raw_data[sim_id][\"intrnrn_spks\"]=intrnrn_spks_l\n",
    "raw_data[sim_id][\"params\"] =params\n",
    "raw_data[sim_id][\"true_pos\"] =true_pos\n",
    "raw_data[sim_id][\"stell_syn_inhib_g\"] =stell_syn_inhib_g\n",
    "raw_data[sim_id][\"stell_decoded_pos\"] =stell_decoded_pos"
   ]
  },
  {
   "cell_type": "code",
   "execution_count": 70,
   "id": "2fb39c4d",
   "metadata": {},
   "outputs": [
    {
     "data": {
      "image/png": "[encoded data removed]",
      "text/plain": [
       "<Figure size 260x100 with 1 Axes>"
      ]
     },
     "metadata": {},
     "output_type": "display_data"
    }
   ],
   "source": [
    "%matplotlib inline\n",
    "plt.style.use(\"analysis/config/paper.mplstyle\")\n",
    "sim_id = \"VALD-PRED-NET-S-s-1a\"\n",
    "fig,axs = plt.subplots(1,1,figsize=(2.6,1))\n",
    "win_size=7\n",
    "cell_spks_r = np.array(raw_data[sim_id][\"stell_spks\"][cell_to_analyse])\n",
    "cell_spks_l = np.array(raw_data[sim_id][\"stell_spks\"][cell_to_analyse+raw_data[sim_id][\"params\"][\"N_per_sheet\"]])\n",
    "separate_fields_r = a_pred_utils.remove_uneven_fields(cell_spks_r,(raw_data[sim_id][\"params\"][\"allothetic_dur\"],bounds[0]))\n",
    "separate_fields_l = a_pred_utils.remove_uneven_fields(cell_spks_l,(bounds[0]+raw_data[sim_id][\"params\"][\"allothetic_dur\"],bounds[1]))\n",
    "field_pos_l = a_pred_utils.calculate_field_positions(separate_fields_l,raw_data[sim_id][\"true_pos\"])\n",
    "field_pos_r = a_pred_utils.calculate_field_positions(separate_fields_r,raw_data[sim_id][\"true_pos\"])\n",
    "convoled_l = a_pred_utils.convole_field_pos(field_pos_l,raw_data[sim_id][\"params\"],win_size=win_size)\n",
    "convoled_l=np.mean(convoled_l,axis=0)\n",
    "convoled_l=convoled_l\n",
    "convoled_r = a_pred_utils.convole_field_pos(field_pos_r,raw_data[sim_id][\"params\"],win_size=win_size)\n",
    "convoled_r=np.mean(convoled_r,axis=0)\n",
    "convoled_r=convoled_r\n",
    "pos = np.arange(0,raw_data[sim_id][\"params\"][\"lambda0\"],raw_data[sim_id][\"params\"][\"lambda0\"]/raw_data[sim_id][\"params\"][\"n_phases\"])\n",
    "means = np.mean(np.row_stack((convoled_l,convoled_r)),axis=0)\n",
    "axs.plot(pos,convoled_r/np.max(convoled_r),label=\"Right\",c=\"#0C5DA5\")\n",
    "axs.plot(pos,convoled_l/np.max(convoled_l),label=\"Left\",c=\"#00B945\")\n",
    "axs.plot(pos,means/np.max(means),label=\"Averaged\",c=\"#474747\")\n",
    "plt.legend(fontsize=6,loc=\"upper left\")\n",
    "peak_l=pos[np.argmax(convoled_l)]\n",
    "peak_r=pos[np.argmax(convoled_r)]\n",
    "peak_mean=pos[np.argmax(means)]\n",
    "plt.savefig(f\"analysis/figures/Fig5/Fig5_H_top.svg\")\n",
    "plt.show()\n"
   ]
  },
  {
   "cell_type": "code",
   "execution_count": 71,
   "id": "7a33460b",
   "metadata": {},
   "outputs": [],
   "source": [
    "win = signal.windows.gaussian(6000,800)\n",
    "filtered = signal.convolve(raw_data[f\"{sim_id}\"][\"stell_syn_inhib_g\"], win, mode='same') / sum(win)"
   ]
  },
  {
   "cell_type": "code",
   "execution_count": 109,
   "id": "d3953905",
   "metadata": {},
   "outputs": [
    {
     "name": "stdout",
     "output_type": "stream",
     "text": [
      "15350.7\n",
      "19049.8\n"
     ]
    }
   ],
   "source": [
    "sim_id = \"VALD-PRED-NET-S-s-1a\"\n",
    "x = np.arange(0,raw_data[f\"{sim_id}\"][\"params\"][\"sim_dur\"],raw_data[f\"{sim_id}\"][\"params\"][\"recorder_dt\"])\n",
    "start=raw_data[f\"{sim_id}\"][\"stell_spks\"][cell_to_analyse][80] \n",
    "end=raw_data[f\"{sim_id}\"][\"stell_spks\"][cell_to_analyse][81] #interfield\n",
    "idx=np.argmax(filtered[int((start/0.1)):int(((end)/0.1))])\n",
    "peak1=x[int((start/0.1)):int(((end)/0.1))][idx]\n",
    "print(peak1)\n",
    "\n",
    "start=raw_data[f\"{sim_id}\"][\"stell_spks\"][cell_to_analyse][98]\n",
    "end=raw_data[f\"{sim_id}\"][\"stell_spks\"][cell_to_analyse][99]\n",
    "idx=np.argmax(filtered[int((start/0.1)):int(((end)/0.1))])\n",
    "peak2=x[int((start/0.1)):int(((end)/0.1))][idx]\n",
    "print(peak2)"
   ]
  },
  {
   "cell_type": "code",
   "execution_count": 111,
   "id": "6631022f",
   "metadata": {},
   "outputs": [
    {
     "name": "stdout",
     "output_type": "stream",
     "text": [
      "1275 1424\n"
     ]
    }
   ],
   "source": [
    "diff1=(raw_data[f\"{sim_id}\"][\"stell_spks\"][cell_to_analyse][81]-peak1)\n",
    "diff2=(peak2-raw_data[f\"{sim_id}\"][\"stell_spks\"][cell_to_analyse][98])\n",
    "print(round(diff1),round(diff2))"
   ]
  },
  {
   "cell_type": "code",
   "execution_count": 115,
   "id": "0d766c4a",
   "metadata": {},
   "outputs": [
    {
     "data": {
      "image/png": "[encoded data removed]",
      "text/plain": [
       "<Figure size 237.5x82 with 1 Axes>"
      ]
     },
     "metadata": {},
     "output_type": "display_data"
    }
   ],
   "source": [
    "%matplotlib inline\n",
    "cell_to_analyse = 96\n",
    "plt.style.use(\"analysis/config/paper.mplstyle\")\n",
    "sim_id = \"VALD-PRED-NET-S-s-1a\"\n",
    "x = np.arange(0,raw_data[f\"{sim_id}\"][\"params\"][\"sim_dur\"],raw_data[f\"{sim_id}\"][\"params\"][\"recorder_dt\"])\n",
    "fig,axs = plt.subplots(1,1,figsize=(2.375,0.82))\n",
    "\n",
    "axs.axvline(x=peak1,linestyle=\"--\")\n",
    "axs.axvline(x=peak2,linestyle=\"--\")\n",
    "\n",
    "axs.axvline(x=raw_data[f\"{sim_id}\"][\"stell_spks\"][cell_to_analyse][81],linestyle=\"--\",c=\"#474747\")\n",
    "axs.axvline(x=raw_data[f\"{sim_id}\"][\"stell_spks\"][cell_to_analyse][98],linestyle=\"--\",c=\"#474747\")\n",
    "\n",
    "axs.plot(x,raw_data[f\"{sim_id}\"][\"stell_syn_inhib_g\"],c=\"black\",linewidth=0.75)\n",
    "axs.eventplot(raw_data[f\"{sim_id}\"][\"stell_spks\"][cell_to_analyse],linelengths=0.0008,linewidth=0.65,lineoffsets=0.001,color=\"red\")\n",
    "\n",
    "axs.set_xlim([14300,20300])\n",
    "axs.set_ylim([-0.0005,0.0055])\n",
    "plt.savefig(f\"analysis/figures/Fig5/Fig5_J_bottom.svg\")"
   ]
  },
  {
   "cell_type": "code",
   "execution_count": 116,
   "id": "50da29e5",
   "metadata": {},
   "outputs": [
    {
     "name": "stdout",
     "output_type": "stream",
     "text": [
      "9.516215746673529\n",
      "32.854985963319955\n"
     ]
    }
   ],
   "source": [
    "sim_id = \"VALD-PRED-NET-S-s-1a\"\n",
    "field_size = a_pred_utils.calc_field_size(raw_data[sim_id][\"stell_spks\"],raw_data[sim_id][\"true_pos\"],raw_data[sim_id][\"params\"],bounds)\n",
    "bias = a_pred_utils.calc_bias_stell_intrnrn(raw_data[sim_id][\"stell_decoded_pos\"],raw_data[sim_id][\"true_pos\"],raw_data[sim_id][\"params\"],bounds)\n",
    "print(bias*100/(2*np.pi))\n",
    "print(bias*100/field_size)\n"
   ]
  },
  {
   "cell_type": "markdown",
   "id": "4722556c",
   "metadata": {},
   "source": [
    "## Network based retrospective bias"
   ]
  },
  {
   "cell_type": "code",
   "execution_count": 117,
   "id": "aabec8d3",
   "metadata": {},
   "outputs": [],
   "source": [
    "\"\"\"\n",
    "Load Data\n",
    "\"\"\"\n",
    "predictive_data={}\n",
    "raw_data={}\n",
    "cell_to_analyse=32\n",
    "sim_id = \"VALD-PRED-NET-S-s-2a\"\n",
    "predictive_data[sim_id]={}\n",
    "raw_data[sim_id]={}\n",
    "params = s_utils.load_sim_params(sim_id)\n",
    "stell_spks_l, intrnrn_spks_l = s_utils.load_spikes(sim_id)\n",
    "true_pos = a_pred_utils.decode_pos_by_intrnrn(intrnrn_spks_l,params,win_size=100)\n",
    "stell_decoded_pos= a_utils.decode_pos(stell_spks_l,params)\n",
    "stell_syn_inhib_g = s_utils.load_data(sim_id,\"stell_syn_inhib_g\",cell_n=cell_to_analyse)\n",
    "bounds = (params[\"extra_params\"][\"dir_change_t\"],int(params[\"sim_dur\"]))\n",
    "raw_data[sim_id][\"stell_spks\"] = stell_spks_l\n",
    "raw_data[sim_id][\"intrnrn_spks\"]=intrnrn_spks_l\n",
    "raw_data[sim_id][\"params\"] =params\n",
    "raw_data[sim_id][\"true_pos\"] =true_pos\n",
    "raw_data[sim_id][\"stell_syn_inhib_g\"] =stell_syn_inhib_g\n",
    "raw_data[sim_id][\"stell_decoded_pos\"] =stell_decoded_pos"
   ]
  },
  {
   "cell_type": "code",
   "execution_count": 119,
   "id": "98f514b6",
   "metadata": {},
   "outputs": [
    {
     "data": {
      "image/png": "[encoded data removed]",
      "text/plain": [
       "<Figure size 210x69 with 1 Axes>"
      ]
     },
     "metadata": {},
     "output_type": "display_data"
    }
   ],
   "source": [
    "plt.style.use(\"analysis/config/paper.mplstyle\")\n",
    "sim_id = \"VALD-PRED-NET-S-s-2a\"\n",
    "fig,axs = plt.subplots(1,1,figsize=(2.1,0.69))\n",
    "\n",
    "win_size=7\n",
    "cell_spks_r = np.array(raw_data[sim_id][\"stell_spks\"][cell_to_analyse])\n",
    "cell_spks_l = np.array(raw_data[sim_id][\"stell_spks\"][cell_to_analyse+raw_data[sim_id][\"params\"][\"N_per_sheet\"]])\n",
    "separate_fields_r = a_pred_utils.remove_uneven_fields(cell_spks_r,(raw_data[sim_id][\"params\"][\"allothetic_dur\"],bounds[0]))\n",
    "separate_fields_l = a_pred_utils.remove_uneven_fields(cell_spks_l,(bounds[0]+raw_data[sim_id][\"params\"][\"allothetic_dur\"],bounds[1]))\n",
    "field_pos_l = a_pred_utils.calculate_field_positions(separate_fields_l,raw_data[sim_id][\"true_pos\"])\n",
    "field_pos_r = a_pred_utils.calculate_field_positions(separate_fields_r,raw_data[sim_id][\"true_pos\"])\n",
    "convoled_l = a_pred_utils.convole_field_pos(field_pos_l,raw_data[sim_id][\"params\"],win_size=win_size)\n",
    "convoled_l=np.mean(convoled_l,axis=0)\n",
    "convoled_l=convoled_l\n",
    "convoled_r = a_pred_utils.convole_field_pos(field_pos_r,raw_data[sim_id][\"params\"],win_size=win_size)\n",
    "convoled_r=np.mean(convoled_r,axis=0)\n",
    "convoled_r=convoled_r\n",
    "pos = np.arange(0,raw_data[sim_id][\"params\"][\"lambda0\"],raw_data[sim_id][\"params\"][\"lambda0\"]/raw_data[sim_id][\"params\"][\"n_phases\"])\n",
    "means = np.mean(np.row_stack((convoled_l,convoled_r)),axis=0)\n",
    "axs.plot(pos,convoled_r/np.max(convoled_r),label=\"Right\")\n",
    "axs.plot(pos,convoled_l/np.max(convoled_l),label=\"Left\")\n",
    "axs.plot(pos,means/np.max(means),label=\"Averaged\",c=\"#474747\")\n",
    "plt.legend(fontsize=6,loc=\"center left\")\n",
    "peak_l=pos[np.argmax(convoled_l)]\n",
    "peak_r=pos[np.argmax(convoled_r)]\n",
    "peak_mean=pos[np.argmax(means)]\n",
    "plt.savefig(f\"analysis/figures/Fig5/Fig5_J.svg\")\n",
    "plt.show()\n"
   ]
  },
  {
   "cell_type": "code",
   "execution_count": 120,
   "id": "78d9f6dc",
   "metadata": {},
   "outputs": [],
   "source": [
    "import h5py\n",
    "\n",
    "sim_id = \"VALD-PRED-INT-S-s-1a\"\n",
    "params = s_utils.load_sim_params(sim_id)\n",
    "center_cell = int(params[\"N_per_sheet\"]/2)\n",
    "with h5py.File(f\"network_configs/connections/saved_matrices/matrix_{params[\"conn_id\"]}_{params[\"matrix_id\"]}.hdf5\",\"r\") as f:\n",
    "    matrx_normal = np.array(f[\"matrix\"])\n",
    "is_out_norm = matrx_normal[params[\"N_stell\"]+center_cell,:params[\"N_per_sheet\"]]\n",
    "\n",
    "sim_id = \"VALD-PRED-NET-S-s-1a\"\n",
    "params = s_utils.load_sim_params(sim_id)\n",
    "with h5py.File(f\"network_configs/connections/saved_matrices/matrix_{params[\"conn_id\"]}_{params[\"matrix_id\"]}.hdf5\",\"r\") as f:\n",
    "    matrx_modified_prosp = np.array(f[\"matrix\"])\n",
    "is_out_prosp = matrx_modified_prosp[params[\"N_stell\"]+center_cell,:params[\"N_per_sheet\"]]\n",
    "\n",
    "sim_id = \"VALD-PRED-NET-S-s-2a\"\n",
    "params = s_utils.load_sim_params(sim_id)\n",
    "with h5py.File(f\"network_configs/connections/saved_matrices/matrix_{params[\"conn_id\"]}_{params[\"matrix_id\"]}.hdf5\",\"r\") as f:\n",
    "    matrx_modified_retro = np.array(f[\"matrix\"])\n",
    "is_out_retro = matrx_modified_retro[params[\"N_stell\"]+center_cell,:params[\"N_per_sheet\"]]\n"
   ]
  },
  {
   "cell_type": "code",
   "execution_count": 121,
   "id": "5bcc3863",
   "metadata": {},
   "outputs": [
    {
     "data": {
      "image/png": "[encoded data removed]",
      "text/plain": [
       "<Figure size 191.9x91 with 3 Axes>"
      ]
     },
     "metadata": {},
     "output_type": "display_data"
    }
   ],
   "source": [
    "plt.style.use(\"analysis/config/paper.mplstyle\")\n",
    "plt.rcParams[\"legend.frameon\"]=True\n",
    "sim_id = \"VALD-PRED-NET-S-s-1a\"\n",
    "x = np.arange(-params[\"N_per_sheet\"]/2,params[\"N_per_sheet\"]/2)\n",
    "fig,axs = plt.subplots(3,1,figsize=(1.769+0.15,0.71+0.2),sharex=True)\n",
    "axs[2].plot(x,is_out_norm/np.max(is_out_norm),label=\"Default\",c=\"k\",linewidth=1)\n",
    "axs[2].set_xlim([-100,120])\n",
    "axs[2].set_ylim([-0.1,1.2])\n",
    "axs[2].legend(loc=\"center right\",fontsize=6,handlelength=1.5,borderpad=0.2,borderaxespad=0,handletextpad=0.5,frameon=False)\n",
    "\n",
    "axs[1].plot(x,is_out_prosp/np.max(is_out_prosp),label=\"Pred.\",c=\"k\",linewidth=1,linestyle=\"dashdot\")\n",
    "axs[1].set_xlim([-100,120])\n",
    "axs[1].set_ylim([-0.1,1.2])\n",
    "\n",
    "axs[1].legend(loc=\"upper right\",fontsize=6,handlelength=1.5,borderpad=0.2,borderaxespad=0,handletextpad=0.5,frameon=False)\n",
    "axs[0].plot(x,is_out_retro/np.max(is_out_retro),label=\"Retro.\",linewidth=1,c=\"k\",linestyle=\"dashed\")\n",
    "axs[0].set_xlim([-100,120])\n",
    "axs[0].set_ylim([-0.1,1.2])\n",
    "axs[0].legend(loc=\"upper right\",fontsize=6,handlelength=1.5,borderpad=0.2,borderaxespad=0,handletextpad=0.5,frameon=False)\n",
    "lines_labels = [ax.get_legend_handles_labels() for ax in fig.axes]\n",
    "lines, labels = [sum(lol, []) for lol in zip(*lines_labels)]\n",
    "plt.savefig(f\"analysis/figures/Fig5/Fig5_G.svg\")\n",
    "\n"
   ]
  },
  {
   "cell_type": "code",
   "execution_count": 122,
   "id": "08e0e2bd",
   "metadata": {},
   "outputs": [
    {
     "name": "stdout",
     "output_type": "stream",
     "text": [
      "0 1 2 3 4 5 6 0 1 2 3 4 5 6 "
     ]
    }
   ],
   "source": [
    "asym_factor_arr = np.linspace(0.1,0.9,9)\n",
    "sim_id = \"VALD-PRED-NET-S-m-1a\"\n",
    "params = s_utils.load_sim_params(sim_id)[\"0\"]\n",
    "bias_prosp = np.full_like(asym_factor_arr,np.nan)\n",
    "n_trials = 1\n",
    "sim_num = 0\n",
    "fact = 2\n",
    "bounds = (params[\"extra_params\"][\"dir_change_t\"],int(params[\"sim_dur\"]))\n",
    "for asym_fact in asym_factor_arr[:7]:\n",
    "    for tr in range(n_trials):\n",
    "        print(sim_num,end=\" \")\n",
    "        stell_spks_l,intrnrn_spks_l=s_utils.load_spikes(sim_id,sim_num=sim_num)\n",
    "        true_pos = a_pred_utils.decode_pos_by_intrnrn(intrnrn_spks_l,params,win_size=80)\n",
    "        stell_decoded = a_utils.decode_pos(stell_spks_l,params)\n",
    "        field_size=a_pred_utils.calc_field_size(stell_spks_l,true_pos,params,bounds)\n",
    "        bias=a_pred_utils.calc_bias_stell_intrnrn(stell_decoded,true_pos,params,bounds)\n",
    "        bias_prosp[sim_num]=(bias/field_size)*100\n",
    "        sim_num+=1\n",
    "\n",
    "asym_factor_arr = np.linspace(0.1,0.9,9)\n",
    "sim_id = \"VALD-PRED-NET-S-m-2a\"\n",
    "\n",
    "params = s_utils.load_sim_params(sim_id)[\"0\"]\n",
    "bias_retro = np.full_like(asym_factor_arr,np.nan)\n",
    "n_trials = 1\n",
    "sim_num = 0\n",
    "fact = 2\n",
    "bounds = (params[\"extra_params\"][\"dir_change_t\"]+params[\"allothetic_dur\"],int(params[\"sim_dur\"]))\n",
    "for asym_fact in asym_factor_arr[:7]:\n",
    "    for tr in range(n_trials):\n",
    "        print(sim_num,end=\" \")\n",
    "        stell_spks_l,intrnrn_spks_l=s_utils.load_spikes(sim_id,sim_num=sim_num)\n",
    "        true_pos = a_pred_utils.decode_pos_by_intrnrn(intrnrn_spks_l,params,win_size=80)\n",
    "        stell_decoded = a_utils.decode_pos(stell_spks_l,params)\n",
    "        field_size=a_pred_utils.calc_field_size(stell_spks_l,true_pos,params,bounds)\n",
    "        bias=a_pred_utils.calc_bias_stell_intrnrn(stell_decoded,true_pos,params,bounds)\n",
    "        bias_retro[sim_num]=(bias/field_size)*100\n",
    "        sim_num+=1\n"
   ]
  },
  {
   "cell_type": "code",
   "execution_count": 123,
   "id": "fe77ad9c",
   "metadata": {},
   "outputs": [
    {
     "data": {
      "image/png": "[encoded data removed]",
      "text/plain": [
       "<Figure size 111.3x82 with 1 Axes>"
      ]
     },
     "metadata": {},
     "output_type": "display_data"
    }
   ],
   "source": [
    "\n",
    "plt.style.use(\"analysis/config/paper.mplstyle\")\n",
    "fig,ax=plt.subplots(1,1,figsize=(1.113,0.820))\n",
    "ax.plot(asym_factor_arr,bias_prosp,marker=\"o\",linestyle=\"dotted\",markersize=2.5,label=\"Predictive kernel\")\n",
    "ax.plot(asym_factor_arr,bias_retro,marker=\"o\",markersize=2.5,linestyle=\"dotted\",label=\"Retrospective kernel\")\n",
    "ax.axhline(y=0,c=\"black\",linestyle=\"solid\")\n",
    "fig.legend(borderpad=0.1,handletextpad=0.4,fontsize=6,loc=\"upper right\",borderaxespad=0.25)\n",
    "plt.savefig(f\"analysis/figures/Fig5/Fig5_I_bottom.svg\")\n"
   ]
  },
  {
   "cell_type": "code",
   "execution_count": 124,
   "id": "7d5d7661",
   "metadata": {},
   "outputs": [
    {
     "data": {
      "image/png": "[encoded data removed]",
      "text/plain": [
       "<Figure size 111.3x82 with 1 Axes>"
      ]
     },
     "metadata": {},
     "output_type": "display_data"
    }
   ],
   "source": [
    "def asymmetric_gaussian(x, N,mu, sigma_left, sigma_right):\n",
    "    return N*np.where(\n",
    "        x < mu,\n",
    "        np.exp(-((x - mu) ** 2) / (2 * sigma_left ** 2)),\n",
    "        np.exp(-((x - mu) ** 2) / (2 * sigma_right ** 2)))\n",
    "x= np.linspace(0,64,1000)\n",
    "is_asym_factor = [1-0.5,1+0.5]\n",
    "stdev=4.157961783\n",
    "kernel=asymmetric_gaussian(x, 1, 32, stdev*is_asym_factor[0],stdev*is_asym_factor[1])\n",
    "kernel_norm=asymmetric_gaussian(x, 1, 32, stdev,stdev)\n",
    "kernel_left= kernel[:500]\n",
    "kernel_right= kernel[500:]\n",
    "plt.style.use(\"analysis/config/paper.mplstyle\")\n",
    "fig,ax=plt.subplots(1,1,figsize=(1.113,0.820))\n",
    "ax.plot(x,kernel_norm,c=\"k\",linestyle=\"dotted\",label=\"Default Kernel\",linewidth=0.75)\n",
    "ax.plot(x[:500],kernel_left,c=\"#0C5DA5\",linewidth=0.75,label=\"Asymmetric Kernel\")\n",
    "ax.plot(x[500:],kernel_right,c=\"#FF2C00\",linewidth=0.75)\n",
    "ax.set_ylim([-0.1,1.4])\n",
    "fig.legend(loc=\"upper right\",fontsize=6,borderpad=0.1,handletextpad=0.4)\n",
    "plt.savefig(f\"analysis/figures/Fig5/Fig5_I_top.svg\")"
   ]
  },
  {
   "cell_type": "code",
   "execution_count": null,
   "id": "ccefbe90",
   "metadata": {},
   "outputs": [],
   "source": []
  }
 ],
 "metadata": {
  "kernelspec": {
   "display_name": "neuron",
   "language": "python",
   "name": "python3"
  },
  "language_info": {
   "codemirror_mode": {
    "name": "ipython",
    "version": 3
   },
   "file_extension": ".py",
   "mimetype": "text/x-python",
   "name": "python",
   "nbconvert_exporter": "python",
   "pygments_lexer": "ipython3",
   "version": "3.12.2"
  }
 },
 "nbformat": 4,
 "nbformat_minor": 5
}
