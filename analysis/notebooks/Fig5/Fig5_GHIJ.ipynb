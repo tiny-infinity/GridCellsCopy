{
 "cells": [
  {
   "cell_type": "code",
   "execution_count": 1,
   "id": "5980f10f",
   "metadata": {},
   "outputs": [
    {
     "name": "stdout",
     "output_type": "stream",
     "text": [
      "/data/main/2024/GridCellsCond\n"
     ]
    }
   ],
   "source": [
    "#Run this notebook in the root directory of the project\n",
    "%cd ../../../"
   ]
  },
  {
   "cell_type": "code",
   "execution_count": 2,
   "id": "e5c1e5c6-ce12-44ec-90e3-8b881fa01cb4",
   "metadata": {},
   "outputs": [],
   "source": [
    "import matplotlib.pyplot as plt\n",
    "import numpy as np\n",
    "from scipy import signal\n",
    "import analysis_utils as a_utils\n",
    "import analysis_pred_utils as a_pred_utils\n",
    "import sim_utils as s_utils"
   ]
  },
  {
   "cell_type": "markdown",
   "id": "5331b8e3",
   "metadata": {},
   "source": [
    "## Network based positional bias"
   ]
  },
  {
   "cell_type": "code",
   "execution_count": 12,
   "id": "e7eeab69",
   "metadata": {},
   "outputs": [],
   "source": [
    "\"\"\"\n",
    "Load Data\n",
    "\"\"\"\n",
    "predictive_data={}\n",
    "raw_data={}\n",
    "cell_to_analyse=32\n",
    "sim_id = \"VALD-PRED-NET-S-s-1a\"\n",
    "predictive_data[sim_id]={}\n",
    "raw_data[sim_id]={}\n",
    "params = s_utils.load_sim_params(sim_id)\n",
    "bounds = (params[\"extra_params\"][\"dir_change_t\"],int(params[\"sim_dur\"]))\n",
    "stell_spks_l, intrnrn_spks_l = s_utils.load_spikes(sim_id)\n",
    "true_pos = a_pred_utils.decode_pos_by_intrnrn(intrnrn_spks_l,params,win_size=100)\n",
    "stell_decoded_pos= a_utils.decode_pos(stell_spks_l,params)\n",
    "stell_syn_inhib_g = s_utils.load_data(sim_id,\"stell_syn_inhib_g\",cell_n=cell_to_analyse)\n",
    "bounds = (params[\"extra_params\"][\"dir_change_t\"],int(params[\"sim_dur\"]))\n",
    "raw_data[sim_id][\"stell_spks\"] = stell_spks_l\n",
    "raw_data[sim_id][\"intrnrn_spks\"]=intrnrn_spks_l\n",
    "raw_data[sim_id][\"params\"] =params\n",
    "raw_data[sim_id][\"true_pos\"] =true_pos\n",
    "raw_data[sim_id][\"stell_syn_inhib_g\"] =stell_syn_inhib_g\n",
    "raw_data[sim_id][\"stell_decoded_pos\"] =stell_decoded_pos"
   ]
  },
  {
   "cell_type": "code",
   "execution_count": 13,
   "id": "2fb39c4d",
   "metadata": {},
   "outputs": [
    {
     "data": {
      "image/png": "[encoded data removed]",
      "text/plain": [
       "<Figure size 260x100 with 1 Axes>"
      ]
     },
     "metadata": {},
     "output_type": "display_data"
    }
   ],
   "source": [
    "plt.style.use(\"analysis/config/paper.mplstyle\")\n",
    "sim_id = \"VALD-PRED-NET-S-s-1a\"\n",
    "fig,axs = plt.subplots(1,1,figsize=(2.6,1))\n",
    "win_size=7\n",
    "cell_spks_r = np.array(raw_data[sim_id][\"stell_spks\"][cell_to_analyse])\n",
    "cell_spks_l = np.array(raw_data[sim_id][\"stell_spks\"][cell_to_analyse+raw_data[sim_id][\"params\"][\"N_per_sheet\"]])\n",
    "separate_fields_r = a_pred_utils.remove_uneven_fields(cell_spks_r,(raw_data[sim_id][\"params\"][\"allothetic_dur\"],bounds[0]))\n",
    "separate_fields_l = a_pred_utils.remove_uneven_fields(cell_spks_l,(bounds[0]+raw_data[sim_id][\"params\"][\"allothetic_dur\"],bounds[1]))\n",
    "field_pos_l = a_pred_utils.calculate_field_positions(separate_fields_l,raw_data[sim_id][\"true_pos\"])\n",
    "field_pos_r = a_pred_utils.calculate_field_positions(separate_fields_r,raw_data[sim_id][\"true_pos\"])\n",
    "convoled_l = a_pred_utils.convole_field_pos(field_pos_l,raw_data[sim_id][\"params\"],win_size=win_size)\n",
    "convoled_l=np.mean(convoled_l,axis=0)\n",
    "convoled_l=convoled_l\n",
    "convoled_r = a_pred_utils.convole_field_pos(field_pos_r,raw_data[sim_id][\"params\"],win_size=win_size)\n",
    "convoled_r=np.mean(convoled_r,axis=0)\n",
    "convoled_r=convoled_r\n",
    "pos = np.arange(0,raw_data[sim_id][\"params\"][\"lambda0\"],raw_data[sim_id][\"params\"][\"lambda0\"]/raw_data[sim_id][\"params\"][\"n_phases\"])\n",
    "means = np.mean(np.row_stack((convoled_l,convoled_r)),axis=0)\n",
    "axs.plot(pos,convoled_r/np.max(convoled_r),label=\"Right\",c=\"#0C5DA5\")\n",
    "axs.plot(pos,convoled_l/np.max(convoled_l),label=\"Left\",c=\"#00B945\")\n",
    "axs.plot(pos,means/np.max(means),label=\"Averaged\",c=\"#474747\")\n",
    "plt.legend(fontsize=6,loc=\"upper left\")\n",
    "peak_l=pos[np.argmax(convoled_l)]\n",
    "peak_r=pos[np.argmax(convoled_r)]\n",
    "peak_mean=pos[np.argmax(means)]\n",
    "plt.savefig(f\"analysis/figures/Fig5/Fig5_H_top.svg\")\n",
    "plt.show()\n"
   ]
  },
  {
   "cell_type": "code",
   "execution_count": 15,
   "id": "7a33460b",
   "metadata": {},
   "outputs": [],
   "source": [
    "win = signal.windows.gaussian(4000,300)\n",
    "filtered = signal.convolve(raw_data[f\"{sim_id}\"][\"stell_syn_inhib_g\"], win, mode='same') / sum(win)"
   ]
  },
  {
   "cell_type": "code",
   "execution_count": 20,
   "id": "d3953905",
   "metadata": {},
   "outputs": [
    {
     "ename": "ValueError",
     "evalue": "attempt to get argmax of an empty sequence",
     "output_type": "error",
     "traceback": [
      "\u001b[0;31m---------------------------------------------------------------------------\u001b[0m",
      "\u001b[0;31mValueError\u001b[0m                                Traceback (most recent call last)",
      "Cell \u001b[0;32mIn[20], line 5\u001b[0m\n\u001b[1;32m      3\u001b[0m start\u001b[38;5;241m=\u001b[39m\u001b[38;5;241m13900\u001b[39m\n\u001b[1;32m      4\u001b[0m end\u001b[38;5;241m=\u001b[39mraw_data[\u001b[38;5;124mf\u001b[39m\u001b[38;5;124m\"\u001b[39m\u001b[38;5;132;01m{\u001b[39;00msim_id\u001b[38;5;132;01m}\u001b[39;00m\u001b[38;5;124m\"\u001b[39m][\u001b[38;5;124m\"\u001b[39m\u001b[38;5;124mstell_spks\u001b[39m\u001b[38;5;124m\"\u001b[39m][cell_to_analyse][\u001b[38;5;241m132\u001b[39m]\n\u001b[0;32m----> 5\u001b[0m idx\u001b[38;5;241m=\u001b[39m\u001b[43mnp\u001b[49m\u001b[38;5;241;43m.\u001b[39;49m\u001b[43margmax\u001b[49m\u001b[43m(\u001b[49m\u001b[43mfiltered\u001b[49m\u001b[43m[\u001b[49m\u001b[38;5;28;43mint\u001b[39;49m\u001b[43m(\u001b[49m\u001b[43m(\u001b[49m\u001b[43mstart\u001b[49m\u001b[38;5;241;43m/\u001b[39;49m\u001b[38;5;241;43m0.25\u001b[39;49m\u001b[43m)\u001b[49m\u001b[43m)\u001b[49m\u001b[43m:\u001b[49m\u001b[38;5;28;43mint\u001b[39;49m\u001b[43m(\u001b[49m\u001b[43m(\u001b[49m\u001b[43m(\u001b[49m\u001b[43mend\u001b[49m\u001b[43m)\u001b[49m\u001b[38;5;241;43m/\u001b[39;49m\u001b[38;5;241;43m0.25\u001b[39;49m\u001b[43m)\u001b[49m\u001b[43m)\u001b[49m\u001b[43m]\u001b[49m\u001b[43m)\u001b[49m\n\u001b[1;32m      6\u001b[0m peak1\u001b[38;5;241m=\u001b[39mx[\u001b[38;5;28mint\u001b[39m((start\u001b[38;5;241m/\u001b[39m\u001b[38;5;241m0.25\u001b[39m)):\u001b[38;5;28mint\u001b[39m(((end)\u001b[38;5;241m/\u001b[39m\u001b[38;5;241m0.25\u001b[39m))][idx]\n\u001b[1;32m      7\u001b[0m \u001b[38;5;28mprint\u001b[39m(peak1)\n",
      "File \u001b[0;32m~/anaconda3/envs/neuron/lib/python3.12/site-packages/numpy/core/fromnumeric.py:1229\u001b[0m, in \u001b[0;36margmax\u001b[0;34m(a, axis, out, keepdims)\u001b[0m\n\u001b[1;32m   1142\u001b[0m \u001b[38;5;250m\u001b[39m\u001b[38;5;124;03m\"\"\"\u001b[39;00m\n\u001b[1;32m   1143\u001b[0m \u001b[38;5;124;03mReturns the indices of the maximum values along an axis.\u001b[39;00m\n\u001b[1;32m   1144\u001b[0m \n\u001b[0;32m   (...)\u001b[0m\n\u001b[1;32m   1226\u001b[0m \u001b[38;5;124;03m(2, 1, 4)\u001b[39;00m\n\u001b[1;32m   1227\u001b[0m \u001b[38;5;124;03m\"\"\"\u001b[39;00m\n\u001b[1;32m   1228\u001b[0m kwds \u001b[38;5;241m=\u001b[39m {\u001b[38;5;124m'\u001b[39m\u001b[38;5;124mkeepdims\u001b[39m\u001b[38;5;124m'\u001b[39m: keepdims} \u001b[38;5;28;01mif\u001b[39;00m keepdims \u001b[38;5;129;01mis\u001b[39;00m \u001b[38;5;129;01mnot\u001b[39;00m np\u001b[38;5;241m.\u001b[39m_NoValue \u001b[38;5;28;01melse\u001b[39;00m {}\n\u001b[0;32m-> 1229\u001b[0m \u001b[38;5;28;01mreturn\u001b[39;00m \u001b[43m_wrapfunc\u001b[49m\u001b[43m(\u001b[49m\u001b[43ma\u001b[49m\u001b[43m,\u001b[49m\u001b[43m \u001b[49m\u001b[38;5;124;43m'\u001b[39;49m\u001b[38;5;124;43margmax\u001b[39;49m\u001b[38;5;124;43m'\u001b[39;49m\u001b[43m,\u001b[49m\u001b[43m \u001b[49m\u001b[43maxis\u001b[49m\u001b[38;5;241;43m=\u001b[39;49m\u001b[43maxis\u001b[49m\u001b[43m,\u001b[49m\u001b[43m \u001b[49m\u001b[43mout\u001b[49m\u001b[38;5;241;43m=\u001b[39;49m\u001b[43mout\u001b[49m\u001b[43m,\u001b[49m\u001b[43m \u001b[49m\u001b[38;5;241;43m*\u001b[39;49m\u001b[38;5;241;43m*\u001b[39;49m\u001b[43mkwds\u001b[49m\u001b[43m)\u001b[49m\n",
      "File \u001b[0;32m~/anaconda3/envs/neuron/lib/python3.12/site-packages/numpy/core/fromnumeric.py:59\u001b[0m, in \u001b[0;36m_wrapfunc\u001b[0;34m(obj, method, *args, **kwds)\u001b[0m\n\u001b[1;32m     56\u001b[0m     \u001b[38;5;28;01mreturn\u001b[39;00m _wrapit(obj, method, \u001b[38;5;241m*\u001b[39margs, \u001b[38;5;241m*\u001b[39m\u001b[38;5;241m*\u001b[39mkwds)\n\u001b[1;32m     58\u001b[0m \u001b[38;5;28;01mtry\u001b[39;00m:\n\u001b[0;32m---> 59\u001b[0m     \u001b[38;5;28;01mreturn\u001b[39;00m \u001b[43mbound\u001b[49m\u001b[43m(\u001b[49m\u001b[38;5;241;43m*\u001b[39;49m\u001b[43margs\u001b[49m\u001b[43m,\u001b[49m\u001b[43m \u001b[49m\u001b[38;5;241;43m*\u001b[39;49m\u001b[38;5;241;43m*\u001b[39;49m\u001b[43mkwds\u001b[49m\u001b[43m)\u001b[49m\n\u001b[1;32m     60\u001b[0m \u001b[38;5;28;01mexcept\u001b[39;00m \u001b[38;5;167;01mTypeError\u001b[39;00m:\n\u001b[1;32m     61\u001b[0m     \u001b[38;5;66;03m# A TypeError occurs if the object does have such a method in its\u001b[39;00m\n\u001b[1;32m     62\u001b[0m     \u001b[38;5;66;03m# class, but its signature is not identical to that of NumPy's. This\u001b[39;00m\n\u001b[0;32m   (...)\u001b[0m\n\u001b[1;32m     66\u001b[0m     \u001b[38;5;66;03m# Call _wrapit from within the except clause to ensure a potential\u001b[39;00m\n\u001b[1;32m     67\u001b[0m     \u001b[38;5;66;03m# exception has a traceback chain.\u001b[39;00m\n\u001b[1;32m     68\u001b[0m     \u001b[38;5;28;01mreturn\u001b[39;00m _wrapit(obj, method, \u001b[38;5;241m*\u001b[39margs, \u001b[38;5;241m*\u001b[39m\u001b[38;5;241m*\u001b[39mkwds)\n",
      "\u001b[0;31mValueError\u001b[0m: attempt to get argmax of an empty sequence"
     ]
    }
   ],
   "source": [
    "sim_id = \"VALD-PRED-NET-S-s-1a\"\n",
    "x = np.arange(0,raw_data[f\"{sim_id}\"][\"params\"][\"sim_dur\"],raw_data[f\"{sim_id}\"][\"params\"][\"recorder_dt\"])\n",
    "start=13900\n",
    "end=raw_data[f\"{sim_id}\"][\"stell_spks\"][cell_to_analyse][132]\n",
    "idx=np.argmax(filtered[int((start/0.25)):int(((end)/0.25))])\n",
    "peak1=x[int((start/0.25)):int(((end)/0.25))][idx]\n",
    "print(peak1)\n",
    "\n",
    "start=raw_data[f\"{sim_id}\"][\"stell_spks\"][cell_to_analyse][151]\n",
    "end=raw_data[f\"{sim_id}\"][\"stell_spks\"][cell_to_analyse][152]\n",
    "idx=np.argmax(filtered[int((start/0.25)):int(((end)/0.25))])\n",
    "peak2=x[int((start/0.25)):int(((end)/0.25))][idx]\n",
    "print(peak2)\n",
    "\n",
    "start=raw_data[f\"{sim_id}\"][\"stell_spks\"][cell_to_analyse][171]\n",
    "end=20100-20\n",
    "idx=np.argmax(filtered[int((start/0.25)):int(((end)/0.25))])\n",
    "peak3=x[int((start/0.25)):int(((end)/0.25))][idx]\n",
    "print(peak3)"
   ]
  },
  {
   "cell_type": "code",
   "execution_count": 19,
   "id": "6631022f",
   "metadata": {},
   "outputs": [
    {
     "ename": "NameError",
     "evalue": "name 'peak1' is not defined",
     "output_type": "error",
     "traceback": [
      "\u001b[0;31m---------------------------------------------------------------------------\u001b[0m",
      "\u001b[0;31mNameError\u001b[0m                                 Traceback (most recent call last)",
      "Cell \u001b[0;32mIn[19], line 1\u001b[0m\n\u001b[0;32m----> 1\u001b[0m diff1\u001b[38;5;241m=\u001b[39m(raw_data[\u001b[38;5;124mf\u001b[39m\u001b[38;5;124m\"\u001b[39m\u001b[38;5;132;01m{\u001b[39;00msim_id\u001b[38;5;132;01m}\u001b[39;00m\u001b[38;5;124m\"\u001b[39m][\u001b[38;5;124m\"\u001b[39m\u001b[38;5;124mstell_spks\u001b[39m\u001b[38;5;124m\"\u001b[39m][cell_to_analyse][\u001b[38;5;241m132\u001b[39m]\u001b[38;5;241m-\u001b[39m\u001b[43mpeak1\u001b[49m)\n\u001b[1;32m      2\u001b[0m diff2\u001b[38;5;241m=\u001b[39m(peak2\u001b[38;5;241m-\u001b[39mraw_data[\u001b[38;5;124mf\u001b[39m\u001b[38;5;124m\"\u001b[39m\u001b[38;5;132;01m{\u001b[39;00msim_id\u001b[38;5;132;01m}\u001b[39;00m\u001b[38;5;124m\"\u001b[39m][\u001b[38;5;124m\"\u001b[39m\u001b[38;5;124mstell_spks\u001b[39m\u001b[38;5;124m\"\u001b[39m][cell_to_analyse][\u001b[38;5;241m151\u001b[39m])\n\u001b[1;32m      3\u001b[0m \u001b[38;5;28mprint\u001b[39m(\u001b[38;5;28mround\u001b[39m(diff1),\u001b[38;5;28mround\u001b[39m(diff2))\n",
      "\u001b[0;31mNameError\u001b[0m: name 'peak1' is not defined"
     ]
    }
   ],
   "source": [
    "diff1=(raw_data[f\"{sim_id}\"][\"stell_spks\"][cell_to_analyse][132]-peak1)\n",
    "diff2=(peak2-raw_data[f\"{sim_id}\"][\"stell_spks\"][cell_to_analyse][151])\n",
    "print(round(diff1),round(diff2))\n",
    "\n",
    "diff3=(raw_data[f\"{sim_id}\"][\"stell_spks\"][cell_to_analyse][152]-peak2)\n",
    "diff4=(peak3-raw_data[f\"{sim_id}\"][\"stell_spks\"][cell_to_analyse][171])\n",
    "print(round(diff3),round(diff4))"
   ]
  },
  {
   "cell_type": "code",
   "execution_count": 18,
   "id": "0d766c4a",
   "metadata": {},
   "outputs": [
    {
     "ename": "NameError",
     "evalue": "name 'peak1' is not defined",
     "output_type": "error",
     "traceback": [
      "\u001b[0;31m---------------------------------------------------------------------------\u001b[0m",
      "\u001b[0;31mNameError\u001b[0m                                 Traceback (most recent call last)",
      "Cell \u001b[0;32mIn[18], line 8\u001b[0m\n\u001b[1;32m      5\u001b[0m x \u001b[38;5;241m=\u001b[39m np\u001b[38;5;241m.\u001b[39marange(\u001b[38;5;241m0\u001b[39m,raw_data[\u001b[38;5;124mf\u001b[39m\u001b[38;5;124m\"\u001b[39m\u001b[38;5;132;01m{\u001b[39;00msim_id\u001b[38;5;132;01m}\u001b[39;00m\u001b[38;5;124m\"\u001b[39m][\u001b[38;5;124m\"\u001b[39m\u001b[38;5;124mparams\u001b[39m\u001b[38;5;124m\"\u001b[39m][\u001b[38;5;124m\"\u001b[39m\u001b[38;5;124msim_dur\u001b[39m\u001b[38;5;124m\"\u001b[39m],raw_data[\u001b[38;5;124mf\u001b[39m\u001b[38;5;124m\"\u001b[39m\u001b[38;5;132;01m{\u001b[39;00msim_id\u001b[38;5;132;01m}\u001b[39;00m\u001b[38;5;124m\"\u001b[39m][\u001b[38;5;124m\"\u001b[39m\u001b[38;5;124mparams\u001b[39m\u001b[38;5;124m\"\u001b[39m][\u001b[38;5;124m\"\u001b[39m\u001b[38;5;124mrecorder_dt\u001b[39m\u001b[38;5;124m\"\u001b[39m])\n\u001b[1;32m      6\u001b[0m fig,axs \u001b[38;5;241m=\u001b[39m plt\u001b[38;5;241m.\u001b[39msubplots(\u001b[38;5;241m1\u001b[39m,\u001b[38;5;241m1\u001b[39m,figsize\u001b[38;5;241m=\u001b[39m(\u001b[38;5;241m2.375\u001b[39m,\u001b[38;5;241m0.82\u001b[39m))\n\u001b[0;32m----> 8\u001b[0m axs\u001b[38;5;241m.\u001b[39maxvline(x\u001b[38;5;241m=\u001b[39m\u001b[43mpeak1\u001b[49m,linestyle\u001b[38;5;241m=\u001b[39m\u001b[38;5;124m\"\u001b[39m\u001b[38;5;124m--\u001b[39m\u001b[38;5;124m\"\u001b[39m)\n\u001b[1;32m      9\u001b[0m axs\u001b[38;5;241m.\u001b[39maxvline(x\u001b[38;5;241m=\u001b[39mpeak2,linestyle\u001b[38;5;241m=\u001b[39m\u001b[38;5;124m\"\u001b[39m\u001b[38;5;124m--\u001b[39m\u001b[38;5;124m\"\u001b[39m)\n\u001b[1;32m     10\u001b[0m axs\u001b[38;5;241m.\u001b[39maxvline(x\u001b[38;5;241m=\u001b[39mpeak3,linestyle\u001b[38;5;241m=\u001b[39m\u001b[38;5;124m\"\u001b[39m\u001b[38;5;124m--\u001b[39m\u001b[38;5;124m\"\u001b[39m)\n",
      "\u001b[0;31mNameError\u001b[0m: name 'peak1' is not defined"
     ]
    },
    {
     "data": {
      "image/png": "[encoded data removed]",
      "text/plain": [
       "<Figure size 237.5x82 with 1 Axes>"
      ]
     },
     "metadata": {},
     "output_type": "display_data"
    }
   ],
   "source": [
    "%matplotlib inline\n",
    "cell_to_analyse = 96\n",
    "plt.style.use(\"analysis/config/paper.mplstyle\")\n",
    "sim_id = \"VALD-PRED-NET-S-s-1a\"\n",
    "x = np.arange(0,raw_data[f\"{sim_id}\"][\"params\"][\"sim_dur\"],raw_data[f\"{sim_id}\"][\"params\"][\"recorder_dt\"])\n",
    "fig,axs = plt.subplots(1,1,figsize=(2.375,0.82))\n",
    "\n",
    "axs.axvline(x=peak1,linestyle=\"--\")\n",
    "axs.axvline(x=peak2,linestyle=\"--\")\n",
    "axs.axvline(x=peak3,linestyle=\"--\")\n",
    "\n",
    "axs.axvline(x=raw_data[f\"{sim_id}\"][\"stell_spks\"][cell_to_analyse][132],linestyle=\"--\",c=\"#474747\")\n",
    "axs.axvline(x=raw_data[f\"{sim_id}\"][\"stell_spks\"][cell_to_analyse][152],linestyle=\"--\",c=\"#474747\")\n",
    "axs.axvline(x=raw_data[f\"{sim_id}\"][\"stell_spks\"][cell_to_analyse][151],linestyle=\"--\",c=\"#474747\")\n",
    "axs.axvline(x=raw_data[f\"{sim_id}\"][\"stell_spks\"][cell_to_analyse][171],linestyle=\"--\",c=\"#474747\")\n",
    "axs.plot(x,raw_data[f\"{sim_id}\"][\"stell_syn_inhib_g\"],c=\"black\",linewidth=0.75)\n",
    "axs.eventplot(raw_data[f\"{sim_id}\"][\"stell_spks\"][cell_to_analyse],linelengths=0.0008,linewidth=0.65,lineoffsets=0.001,color=\"red\")\n",
    "\n",
    "axs.set_xlim([13900,17700])\n",
    "axs.set_ylim([-0.0005,0.0055])\n",
    "plt.savefig(f\"analysis/figures/Fig5/Fig5_J_bottom.svg\")"
   ]
  },
  {
   "cell_type": "code",
   "execution_count": 21,
   "id": "180b4a5d",
   "metadata": {},
   "outputs": [
    {
     "name": "stdout",
     "output_type": "stream",
     "text": [
      "1.89e-07\n",
      "2.98e-08\n"
     ]
    }
   ],
   "source": [
    "sim_id = \"VALD-PRED-NET-S-s-1a\"\n",
    "fspk = raw_data[f\"{sim_id}\"][\"stell_spks\"][cell_to_analyse][132].astype(\"int\") #round to recorer dt\n",
    "recorder_dt = raw_data[f\"{sim_id}\"][\"params\"][\"recorder_dt\"]\n",
    "first_spike_inhib_hcn=raw_data[f\"{sim_id}\"][\"stell_syn_inhib_g\"][int(fspk/recorder_dt)]\n",
    "print(f\"{first_spike_inhib_hcn:.2e}\")\n",
    "\n",
    "sim_id = \"VALD-PRED-NET-S-s-1a\"\n",
    "fspk = raw_data[f\"{sim_id}\"][\"stell_spks\"][cell_to_analyse][152].astype(\"int\") #round to recorer dt\n",
    "recorder_dt = raw_data[f\"{sim_id}\"][\"params\"][\"recorder_dt\"]\n",
    "first_spike_inhib_hcn=raw_data[f\"{sim_id}\"][\"stell_syn_inhib_g\"][int(fspk/recorder_dt)]\n",
    "print(f\"{first_spike_inhib_hcn:.2e}\")"
   ]
  },
  {
   "cell_type": "code",
   "execution_count": 22,
   "id": "7a6f143d",
   "metadata": {},
   "outputs": [
    {
     "name": "stdout",
     "output_type": "stream",
     "text": [
      "2.14e-08\n",
      "15257\n",
      "5.03e-06\n"
     ]
    }
   ],
   "source": [
    "sim_id = \"VALD-PRED-NET-S-s-1a\"\n",
    "lspk = raw_data[f\"{sim_id}\"][\"stell_spks\"][cell_to_analyse][151].astype(\"int\")\n",
    "recorder_dt = raw_data[f\"{sim_id}\"][\"params\"][\"recorder_dt\"]\n",
    "last_spike_inhib_hcn=raw_data[f\"{sim_id}\"][\"stell_syn_inhib_g\"][int(lspk/recorder_dt)]\n",
    "print(f\"{last_spike_inhib_hcn:.2e}\")\n",
    "\n",
    "sim_id = \"VALD-PRED-NET-S-s-1a\"\n",
    "lspk = raw_data[f\"{sim_id}\"][\"stell_spks\"][cell_to_analyse][171].astype(\"int\")\n",
    "print(lspk)\n",
    "recorder_dt = raw_data[f\"{sim_id}\"][\"params\"][\"recorder_dt\"]\n",
    "last_spike_inhib_hcn=raw_data[f\"{sim_id}\"][\"stell_syn_inhib_g\"][int(lspk/recorder_dt)]\n",
    "print(f\"{last_spike_inhib_hcn:.2e}\")"
   ]
  },
  {
   "cell_type": "code",
   "execution_count": 23,
   "id": "50da29e5",
   "metadata": {},
   "outputs": [
    {
     "name": "stdout",
     "output_type": "stream",
     "text": [
      "8.721959492855433\n",
      "27.92281388025708\n"
     ]
    },
    {
     "data": {
      "text/plain": [
       "0.5480168773532477"
      ]
     },
     "execution_count": 23,
     "metadata": {},
     "output_type": "execute_result"
    }
   ],
   "source": [
    "sim_id = \"VALD-PRED-NET-S-s-1a\"\n",
    "field_size = a_pred_utils.calc_field_size(raw_data[sim_id][\"stell_spks\"],raw_data[sim_id][\"true_pos\"],raw_data[sim_id][\"params\"],bounds)\n",
    "bias = a_pred_utils.calc_bias_stell_intrnrn(raw_data[sim_id][\"stell_decoded_pos\"],raw_data[sim_id][\"true_pos\"],raw_data[sim_id][\"params\"],bounds)\n",
    "print(bias*100/(2*np.pi))\n",
    "print(np.abs(bias)*100/field_size)\n",
    "np.abs(bias)"
   ]
  },
  {
   "cell_type": "markdown",
   "id": "4722556c",
   "metadata": {},
   "source": [
    "## Network based retrospective bias"
   ]
  },
  {
   "cell_type": "code",
   "execution_count": 5,
   "id": "aabec8d3",
   "metadata": {},
   "outputs": [],
   "source": [
    "\"\"\"\n",
    "Load Data\n",
    "\"\"\"\n",
    "predictive_data={}\n",
    "raw_data={}\n",
    "cell_to_analyse=32\n",
    "sim_id = \"VALD-PRED-NET-S-s-2a\"\n",
    "predictive_data[sim_id]={}\n",
    "raw_data[sim_id]={}\n",
    "params = s_utils.load_sim_params(sim_id)\n",
    "stell_spks_l, intrnrn_spks_l = s_utils.load_spikes(sim_id)\n",
    "true_pos = a_pred_utils.decode_pos_by_intrnrn(intrnrn_spks_l,params,win_size=100)\n",
    "stell_decoded_pos= a_utils.decode_pos(stell_spks_l,params)\n",
    "stell_syn_inhib_g = s_utils.load_data(sim_id,\"stell_syn_inhib_g\",cell_n=cell_to_analyse)\n",
    "bounds = (params[\"extra_params\"][\"dir_change_t\"],int(params[\"sim_dur\"]))\n",
    "raw_data[sim_id][\"stell_spks\"] = stell_spks_l\n",
    "raw_data[sim_id][\"intrnrn_spks\"]=intrnrn_spks_l\n",
    "raw_data[sim_id][\"params\"] =params\n",
    "raw_data[sim_id][\"true_pos\"] =true_pos\n",
    "raw_data[sim_id][\"stell_syn_inhib_g\"] =stell_syn_inhib_g\n",
    "raw_data[sim_id][\"stell_decoded_pos\"] =stell_decoded_pos"
   ]
  },
  {
   "cell_type": "code",
   "execution_count": 10,
   "id": "98f514b6",
   "metadata": {},
   "outputs": [
    {
     "data": {
      "image/png": "[encoded data removed]",
      "text/plain": [
       "<Figure size 210x69 with 1 Axes>"
      ]
     },
     "metadata": {},
     "output_type": "display_data"
    }
   ],
   "source": [
    "plt.style.use(\"analysis/config/paper.mplstyle\")\n",
    "sim_id = \"VALD-PRED-NET-S-s-2a\"\n",
    "fig,axs = plt.subplots(1,1,figsize=(2.1,0.69))\n",
    "\n",
    "win_size=7\n",
    "cell_spks_r = np.array(raw_data[sim_id][\"stell_spks\"][cell_to_analyse])\n",
    "cell_spks_l = np.array(raw_data[sim_id][\"stell_spks\"][cell_to_analyse+raw_data[sim_id][\"params\"][\"N_per_sheet\"]])\n",
    "separate_fields_r = a_pred_utils.remove_uneven_fields(cell_spks_r,(raw_data[sim_id][\"params\"][\"allothetic_dur\"],bounds[0]))\n",
    "separate_fields_l = a_pred_utils.remove_uneven_fields(cell_spks_l,(bounds[0]+raw_data[sim_id][\"params\"][\"allothetic_dur\"],bounds[1]))\n",
    "field_pos_l = a_pred_utils.calculate_field_positions(separate_fields_l,raw_data[sim_id][\"true_pos\"])\n",
    "field_pos_r = a_pred_utils.calculate_field_positions(separate_fields_r,raw_data[sim_id][\"true_pos\"])\n",
    "convoled_l = a_pred_utils.convole_field_pos(field_pos_l,raw_data[sim_id][\"params\"],win_size=win_size)\n",
    "convoled_l=np.mean(convoled_l,axis=0)\n",
    "convoled_l=convoled_l\n",
    "convoled_r = a_pred_utils.convole_field_pos(field_pos_r,raw_data[sim_id][\"params\"],win_size=win_size)\n",
    "convoled_r=np.mean(convoled_r,axis=0)\n",
    "convoled_r=convoled_r\n",
    "pos = np.arange(0,raw_data[sim_id][\"params\"][\"lambda0\"],raw_data[sim_id][\"params\"][\"lambda0\"]/raw_data[sim_id][\"params\"][\"n_phases\"])\n",
    "means = np.mean(np.row_stack((convoled_l,convoled_r)),axis=0)\n",
    "axs.plot(pos,convoled_r/np.max(convoled_r),label=\"Right\")\n",
    "axs.plot(pos,convoled_l/np.max(convoled_l),label=\"Left\")\n",
    "axs.plot(pos,means/np.max(means),label=\"Averaged\",c=\"#474747\")\n",
    "plt.legend(fontsize=6,loc=\"center left\")\n",
    "peak_l=pos[np.argmax(convoled_l)]\n",
    "peak_r=pos[np.argmax(convoled_r)]\n",
    "peak_mean=pos[np.argmax(means)]\n",
    "plt.savefig(f\"analysis/figures/Fig5/Fig5_J.svg\")\n",
    "plt.show()\n"
   ]
  },
  {
   "cell_type": "code",
   "execution_count": 7,
   "id": "78d9f6dc",
   "metadata": {},
   "outputs": [],
   "source": [
    "import h5py\n",
    "\n",
    "sim_id = \"VALD-PRED-INT-S-s-1a\"\n",
    "params = s_utils.load_sim_params(sim_id)\n",
    "center_cell = int(params[\"N_per_sheet\"]/2)\n",
    "with h5py.File(f\"network_configs/connections/saved_matrices/matrix_{params[\"conn_id\"]}_{params[\"matrix_id\"]}.hdf5\",\"r\") as f:\n",
    "    matrx_normal = np.array(f[\"matrix\"])\n",
    "is_out_norm = matrx_normal[params[\"N_stell\"]+center_cell,:params[\"N_per_sheet\"]]\n",
    "\n",
    "sim_id = \"VALD-PRED-NET-S-s-1a\"\n",
    "params = s_utils.load_sim_params(sim_id)\n",
    "with h5py.File(f\"network_configs/connections/saved_matrices/matrix_{params[\"conn_id\"]}_{params[\"matrix_id\"]}.hdf5\",\"r\") as f:\n",
    "    matrx_modified_prosp = np.array(f[\"matrix\"])\n",
    "is_out_prosp = matrx_modified_prosp[params[\"N_stell\"]+center_cell,:params[\"N_per_sheet\"]]\n",
    "\n",
    "sim_id = \"VALD-PRED-NET-S-s-2a\"\n",
    "params = s_utils.load_sim_params(sim_id)\n",
    "with h5py.File(f\"network_configs/connections/saved_matrices/matrix_{params[\"conn_id\"]}_{params[\"matrix_id\"]}.hdf5\",\"r\") as f:\n",
    "    matrx_modified_retro = np.array(f[\"matrix\"])\n",
    "is_out_retro = matrx_modified_retro[params[\"N_stell\"]+center_cell,:params[\"N_per_sheet\"]]\n"
   ]
  },
  {
   "cell_type": "code",
   "execution_count": 14,
   "id": "5bcc3863",
   "metadata": {},
   "outputs": [
    {
     "data": {
      "image/png": "[encoded data removed]",
      "text/plain": [
       "<Figure size 191.9x91 with 3 Axes>"
      ]
     },
     "metadata": {},
     "output_type": "display_data"
    }
   ],
   "source": [
    "plt.style.use(\"analysis/config/paper.mplstyle\")\n",
    "plt.rcParams[\"legend.frameon\"]=True\n",
    "sim_id = \"VALD-PRED-NET-S-s-1a\"\n",
    "x = np.arange(-params[\"N_per_sheet\"]/2,params[\"N_per_sheet\"]/2)\n",
    "fig,axs = plt.subplots(3,1,figsize=(1.769+0.15,0.71+0.2),sharex=True)\n",
    "axs[2].plot(x,is_out_norm/np.max(is_out_norm),label=\"Default\",c=\"k\",linewidth=1)\n",
    "axs[2].set_xlim([-100,120])\n",
    "axs[2].set_ylim([-0.1,1.2])\n",
    "axs[2].legend(loc=\"center right\",fontsize=6,handlelength=1.5,borderpad=0.2,borderaxespad=0,handletextpad=0.5,frameon=False)\n",
    "\n",
    "axs[1].plot(x,is_out_prosp/np.max(is_out_prosp),label=\"Pred.\",c=\"k\",linewidth=1,linestyle=\"dashdot\")\n",
    "axs[1].set_xlim([-100,120])\n",
    "axs[1].set_ylim([-0.1,1.2])\n",
    "\n",
    "axs[1].legend(loc=\"upper right\",fontsize=6,handlelength=1.5,borderpad=0.2,borderaxespad=0,handletextpad=0.5,frameon=False)\n",
    "axs[0].plot(x,is_out_retro/np.max(is_out_retro),label=\"Retro.\",linewidth=1,c=\"k\",linestyle=\"dashed\")\n",
    "axs[0].set_xlim([-100,120])\n",
    "axs[0].set_ylim([-0.1,1.2])\n",
    "axs[0].legend(loc=\"upper right\",fontsize=6,handlelength=1.5,borderpad=0.2,borderaxespad=0,handletextpad=0.5,frameon=False)\n",
    "lines_labels = [ax.get_legend_handles_labels() for ax in fig.axes]\n",
    "lines, labels = [sum(lol, []) for lol in zip(*lines_labels)]\n",
    "plt.savefig(f\"analysis/figures/Fig5/Fig5_G.svg\")\n",
    "\n"
   ]
  },
  {
   "cell_type": "code",
   "execution_count": 15,
   "id": "08e0e2bd",
   "metadata": {},
   "outputs": [
    {
     "name": "stdout",
     "output_type": "stream",
     "text": [
      "0 1 2 3 4 5 6 0 1 2 3 4 5 6 "
     ]
    }
   ],
   "source": [
    "asym_factor_arr = np.linspace(0.1,0.9,9)\n",
    "sim_id = \"VALD-PRED-NET-S-m-1a\"\n",
    "params = s_utils.load_sim_params(sim_id)[\"0\"]\n",
    "bias_prosp = np.full_like(asym_factor_arr,np.nan)\n",
    "n_trials = 1\n",
    "sim_num = 0\n",
    "fact = 2\n",
    "bounds = (params[\"extra_params\"][\"dir_change_t\"],int(params[\"sim_dur\"]))\n",
    "for asym_fact in asym_factor_arr[:7]:\n",
    "    for tr in range(n_trials):\n",
    "        print(sim_num,end=\" \")\n",
    "        stell_spks_l,intrnrn_spks_l=s_utils.load_spikes(sim_id,sim_num=sim_num)\n",
    "        true_pos = a_pred_utils.decode_pos_by_intrnrn(intrnrn_spks_l,params,win_size=80)\n",
    "        stell_decoded = a_utils.decode_pos(stell_spks_l,params)\n",
    "        field_size=a_pred_utils.calc_field_size(stell_spks_l,true_pos,params,bounds)\n",
    "        bias=a_pred_utils.calc_bias_stell_intrnrn(stell_decoded,true_pos,params,bounds)\n",
    "        bias_prosp[sim_num]=(bias/field_size)*100\n",
    "        sim_num+=1\n",
    "\n",
    "asym_factor_arr = np.linspace(0.1,0.9,9)\n",
    "sim_id = \"VALD-PRED-NET-S-m-2a\"\n",
    "\n",
    "params = s_utils.load_sim_params(sim_id)[\"0\"]\n",
    "bias_retro = np.full_like(asym_factor_arr,np.nan)\n",
    "n_trials = 1\n",
    "sim_num = 0\n",
    "fact = 2\n",
    "bounds = (params[\"extra_params\"][\"dir_change_t\"]+params[\"allothetic_dur\"],int(params[\"sim_dur\"]))\n",
    "for asym_fact in asym_factor_arr[:7]:\n",
    "    for tr in range(n_trials):\n",
    "        print(sim_num,end=\" \")\n",
    "        stell_spks_l,intrnrn_spks_l=s_utils.load_spikes(sim_id,sim_num=sim_num)\n",
    "        true_pos = a_pred_utils.decode_pos_by_intrnrn(intrnrn_spks_l,params,win_size=80)\n",
    "        stell_decoded = a_utils.decode_pos(stell_spks_l,params)\n",
    "        field_size=a_pred_utils.calc_field_size(stell_spks_l,true_pos,params,bounds)\n",
    "        bias=a_pred_utils.calc_bias_stell_intrnrn(stell_decoded,true_pos,params,bounds)\n",
    "        bias_retro[sim_num]=(bias/field_size)*100\n",
    "        sim_num+=1\n"
   ]
  },
  {
   "cell_type": "code",
   "execution_count": 16,
   "id": "fe77ad9c",
   "metadata": {},
   "outputs": [
    {
     "data": {
      "image/png": "[encoded data removed]",
      "text/plain": [
       "<Figure size 111.3x82 with 1 Axes>"
      ]
     },
     "metadata": {},
     "output_type": "display_data"
    }
   ],
   "source": [
    "\n",
    "plt.style.use(\"analysis/config/paper.mplstyle\")\n",
    "fig,ax=plt.subplots(1,1,figsize=(1.113,0.820))\n",
    "ax.plot(asym_factor_arr,bias_prosp,marker=\"o\",linestyle=\"dotted\",markersize=2.5,label=\"Predictive kernel\")\n",
    "ax.plot(asym_factor_arr,bias_retro,marker=\"o\",markersize=2.5,linestyle=\"dotted\",label=\"Retrospective kernel\")\n",
    "ax.axhline(y=0,c=\"black\",linestyle=\"solid\")\n",
    "fig.legend(borderpad=0.1,handletextpad=0.4,fontsize=6,loc=\"upper right\",borderaxespad=0.25)\n",
    "plt.savefig(f\"analysis/figures/Fig5/Fig5_I_bottom.svg\")\n"
   ]
  },
  {
   "cell_type": "code",
   "execution_count": 17,
   "id": "7d5d7661",
   "metadata": {},
   "outputs": [
    {
     "data": {
      "image/png": "[encoded data removed]",
      "text/plain": [
       "<Figure size 111.3x82 with 1 Axes>"
      ]
     },
     "metadata": {},
     "output_type": "display_data"
    }
   ],
   "source": [
    "def asymmetric_gaussian(x, N,mu, sigma_left, sigma_right):\n",
    "    return N*np.where(\n",
    "        x < mu,\n",
    "        np.exp(-((x - mu) ** 2) / (2 * sigma_left ** 2)),\n",
    "        np.exp(-((x - mu) ** 2) / (2 * sigma_right ** 2)))\n",
    "x= np.linspace(0,64,1000)\n",
    "is_asym_factor = [1-0.5,1+0.5]\n",
    "stdev=4.157961783\n",
    "kernel=asymmetric_gaussian(x, 1, 32, stdev*is_asym_factor[0],stdev*is_asym_factor[1])\n",
    "kernel_norm=asymmetric_gaussian(x, 1, 32, stdev,stdev)\n",
    "kernel_left= kernel[:500]\n",
    "kernel_right= kernel[500:]\n",
    "plt.style.use(\"analysis/config/paper.mplstyle\")\n",
    "fig,ax=plt.subplots(1,1,figsize=(1.113,0.820))\n",
    "ax.plot(x,kernel_norm,c=\"k\",linestyle=\"dotted\",label=\"Default Kernel\",linewidth=0.75)\n",
    "ax.plot(x[:500],kernel_left,c=\"#0C5DA5\",linewidth=0.75,label=\"Asymmetric Kernel\")\n",
    "ax.plot(x[500:],kernel_right,c=\"#FF2C00\",linewidth=0.75)\n",
    "ax.set_ylim([-0.1,1.4])\n",
    "fig.legend(loc=\"upper right\",fontsize=6,borderpad=0.1,handletextpad=0.4)\n",
    "plt.savefig(f\"analysis/figures/Fig5/Fig5_I_top.svg\")"
   ]
  }
 ],
 "metadata": {
  "kernelspec": {
   "display_name": "neuron",
   "language": "python",
   "name": "python3"
  },
  "language_info": {
   "codemirror_mode": {
    "name": "ipython",
    "version": 3
   },
   "file_extension": ".py",
   "mimetype": "text/x-python",
   "name": "python",
   "nbconvert_exporter": "python",
   "pygments_lexer": "ipython3",
   "version": "3.12.2"
  }
 },
 "nbformat": 4,
 "nbformat_minor": 5
}
