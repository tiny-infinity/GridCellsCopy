{
 "cells": [
  {
   "cell_type": "code",
   "execution_count": 3,
   "id": "df88bd3a",
   "metadata": {},
   "outputs": [
    {
     "name": "stdout",
     "output_type": "stream",
     "text": [
      "/Users/govindrnair/TheoNeuroLab/GridCellsCond\n"
     ]
    }
   ],
   "source": [
    "%cd /Users/govindrnair/TheoNeuroLab/GridCellsCond"
   ]
  },
  {
   "cell_type": "code",
   "execution_count": 4,
   "id": "c0efb8f2",
   "metadata": {},
   "outputs": [],
   "source": [
    "import matplotlib.pyplot as plt\n",
    "import numpy as np\n",
    "from tqdm import tqdm\n",
    "from matplotlib.pyplot import cm\n",
    "import h5py\n",
    "from ratinabox.Environment import Environment\n",
    "from ratinabox.Agent import Agent\n",
    "from scipy import integrate\n",
    "from param import Param"
   ]
  },
  {
   "cell_type": "code",
   "execution_count": 5,
   "id": "06b952ba",
   "metadata": {},
   "outputs": [],
   "source": [
    "params = Param()\n",
    "lambda_0 = params[\"lambda0\"]"
   ]
  },
  {
   "cell_type": "code",
   "execution_count": 6,
   "id": "380794c9",
   "metadata": {},
   "outputs": [
    {
     "name": "stderr",
     "output_type": "stream",
     "text": [
      "100%|██████████| 320001/320001 [00:22<00:00, 14186.67it/s]\n",
      "100%|██████████| 2080001/2080001 [02:27<00:00, 14084.32it/s]\n"
     ]
    }
   ],
   "source": [
    "seed=29\n",
    "np.random.seed(seed)\n",
    "sim_dur_s=60\n",
    "sim_dur_s_init = 8 #initial allothetic trajectory duration\n",
    "allothetic_dur=sim_dur_s_init*1000\n",
    "Env = Environment(\n",
    "        params = {'dimensionality':'1D',\n",
    "                'boundary_conditions':'periodic','scale':lambda_0/100})\n",
    "\n",
    "#generate allothetic trajectory for 8s (fixed position)\n",
    "Ag= Agent(Env,\n",
    "        params = {'dt':0.000025,'speed_mean':0,'speed_std':0}) #0.000025 \n",
    "Ag.pos=[0]\n",
    "for i in tqdm(range(int((sim_dur_s_init/Ag.dt)+1))): \n",
    "        Ag.update()\n",
    "\n",
    "#generate rest of the trajectory\n",
    "Ag.speed_mean= 0.08\n",
    "Ag.speed_std=0.0\n",
    "sim_dur_s_traj = sim_dur_s-sim_dur_s_init\n",
    "for i in tqdm(range(int((sim_dur_s_traj/Ag.dt)+1))): \n",
    "        Ag.update()"
   ]
  },
  {
   "cell_type": "code",
   "execution_count": 7,
   "id": "57b43ca7",
   "metadata": {},
   "outputs": [
    {
     "data": {
      "image/png": "[encoded data removed]",
      "text/plain": [
       "<Figure size 1000x200 with 1 Axes>"
      ]
     },
     "metadata": {},
     "output_type": "display_data"
    }
   ],
   "source": [
    "t=np.array(Ag.history['t'])*1000 #s->ms\n",
    "pos=np.array(Ag.history['pos'])*100 #m-->cm\n",
    "vel=np.array(Ag.history['vel']).ravel()/10 #m/s --> cm/ms\n",
    "traj_start_idx = int((sim_dur_s_init)/0.000025)\n",
    "t=t/1000 #ms-->s\n",
    "vel=vel*1000\n",
    "vel[abs(vel)>10]=10 #pin the velocity to 10 since network saturates around 10 rad/s\n",
    "pos_integrated=integrate.cumulative_trapezoid(vel,t)%(2*np.pi)\n",
    "plt.style.use(\"analysis/config/paper.mplstyle\")\n",
    "plt.figure(figsize=(10,2))\n",
    "plt.scatter(t[:-1],pos_integrated,s=0.5)\n",
    "plt.show()"
   ]
  },
  {
   "cell_type": "code",
   "execution_count": 11,
   "id": "29941a35",
   "metadata": {},
   "outputs": [],
   "source": [
    "#save trajectory\n",
    "traj_id =\"tmod1\"\n",
    "fname=\"input_data/trajectories/traj_{}.hdf5\".format(traj_id)\n",
    "with h5py.File(fname, 'w') as file:\n",
    "    file.create_dataset(\"vel_rinb\",  data=vel,compression='gzip')\n",
    "    file.create_dataset(\"pos_rinb\",data=pos_integrated,compression='gzip')\n",
    "    file.create_dataset(\"t_rinb\",data=t,compression='gzip')\n",
    "    file.attrs.create(\"allothetic_dur\",allothetic_dur)\n",
    "    file.attrs.create(\"traj_dur\",int(sim_dur_s))\n",
    "    file.attrs.create(\"traj_params\",(Ag.speed_mean,Ag.speed_std,Ag.speed_coherence_time,seed))"
   ]
  }
 ],
 "metadata": {
  "kernelspec": {
   "display_name": ".grids",
   "language": "python",
   "name": "python3"
  },
  "language_info": {
   "codemirror_mode": {
    "name": "ipython",
    "version": 3
   },
   "file_extension": ".py",
   "mimetype": "text/x-python",
   "name": "python",
   "nbconvert_exporter": "python",
   "pygments_lexer": "ipython3",
   "version": "3.13.7"
  }
 },
 "nbformat": 4,
 "nbformat_minor": 5
}
