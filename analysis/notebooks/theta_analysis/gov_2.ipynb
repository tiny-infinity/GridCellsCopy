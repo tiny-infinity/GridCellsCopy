{
 "cells": [
  {
   "cell_type": "markdown",
   "id": "51d574dc",
   "metadata": {},
   "source": [
    "Analysis 1.1"
   ]
  },
  {
   "cell_type": "code",
   "execution_count": null,
   "id": "544951fd",
   "metadata": {},
   "outputs": [],
   "source": [
    "import matplotlib.pyplot as plt\n",
    "import numpy as np\n",
    "from tqdm import tqdm\n",
    "from matplotlib.pyplot import cm\n",
    "import h5py\n",
    "from ratinabox.Environment import Environment\n",
    "from ratinabox.Agent import Agent\n",
    "from scipy import integrate\n",
    "from param import Param\n"
   ]
  },
  {
   "cell_type": "code",
   "execution_count": null,
   "id": "0df18a64",
   "metadata": {},
   "outputs": [],
   "source": [
    "params = Param()\n",
    "lambda_0 = params[\"lambda0\"]"
   ]
  },
  {
   "cell_type": "code",
   "execution_count": null,
   "id": "94ae497f",
   "metadata": {},
   "outputs": [],
   "source": [
    "seed=67\n",
    "np.random.seed(seed)\n",
    "sim_dur_s=60\n",
    "sim_dur_s_init = 8 #initial allothetic trajectory duration\n",
    "allothetic_dur=sim_dur_s_init*1000\n",
    "Env = Environment(\n",
    "        params = {'dimensionality':'1D',\n",
    "                'boundary_conditions':'periodic','scale':lambda_0/100})\n",
    "\n",
    "#generate allothetic trajectory for 8s (fixed position)\n",
    "Ag= Agent(Env,\n",
    "        params = {'dt':0.000025,'speed_mean':0,'speed_std':0}) #0.000025 \n",
    "Ag.pos=[0]\n",
    "for i in tqdm(range(int((sim_dur_s_init/Ag.dt)+1))): \n",
    "        Ag.update()\n",
    "\n",
    "#generate rest of the trajectory\n",
    "Ag.speed_mean= 0.08\n",
    "Ag.speed_std=0.00\n",
    "sim_dur_s_traj = sim_dur_s-sim_dur_s_init\n",
    "for i in tqdm(range(int((sim_dur_s_traj/Ag.dt)+1))): \n",
    "        Ag.update()"
   ]
  },
  {
   "cell_type": "code",
   "execution_count": null,
   "id": "bbd0d870",
   "metadata": {},
   "outputs": [],
   "source": [
    "t=np.array(Ag.history['t'])*1000 #s->ms\n",
    "pos=np.array(Ag.history['pos'])*100 #m-->cm\n",
    "vel=np.array(Ag.history['vel']).ravel()/10 #m/s --> cm/ms\n",
    "traj_start_idx = int((sim_dur_s_init)/0.000025)\n",
    "t=t/1000 #ms-->s\n",
    "vel=vel*1000\n",
    "vel[abs(vel)>10]=10 #pin the velocity to 10 since network saturates around 10 rad/s\n",
    "pos_integrated=integrate.cumulative_trapezoid(vel,t)%(2*np.pi)\n",
    "plt.style.use(\"analysis/config/paper.mplstyle\")\n",
    "plt.figure(figsize=(10,2))\n",
    "plt.scatter(t[:-1],pos_integrated,s=0.5)\n",
    "plt.show()"
   ]
  },
  {
   "cell_type": "code",
   "execution_count": null,
   "id": "6bfbb73e",
   "metadata": {},
   "outputs": [],
   "source": [
    "#save trajectory\n",
    "traj_id =\"tmod2\"\n",
    "fname=\"input_data/trajectories/traj_{}.hdf5\".format(traj_id)\n",
    "with h5py.File(fname, 'w') as file:\n",
    "    file.create_dataset(\"vel_rinb\",  data=vel,compression='gzip')\n",
    "    file.create_dataset(\"pos_rinb\",data=pos_integrated,compression='gzip')\n",
    "    file.create_dataset(\"t_rinb\",data=t,compression='gzip')\n",
    "    file.attrs.create(\"allothetic_dur\",allothetic_dur)\n",
    "    file.attrs.create(\"traj_dur\",int(sim_dur_s))\n",
    "    file.attrs.create(\"traj_params\",(Ag.speed_mean,Ag.speed_std,Ag.speed_coherence_time,seed))"
   ]
  },
  {
   "cell_type": "code",
   "execution_count": null,
   "id": "c50b2dad",
   "metadata": {},
   "outputs": [],
   "source": [
    "import matplotlib.pyplot as plt\n",
    "import matplotlib.cm as cm\n",
    "import numpy as np\n",
    "import sim_utils as s_utils\n",
    "import analysis_utils as a_utils\n",
    "from network_configs.instrumentations.trajectory1D import Trajectory1D\n",
    "from scipy import stats\n",
    "import h5py"
   ]
  },
  {
   "cell_type": "code",
   "execution_count": null,
   "id": "0c845fa0",
   "metadata": {},
   "outputs": [],
   "source": [
    "def circular_error(var1,var2):\n",
    "\n",
    "    \"\"\"Calculate the circular error between two angles.\n",
    "\n",
    "    Parameters:\n",
    "        var1 (float or array-like): The first angle in radians.\n",
    "        var2 (float or array-like): The second angle in radians.\n",
    "    Returns:\n",
    "        numpy.ndarray: The minimum absolute difference between the angles\n",
    "    \"\"\"\n",
    "    circum = 2*np.pi\n",
    "    return np.abs(np.min(np.vstack((np.abs(var1-var2),circum-np.abs(var1-var2))),axis=0))"
   ]
  },
  {
   "cell_type": "code",
   "execution_count": null,
   "id": "53a27f86",
   "metadata": {},
   "outputs": [
    {
     "ename": "NameError",
     "evalue": "name 'stats' is not defined",
     "output_type": "error",
     "traceback": [
      "\u001b[31m---------------------------------------------------------------------------\u001b[39m",
      "\u001b[31mNameError\u001b[39m                                 Traceback (most recent call last)",
      "\u001b[36mCell\u001b[39m\u001b[36m \u001b[39m\u001b[32mIn[1]\u001b[39m\u001b[32m, line 27\u001b[39m\n\u001b[32m     24\u001b[39m         decoded_positions[tr,:] = a_utils.decode_pos(stell_spks,params,win_size=\u001b[32m40\u001b[39m,t_start=\u001b[38;5;28mint\u001b[39m(traj.init_allothetic_dur))\n\u001b[32m     25\u001b[39m         sim_num+=\u001b[32m1\u001b[39m\n\u001b[32m---> \u001b[39m\u001b[32m27\u001b[39m decoded_position_mean = \u001b[43mstats\u001b[49m.circmean(decoded_positions,axis=\u001b[32m0\u001b[39m)\n",
      "\u001b[31mNameError\u001b[39m: name 'stats' is not defined"
     ]
    }
   ],
   "source": [
    "def decode_func(sim_id, sim_num, n_trials, sim_dur = float(60000)):\n",
    "    \"\"\"\n",
    "    Take in Sim ID, Number\n",
    "\n",
    "    Return arrays of mean and standard deviation of decoded trajectories\n",
    "    \n",
    "    \"\"\"\n",
    "\n",
    "    params = s_utils.load_sim_params(sim_id=sim_id)[\"0\"]\n",
    "    traj = Trajectory1D(params, save_mem=False)\n",
    "    decoded_positions = np.zeros((n_trials, int(params[\"sim_dur\"] - traj.init_allothetic_dur)))\n",
    "\n",
    "    file_path_stell = f\"data/{sim_id}/stell_spks_{sim_id}.hdf5\"\n",
    "\n",
    "    with h5py.File(file_path_stell, \"r\") as f:\n",
    "        print(\"Top-level groups:\", list(f.keys()))\n",
    "        for grp in f.keys():\n",
    "            print(grp, \"contains:\", list(f[grp].keys()))\n",
    "\n",
    "    for tr in range(n_trials):\n",
    "        print(\"Trial Number \", tr)\n",
    "        stell_spks, _ = s_utils.load_spikes(sim_id, sim_num)\n",
    "        decoded_positions[tr, :] = a_utils.decode_pos(stell_spks, params, win_size=40, t_start=int(traj.init_allothetic_dur))\n",
    "        sim_num += 1\n",
    "\n",
    "    mean_decode_posns = stats.circmean(decoded_positions, axis=0)\n",
    "    std_decode_posns = stats.circstd(decoded_positions, axis=0)\n",
    "    t_ms = np.arange(traj.init_allothetic_dur,params[\"sim_dur\"])\n",
    "    t_ms_idx = (t_ms/0.025).astype('int')\n",
    "    position_input = traj.pos_input[t_ms_idx]\n",
    "    velocity_input = traj.vel_input[t_ms_idx]\n",
    "    t_s= np.linspace(traj.init_allothetic_dur/1000,(params['sim_dur']/1000),len(mean_decode_posns[0]))\n",
    "                     \n",
    "    return mean_decode_posns, std_decode_posns,t_s\n",
    "\n",
    "    "
   ]
  }
 ],
 "metadata": {
  "kernelspec": {
   "display_name": ".grids",
   "language": "python",
   "name": "python3"
  },
  "language_info": {
   "codemirror_mode": {
    "name": "ipython",
    "version": 3
   },
   "file_extension": ".py",
   "mimetype": "text/x-python",
   "name": "python",
   "nbconvert_exporter": "python",
   "pygments_lexer": "ipython3",
   "version": "3.13.7"
  }
 },
 "nbformat": 4,
 "nbformat_minor": 5
}
