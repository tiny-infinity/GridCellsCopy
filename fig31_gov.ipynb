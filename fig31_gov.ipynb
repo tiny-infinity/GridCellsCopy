{
 "cells": [
  {
   "cell_type": "code",
   "execution_count": 10,
   "id": "ec832cc9",
   "metadata": {},
   "outputs": [
    {
     "name": "stdout",
     "output_type": "stream",
     "text": [
      "/Users/govindrnair/TheoNeuroLab/GridCellsCond\n"
     ]
    }
   ],
   "source": [
    "%cd /Users/govindrnair/TheoNeuroLab/GridCellsCond\n",
    "\n",
    "import numpy as np\n",
    "import matplotlib.pyplot as plt\n",
    "import matplotlib.cm as cm\n",
    "from ratinabox import Agent\n",
    "from ratinabox import Environment\n",
    "from tqdm import tqdm\n",
    "from param import Param\n",
    "from scipy import integrate, stats\n",
    "import sim_utils as s_utils\n",
    "import analysis_utils as a_utils\n",
    "from network_configs.instrumentations.trajectory1D import Trajectory1D"
   ]
  },
  {
   "cell_type": "code",
   "execution_count": 11,
   "id": "8d48fa5c",
   "metadata": {},
   "outputs": [],
   "source": [
    "#generate trajectory\n",
    "\n",
    "seed = 68\n",
    "np.random.seed(seed)\n",
    "sim_id='VALD-PI-TRAJ-S-m-1a_no_theta'\n",
    "sim_num=0\n",
    "sim_dur = float(30000)\n",
    "params = s_utils.load_sim_params(sim_id)[\"0\"]\n",
    "lambda_0 = params[\"lambda0\"]\n",
    "traj = Trajectory1D(params,save_mem=False)\n",
    "n_trials=10\n",
    "decoded_postions = np.zeros((n_trials,int(params[\"sim_dur\"]-traj.init_allothetic_dur)))\n",
    "sim_num=0\n",
    "\n",
    "sim_dur_s=30\n",
    "sim_dur_s_init = 8 #initial allothetic trajectory duration\n",
    "allothetic_dur=sim_dur_s_init*1000\n"
   ]
  },
  {
   "cell_type": "code",
   "execution_count": 12,
   "id": "dba19a0a",
   "metadata": {},
   "outputs": [],
   "source": [
    "def circular_error(var1,var2):\n",
    "\n",
    "    \"\"\"Calculate the circular error between two angles.\n",
    "\n",
    "    Parameters:\n",
    "        var1 (float or array-like): The first angle in radians.\n",
    "        var2 (float or array-like): The second angle in radians.\n",
    "    Returns:\n",
    "        numpy.ndarray: The minimum absolute difference between the angles\n",
    "    \"\"\"\n",
    "    circum = 2*np.pi\n",
    "    return np.abs(np.min(np.vstack((np.abs(var1-var2),circum-np.abs(var1-var2))),axis=0))"
   ]
  },
  {
   "cell_type": "code",
   "execution_count": 13,
   "id": "aa8f4899",
   "metadata": {},
   "outputs": [
    {
     "name": "stderr",
     "output_type": "stream",
     "text": [
      "100%|██████████| 320001/320001 [00:24<00:00, 13228.76it/s]\n",
      "100%|██████████| 880001/880001 [01:06<00:00, 13221.97it/s]\n"
     ]
    }
   ],
   "source": [
    "Env = Environment(\n",
    "        params = {'dimensionality':'1D',\n",
    "                'boundary_conditions':'periodic','scale':lambda_0/100})\n",
    "\n",
    "#generate allothetic trajectory for 8s (fixed position)\n",
    "Ag= Agent(Env,\n",
    "        params = {'dt':0.000025,'speed_mean':0,'speed_std':0}) #0.000025 \n",
    "Ag.pos=[0]\n",
    "for i in tqdm(range(int((sim_dur_s_init/Ag.dt)+1))): \n",
    "        Ag.update()\n",
    "\n",
    "#generate rest of the trajectory\n",
    "Ag.speed_mean= 0.08\n",
    "Ag.speed_std=0.08\n",
    "sim_dur_s_traj = sim_dur_s-sim_dur_s_init\n",
    "for i in tqdm(range(int((sim_dur_s_traj/Ag.dt)+1))): \n",
    "        Ag.update()\n"
   ]
  },
  {
   "cell_type": "code",
   "execution_count": 14,
   "id": "d72db378",
   "metadata": {},
   "outputs": [
    {
     "data": {
      "image/png": "[encoded data removed]",
      "text/plain": [
       "<Figure size 1000x200 with 1 Axes>"
      ]
     },
     "metadata": {},
     "output_type": "display_data"
    }
   ],
   "source": [
    "t=np.array(Ag.history['t'])*1000 #s->ms\n",
    "pos=np.array(Ag.history['pos'])*100 #m-->cm\n",
    "vel=np.array(Ag.history['vel']).ravel()/10 #m/s --> cm/ms\n",
    "traj_start_idx = int((sim_dur_s_init)/0.000025)\n",
    "t=t/1000 #ms-->s\n",
    "vel=vel*1000\n",
    "vel[abs(vel)>10]=10 #pin the velocity to 10 since network saturates around 10 rad/s\n",
    "pos_integrated=integrate.cumulative_trapezoid(vel,t)%(2*np.pi)\n",
    "plt.figure(figsize=(10,2))\n",
    "plt.scatter(t[:-1],pos_integrated,s=0.5)\n",
    "plt.show()\n"
   ]
  },
  {
   "cell_type": "markdown",
   "id": "e79c50df",
   "metadata": {},
   "source": [
    "#### Modifying Theta Oscillations\n",
    "\n",
    "We place a \"cue\" at some position on the track. As the rat approaches the cue, the theta oscillations come down in amplitude. \n",
    "\n"
   ]
  },
  {
   "cell_type": "code",
   "execution_count": null,
   "id": "a4608754",
   "metadata": {},
   "outputs": [],
   "source": []
  }
 ],
 "metadata": {
  "kernelspec": {
   "display_name": ".grids",
   "language": "python",
   "name": "python3"
  },
  "language_info": {
   "codemirror_mode": {
    "name": "ipython",
    "version": 3
   },
   "file_extension": ".py",
   "mimetype": "text/x-python",
   "name": "python",
   "nbconvert_exporter": "python",
   "pygments_lexer": "ipython3",
   "version": "3.13.7"
  }
 },
 "nbformat": 4,
 "nbformat_minor": 5
}
